{
  "nbformat": 4,
  "nbformat_minor": 0,
  "metadata": {
    "colab": {
      "name": "ML_project.ipynb",
      "version": "0.3.2",
      "provenance": [],
      "collapsed_sections": []
    },
    "kernelspec": {
      "name": "python3",
      "display_name": "Python 3"
    },
    "accelerator": "GPU"
  },
  "cells": [
    {
      "cell_type": "markdown",
      "metadata": {
        "id": "p_gn9iKakTG8",
        "colab_type": "text"
      },
      "source": [
        "# New York City Taxi Fare Prediction\n",
        "## Team member：¶\n",
        "\n",
        "*   Haoun Guo hg1483\n",
        "*   Da Cai dc4069\n",
        "*   Naisheng Zhang nz862\n",
        "\n",
        "\n",
        "\n"
      ]
    },
    {
      "cell_type": "code",
      "metadata": {
        "id": "w4U1jbiAQyCM",
        "colab_type": "code",
        "outputId": "2a5c0cfa-e5ee-44d2-f135-6cee6d2d245c",
        "colab": {
          "base_uri": "https://localhost:8080/",
          "height": 34
        }
      },
      "source": [
        "import numpy as np\n",
        "import pandas as pd\n",
        "from datetime import datetime\n",
        "import matplotlib.pyplot as plt\n",
        "from sklearn import preprocessing\n",
        "from sklearn.model_selection import train_test_split\n",
        "from keras.models import Sequential\n",
        "from keras.layers import Dense, Dropout, BatchNormalization\n",
        "from keras.callbacks import EarlyStopping\n",
        "from keras import optimizers\n",
        "from keras import regularizers"
      ],
      "execution_count": 0,
      "outputs": [
        {
          "output_type": "stream",
          "text": [
            "Using TensorFlow backend.\n"
          ],
          "name": "stderr"
        }
      ]
    },
    {
      "cell_type": "code",
      "metadata": {
        "id": "Fh0eLPF9R6Cb",
        "colab_type": "code",
        "outputId": "5b395984-b387-4321-c593-14f5187b0033",
        "colab": {
          "base_uri": "https://localhost:8080/",
          "height": 121
        }
      },
      "source": [
        "from google.colab import drive\n",
        "drive.mount('/content/drive')"
      ],
      "execution_count": 0,
      "outputs": [
        {
          "output_type": "stream",
          "text": [
            "Go to this URL in a browser: https://accounts.google.com/o/oauth2/auth?client_id=947318989803-6bn6qk8qdgf4n4g3pfee6491hc0brc4i.apps.googleusercontent.com&redirect_uri=urn%3Aietf%3Awg%3Aoauth%3A2.0%3Aoob&scope=email%20https%3A%2F%2Fwww.googleapis.com%2Fauth%2Fdocs.test%20https%3A%2F%2Fwww.googleapis.com%2Fauth%2Fdrive%20https%3A%2F%2Fwww.googleapis.com%2Fauth%2Fdrive.photos.readonly%20https%3A%2F%2Fwww.googleapis.com%2Fauth%2Fpeopleapi.readonly&response_type=code\n",
            "\n",
            "Enter your authorization code:\n",
            "··········\n",
            "Mounted at /content/drive\n"
          ],
          "name": "stdout"
        }
      ]
    },
    {
      "cell_type": "code",
      "metadata": {
        "id": "Mt_EnmyZUZ9V",
        "colab_type": "code",
        "outputId": "7fc44e07-9b4f-41a0-8e00-90c177458701",
        "colab": {
          "base_uri": "https://localhost:8080/",
          "height": 34
        }
      },
      "source": [
        "import os\n",
        "\n",
        "os.getcwd()\n",
        "os.chdir('/content')\n",
        "os.getcwd()\n",
        "# help(pd.read_csv)"
      ],
      "execution_count": 0,
      "outputs": [
        {
          "output_type": "execute_result",
          "data": {
            "text/plain": [
              "'/content'"
            ]
          },
          "metadata": {
            "tags": []
          },
          "execution_count": 4
        }
      ]
    },
    {
      "cell_type": "code",
      "metadata": {
        "id": "L31om_GkQ6Fv",
        "colab_type": "code",
        "outputId": "32eb08bd-9d0e-4026-ed18-cae9db497910",
        "colab": {
          "base_uri": "https://localhost:8080/",
          "height": 50
        }
      },
      "source": [
        "TRAIN_PATH = 'drive/My Drive/train.csv'\n",
        "TEST_PATH = 'drive/My Drive/test.csv'\n",
        "DATASET_SIZE = 200000\n",
        "# datatypes = {'key': 'str', \n",
        "#               'fare_amount': 'float32',\n",
        "#               'pickup_datetime': 'str', \n",
        "#               'pickup_longitude': 'float32',\n",
        "#               'pickup_latitude': 'float32',\n",
        "#               'dropoff_longitude': 'float32',\n",
        "#               'dropoff_latitude': 'float32',\n",
        "#               'passenger_count': 'uint8'}\n",
        "train = pd.read_csv(TRAIN_PATH, nrows=DATASET_SIZE)\n",
        "test = pd.read_csv(TEST_PATH)\n",
        "train.head()\n",
        "# test=test.drop('key', axis=1)\n",
        "test.head()\n",
        "print('Old size: %d' % len(train))\n",
        "train = train[train.fare_amount>=0]\n",
        "print('New size: %d' % len(train))"
      ],
      "execution_count": 0,
      "outputs": [
        {
          "output_type": "stream",
          "text": [
            "Old size: 200000\n",
            "New size: 199987\n"
          ],
          "name": "stdout"
        }
      ]
    },
    {
      "cell_type": "code",
      "metadata": {
        "id": "WI39Ov6tbA6t",
        "colab_type": "code",
        "outputId": "0b6a16d9-7d84-4068-8bda-d226dec3919b",
        "colab": {
          "base_uri": "https://localhost:8080/",
          "height": 50
        }
      },
      "source": [
        "print('Old size: %d' % len(train))\n",
        "train = train.dropna(how = 'any', axis = 'rows')\n",
        "print('New size: %d' % len(train))"
      ],
      "execution_count": 0,
      "outputs": [
        {
          "output_type": "stream",
          "text": [
            "Old size: 199987\n",
            "New size: 199986\n"
          ],
          "name": "stdout"
        }
      ]
    },
    {
      "cell_type": "code",
      "metadata": {
        "id": "4KHJjkKKcsVU",
        "colab_type": "code",
        "outputId": "9329491f-6137-4fe4-d4b6-0ca44e9a2fcc",
        "colab": {
          "base_uri": "https://localhost:8080/",
          "height": 314
        }
      },
      "source": [
        "train.describe(percentiles=[0.25,0.5,0.75,0.95])"
      ],
      "execution_count": 0,
      "outputs": [
        {
          "output_type": "execute_result",
          "data": {
            "text/html": [
              "<div>\n",
              "<style scoped>\n",
              "    .dataframe tbody tr th:only-of-type {\n",
              "        vertical-align: middle;\n",
              "    }\n",
              "\n",
              "    .dataframe tbody tr th {\n",
              "        vertical-align: top;\n",
              "    }\n",
              "\n",
              "    .dataframe thead th {\n",
              "        text-align: right;\n",
              "    }\n",
              "</style>\n",
              "<table border=\"1\" class=\"dataframe\">\n",
              "  <thead>\n",
              "    <tr style=\"text-align: right;\">\n",
              "      <th></th>\n",
              "      <th>fare_amount</th>\n",
              "      <th>pickup_longitude</th>\n",
              "      <th>pickup_latitude</th>\n",
              "      <th>dropoff_longitude</th>\n",
              "      <th>dropoff_latitude</th>\n",
              "      <th>passenger_count</th>\n",
              "    </tr>\n",
              "  </thead>\n",
              "  <tbody>\n",
              "    <tr>\n",
              "      <th>count</th>\n",
              "      <td>199986.000000</td>\n",
              "      <td>199986.000000</td>\n",
              "      <td>199986.000000</td>\n",
              "      <td>199986.000000</td>\n",
              "      <td>199986.000000</td>\n",
              "      <td>199986.000000</td>\n",
              "    </tr>\n",
              "    <tr>\n",
              "      <th>mean</th>\n",
              "      <td>11.344032</td>\n",
              "      <td>-72.506021</td>\n",
              "      <td>39.922268</td>\n",
              "      <td>-72.518951</td>\n",
              "      <td>39.925729</td>\n",
              "      <td>1.682423</td>\n",
              "    </tr>\n",
              "    <tr>\n",
              "      <th>std</th>\n",
              "      <td>9.836736</td>\n",
              "      <td>11.608497</td>\n",
              "      <td>10.049296</td>\n",
              "      <td>10.723343</td>\n",
              "      <td>6.750746</td>\n",
              "      <td>1.306692</td>\n",
              "    </tr>\n",
              "    <tr>\n",
              "      <th>min</th>\n",
              "      <td>0.000000</td>\n",
              "      <td>-736.550000</td>\n",
              "      <td>-3116.285383</td>\n",
              "      <td>-1251.195890</td>\n",
              "      <td>-1189.615440</td>\n",
              "      <td>0.000000</td>\n",
              "    </tr>\n",
              "    <tr>\n",
              "      <th>25%</th>\n",
              "      <td>6.000000</td>\n",
              "      <td>-73.992050</td>\n",
              "      <td>40.735006</td>\n",
              "      <td>-73.991296</td>\n",
              "      <td>40.734092</td>\n",
              "      <td>1.000000</td>\n",
              "    </tr>\n",
              "    <tr>\n",
              "      <th>50%</th>\n",
              "      <td>8.500000</td>\n",
              "      <td>-73.981743</td>\n",
              "      <td>40.752761</td>\n",
              "      <td>-73.980072</td>\n",
              "      <td>40.753225</td>\n",
              "      <td>1.000000</td>\n",
              "    </tr>\n",
              "    <tr>\n",
              "      <th>75%</th>\n",
              "      <td>12.500000</td>\n",
              "      <td>-73.967070</td>\n",
              "      <td>40.767126</td>\n",
              "      <td>-73.963509</td>\n",
              "      <td>40.768070</td>\n",
              "      <td>2.000000</td>\n",
              "    </tr>\n",
              "    <tr>\n",
              "      <th>95%</th>\n",
              "      <td>30.500000</td>\n",
              "      <td>-73.872123</td>\n",
              "      <td>40.787727</td>\n",
              "      <td>-73.875011</td>\n",
              "      <td>40.793872</td>\n",
              "      <td>5.000000</td>\n",
              "    </tr>\n",
              "    <tr>\n",
              "      <th>max</th>\n",
              "      <td>500.000000</td>\n",
              "      <td>2140.601160</td>\n",
              "      <td>1703.092772</td>\n",
              "      <td>40.851027</td>\n",
              "      <td>404.616667</td>\n",
              "      <td>6.000000</td>\n",
              "    </tr>\n",
              "  </tbody>\n",
              "</table>\n",
              "</div>"
            ],
            "text/plain": [
              "         fare_amount  pickup_longitude  pickup_latitude  dropoff_longitude  \\\n",
              "count  199986.000000     199986.000000    199986.000000      199986.000000   \n",
              "mean       11.344032        -72.506021        39.922268         -72.518951   \n",
              "std         9.836736         11.608497        10.049296          10.723343   \n",
              "min         0.000000       -736.550000     -3116.285383       -1251.195890   \n",
              "25%         6.000000        -73.992050        40.735006         -73.991296   \n",
              "50%         8.500000        -73.981743        40.752761         -73.980072   \n",
              "75%        12.500000        -73.967070        40.767126         -73.963509   \n",
              "95%        30.500000        -73.872123        40.787727         -73.875011   \n",
              "max       500.000000       2140.601160      1703.092772          40.851027   \n",
              "\n",
              "       dropoff_latitude  passenger_count  \n",
              "count     199986.000000    199986.000000  \n",
              "mean          39.925729         1.682423  \n",
              "std            6.750746         1.306692  \n",
              "min        -1189.615440         0.000000  \n",
              "25%           40.734092         1.000000  \n",
              "50%           40.753225         1.000000  \n",
              "75%           40.768070         2.000000  \n",
              "95%           40.793872         5.000000  \n",
              "max          404.616667         6.000000  "
            ]
          },
          "metadata": {
            "tags": []
          },
          "execution_count": 7
        }
      ]
    },
    {
      "cell_type": "code",
      "metadata": {
        "id": "GInhll1IbUA9",
        "colab_type": "code",
        "outputId": "4a4426e0-6b58-4daf-902c-4f6a67f08492",
        "colab": {
          "base_uri": "https://localhost:8080/",
          "height": 229
        }
      },
      "source": [
        "print('Old size: %d' % len(train))\n",
        "# print((train['dropoff_longitude'] ==train['pickup_longitude']))\n",
        "def boundary(df):\n",
        "    # Delimiter lats and lons to NY only\n",
        "    df = df[(-74.5 <= df['pickup_longitude']) & (df['pickup_longitude'] <= -72.8)]\n",
        "    df = df[(-74.5 <= df['dropoff_longitude']) & (df['dropoff_longitude'] <= -72.8)]\n",
        "    df = df[(40.5 <= df['pickup_latitude']) & (df['pickup_latitude'] <= 41.8)]\n",
        "    df = df[(40.5<= df['dropoff_latitude']) & (df['dropoff_latitude'] <= 41.8)]\n",
        "    # Remove possible outliers\n",
        "    df = df[(0 < df['fare_amount']) & (df['fare_amount'] <= 31)]\n",
        "    df=df[df['passenger_count']<=5]\n",
        "    # Remove inconsistent values\n",
        "    df = df[(df['dropoff_longitude'] != df['pickup_longitude'])]\n",
        "    df = df[(df['dropoff_latitude'] != df['pickup_latitude'])]\n",
        "    \n",
        "    return df\n",
        "train_boundary = boundary(train)\n",
        "print('New size: %d' % len(train_boundary))\n",
        "train_boundary.head()"
      ],
      "execution_count": 0,
      "outputs": [
        {
          "output_type": "stream",
          "text": [
            "Old size: 199986\n",
            "New size: 180707\n"
          ],
          "name": "stdout"
        },
        {
          "output_type": "execute_result",
          "data": {
            "text/html": [
              "<div>\n",
              "<style scoped>\n",
              "    .dataframe tbody tr th:only-of-type {\n",
              "        vertical-align: middle;\n",
              "    }\n",
              "\n",
              "    .dataframe tbody tr th {\n",
              "        vertical-align: top;\n",
              "    }\n",
              "\n",
              "    .dataframe thead th {\n",
              "        text-align: right;\n",
              "    }\n",
              "</style>\n",
              "<table border=\"1\" class=\"dataframe\">\n",
              "  <thead>\n",
              "    <tr style=\"text-align: right;\">\n",
              "      <th></th>\n",
              "      <th>key</th>\n",
              "      <th>fare_amount</th>\n",
              "      <th>pickup_datetime</th>\n",
              "      <th>pickup_longitude</th>\n",
              "      <th>pickup_latitude</th>\n",
              "      <th>dropoff_longitude</th>\n",
              "      <th>dropoff_latitude</th>\n",
              "      <th>passenger_count</th>\n",
              "    </tr>\n",
              "  </thead>\n",
              "  <tbody>\n",
              "    <tr>\n",
              "      <th>0</th>\n",
              "      <td>2009-06-15 17:26:21.0000001</td>\n",
              "      <td>4.5</td>\n",
              "      <td>2009-06-15 17:26:21 UTC</td>\n",
              "      <td>-73.844311</td>\n",
              "      <td>40.721319</td>\n",
              "      <td>-73.841610</td>\n",
              "      <td>40.712278</td>\n",
              "      <td>1</td>\n",
              "    </tr>\n",
              "    <tr>\n",
              "      <th>1</th>\n",
              "      <td>2010-01-05 16:52:16.0000002</td>\n",
              "      <td>16.9</td>\n",
              "      <td>2010-01-05 16:52:16 UTC</td>\n",
              "      <td>-74.016048</td>\n",
              "      <td>40.711303</td>\n",
              "      <td>-73.979268</td>\n",
              "      <td>40.782004</td>\n",
              "      <td>1</td>\n",
              "    </tr>\n",
              "    <tr>\n",
              "      <th>2</th>\n",
              "      <td>2011-08-18 00:35:00.00000049</td>\n",
              "      <td>5.7</td>\n",
              "      <td>2011-08-18 00:35:00 UTC</td>\n",
              "      <td>-73.982738</td>\n",
              "      <td>40.761270</td>\n",
              "      <td>-73.991242</td>\n",
              "      <td>40.750562</td>\n",
              "      <td>2</td>\n",
              "    </tr>\n",
              "    <tr>\n",
              "      <th>3</th>\n",
              "      <td>2012-04-21 04:30:42.0000001</td>\n",
              "      <td>7.7</td>\n",
              "      <td>2012-04-21 04:30:42 UTC</td>\n",
              "      <td>-73.987130</td>\n",
              "      <td>40.733143</td>\n",
              "      <td>-73.991567</td>\n",
              "      <td>40.758092</td>\n",
              "      <td>1</td>\n",
              "    </tr>\n",
              "    <tr>\n",
              "      <th>4</th>\n",
              "      <td>2010-03-09 07:51:00.000000135</td>\n",
              "      <td>5.3</td>\n",
              "      <td>2010-03-09 07:51:00 UTC</td>\n",
              "      <td>-73.968095</td>\n",
              "      <td>40.768008</td>\n",
              "      <td>-73.956655</td>\n",
              "      <td>40.783762</td>\n",
              "      <td>1</td>\n",
              "    </tr>\n",
              "  </tbody>\n",
              "</table>\n",
              "</div>"
            ],
            "text/plain": [
              "                             key  fare_amount          pickup_datetime  \\\n",
              "0    2009-06-15 17:26:21.0000001          4.5  2009-06-15 17:26:21 UTC   \n",
              "1    2010-01-05 16:52:16.0000002         16.9  2010-01-05 16:52:16 UTC   \n",
              "2   2011-08-18 00:35:00.00000049          5.7  2011-08-18 00:35:00 UTC   \n",
              "3    2012-04-21 04:30:42.0000001          7.7  2012-04-21 04:30:42 UTC   \n",
              "4  2010-03-09 07:51:00.000000135          5.3  2010-03-09 07:51:00 UTC   \n",
              "\n",
              "   pickup_longitude  pickup_latitude  dropoff_longitude  dropoff_latitude  \\\n",
              "0        -73.844311        40.721319         -73.841610         40.712278   \n",
              "1        -74.016048        40.711303         -73.979268         40.782004   \n",
              "2        -73.982738        40.761270         -73.991242         40.750562   \n",
              "3        -73.987130        40.733143         -73.991567         40.758092   \n",
              "4        -73.968095        40.768008         -73.956655         40.783762   \n",
              "\n",
              "   passenger_count  \n",
              "0                1  \n",
              "1                1  \n",
              "2                2  \n",
              "3                1  \n",
              "4                1  "
            ]
          },
          "metadata": {
            "tags": []
          },
          "execution_count": 8
        }
      ]
    },
    {
      "cell_type": "code",
      "metadata": {
        "id": "Ns6euDXjtnQn",
        "colab_type": "code",
        "colab": {}
      },
      "source": [
        "# test['pickup_datetime'] =  pd.to_datetime(test['pickup_datetime'], format='%Y-%m-%d %H:%M:%S')\n",
        "# print(test['pickup_datetime'])"
      ],
      "execution_count": 0,
      "outputs": []
    },
    {
      "cell_type": "code",
      "metadata": {
        "id": "z4OFXyAteJg9",
        "colab_type": "code",
        "colab": {}
      },
      "source": [
        "def spring(row):\n",
        "    if (row['month'] >=4) and (row['month'] <7):\n",
        "        return 1\n",
        "    else:\n",
        "        return 0  \n",
        "def summer(row):\n",
        "    if (row['month'] >=7) and (row['month'] <10):\n",
        "        return 1\n",
        "    else:\n",
        "        return 0\n",
        "def fall(row):\n",
        "    if (row['month'] >=10) and (row['month'] <=12):\n",
        "        return 1\n",
        "    else:\n",
        "        return 0  \n",
        "def winter(row):\n",
        "    if (row['month'] >=1) and (row['month'] <4):\n",
        "        return 1\n",
        "    else:\n",
        "        return 0  \n",
        " \n",
        "def weekend1(row):\n",
        "    if row['weekday'] < 5:\n",
        "        return 1\n",
        "    else:\n",
        "        return 0\n",
        "\n",
        "def workday1(row):\n",
        "    if row['weekday'] >= 5:\n",
        "        return 1\n",
        "    else:\n",
        "        return 0\n",
        "def late_night (row):\n",
        "    if (row['hour'] <= 6) or (row['hour'] >20):\n",
        "        return 1\n",
        "    else:\n",
        "        return 0\n",
        "def night (row):\n",
        "    if ((row['hour'] <= 20) and (row['hour'] > 16)):\n",
        "        return 1\n",
        "    else:\n",
        "        return 0    \n",
        "def day_time(row):\n",
        "    if (row['hour'] <= 16) and (row['hour'] >6):\n",
        "        return 1\n",
        "    else:\n",
        "        return 0\n",
        "\n",
        "\n",
        "def add_time_features(df):\n",
        "    df['pickup_datetime'] =  pd.to_datetime(df['key'], format='%Y-%m-%d %H:%M:%S')\n",
        "   \n",
        "    df['year'] = df['pickup_datetime'].apply(lambda x: x.year)\n",
        "    df['month'] = df['pickup_datetime'].apply(lambda x: x.month)\n",
        "    df['day'] = df['pickup_datetime'].apply(lambda x: x.day)\n",
        "    df['hour'] = df['pickup_datetime'].apply(lambda x: x.hour)\n",
        "   \n",
        "    df['weekday'] = df['pickup_datetime'].apply(lambda x: x.weekday())\n",
        "    df['spring']=df.apply (lambda x: spring(x), axis=1)\n",
        "    df['summer']=df.apply (lambda x: summer(x), axis=1)\n",
        "    df['fall']=df.apply (lambda x: fall(x), axis=1)\n",
        "    df['winter']=df.apply (lambda x: winter(x), axis=1)\n",
        "    df['workday'] = df.apply(lambda x: workday1(x),axis=1)\n",
        "    df['weekend'] = df.apply(lambda x: weekend1(x), axis=1)\n",
        "    \n",
        "    \n",
        "    df['night'] = df.apply (lambda x: night(x), axis=1)\n",
        "    df['late_night'] = df.apply (lambda x: late_night(x), axis=1)\n",
        "    df['day_time'] = df.apply (lambda x: day_time(x), axis=1)\n",
        "    \n",
        "    # Drop 'pickup_datetime' as we won't need it anymore\n",
        "#     df = df.drop('pickup_datetime', axis=1)\n",
        "    return df\n",
        "#2009-2015"
      ],
      "execution_count": 0,
      "outputs": []
    },
    {
      "cell_type": "code",
      "metadata": {
        "id": "_6InegiXjy8N",
        "colab_type": "code",
        "colab": {}
      },
      "source": [
        ""
      ],
      "execution_count": 0,
      "outputs": []
    },
    {
      "cell_type": "code",
      "metadata": {
        "id": "HYnhs9kffXut",
        "colab_type": "code",
        "outputId": "3449fc13-b05e-48d8-cb2a-9bfed6f5e40c",
        "colab": {
          "base_uri": "https://localhost:8080/",
          "height": 328
        }
      },
      "source": [
        "train_time = add_time_features(train_boundary)\n",
        "\n",
        "train_time.head()\n",
        "# test_time['year'].max()\n"
      ],
      "execution_count": 0,
      "outputs": [
        {
          "output_type": "execute_result",
          "data": {
            "text/html": [
              "<div>\n",
              "<style scoped>\n",
              "    .dataframe tbody tr th:only-of-type {\n",
              "        vertical-align: middle;\n",
              "    }\n",
              "\n",
              "    .dataframe tbody tr th {\n",
              "        vertical-align: top;\n",
              "    }\n",
              "\n",
              "    .dataframe thead th {\n",
              "        text-align: right;\n",
              "    }\n",
              "</style>\n",
              "<table border=\"1\" class=\"dataframe\">\n",
              "  <thead>\n",
              "    <tr style=\"text-align: right;\">\n",
              "      <th></th>\n",
              "      <th>key</th>\n",
              "      <th>fare_amount</th>\n",
              "      <th>pickup_datetime</th>\n",
              "      <th>pickup_longitude</th>\n",
              "      <th>pickup_latitude</th>\n",
              "      <th>dropoff_longitude</th>\n",
              "      <th>dropoff_latitude</th>\n",
              "      <th>passenger_count</th>\n",
              "      <th>year</th>\n",
              "      <th>month</th>\n",
              "      <th>...</th>\n",
              "      <th>weekday</th>\n",
              "      <th>spring</th>\n",
              "      <th>summer</th>\n",
              "      <th>fall</th>\n",
              "      <th>winter</th>\n",
              "      <th>workday</th>\n",
              "      <th>weekend</th>\n",
              "      <th>night</th>\n",
              "      <th>late_night</th>\n",
              "      <th>day_time</th>\n",
              "    </tr>\n",
              "  </thead>\n",
              "  <tbody>\n",
              "    <tr>\n",
              "      <th>0</th>\n",
              "      <td>2009-06-15 17:26:21.0000001</td>\n",
              "      <td>4.5</td>\n",
              "      <td>2009-06-15 17:26:21.000000100</td>\n",
              "      <td>-73.844311</td>\n",
              "      <td>40.721319</td>\n",
              "      <td>-73.841610</td>\n",
              "      <td>40.712278</td>\n",
              "      <td>1</td>\n",
              "      <td>2009</td>\n",
              "      <td>6</td>\n",
              "      <td>...</td>\n",
              "      <td>0</td>\n",
              "      <td>1</td>\n",
              "      <td>0</td>\n",
              "      <td>0</td>\n",
              "      <td>0</td>\n",
              "      <td>0</td>\n",
              "      <td>1</td>\n",
              "      <td>1</td>\n",
              "      <td>0</td>\n",
              "      <td>0</td>\n",
              "    </tr>\n",
              "    <tr>\n",
              "      <th>1</th>\n",
              "      <td>2010-01-05 16:52:16.0000002</td>\n",
              "      <td>16.9</td>\n",
              "      <td>2010-01-05 16:52:16.000000200</td>\n",
              "      <td>-74.016048</td>\n",
              "      <td>40.711303</td>\n",
              "      <td>-73.979268</td>\n",
              "      <td>40.782004</td>\n",
              "      <td>1</td>\n",
              "      <td>2010</td>\n",
              "      <td>1</td>\n",
              "      <td>...</td>\n",
              "      <td>1</td>\n",
              "      <td>0</td>\n",
              "      <td>0</td>\n",
              "      <td>0</td>\n",
              "      <td>1</td>\n",
              "      <td>0</td>\n",
              "      <td>1</td>\n",
              "      <td>0</td>\n",
              "      <td>0</td>\n",
              "      <td>1</td>\n",
              "    </tr>\n",
              "    <tr>\n",
              "      <th>2</th>\n",
              "      <td>2011-08-18 00:35:00.00000049</td>\n",
              "      <td>5.7</td>\n",
              "      <td>2011-08-18 00:35:00.000000490</td>\n",
              "      <td>-73.982738</td>\n",
              "      <td>40.761270</td>\n",
              "      <td>-73.991242</td>\n",
              "      <td>40.750562</td>\n",
              "      <td>2</td>\n",
              "      <td>2011</td>\n",
              "      <td>8</td>\n",
              "      <td>...</td>\n",
              "      <td>3</td>\n",
              "      <td>0</td>\n",
              "      <td>1</td>\n",
              "      <td>0</td>\n",
              "      <td>0</td>\n",
              "      <td>0</td>\n",
              "      <td>1</td>\n",
              "      <td>0</td>\n",
              "      <td>1</td>\n",
              "      <td>0</td>\n",
              "    </tr>\n",
              "    <tr>\n",
              "      <th>3</th>\n",
              "      <td>2012-04-21 04:30:42.0000001</td>\n",
              "      <td>7.7</td>\n",
              "      <td>2012-04-21 04:30:42.000000100</td>\n",
              "      <td>-73.987130</td>\n",
              "      <td>40.733143</td>\n",
              "      <td>-73.991567</td>\n",
              "      <td>40.758092</td>\n",
              "      <td>1</td>\n",
              "      <td>2012</td>\n",
              "      <td>4</td>\n",
              "      <td>...</td>\n",
              "      <td>5</td>\n",
              "      <td>1</td>\n",
              "      <td>0</td>\n",
              "      <td>0</td>\n",
              "      <td>0</td>\n",
              "      <td>1</td>\n",
              "      <td>0</td>\n",
              "      <td>0</td>\n",
              "      <td>1</td>\n",
              "      <td>0</td>\n",
              "    </tr>\n",
              "    <tr>\n",
              "      <th>4</th>\n",
              "      <td>2010-03-09 07:51:00.000000135</td>\n",
              "      <td>5.3</td>\n",
              "      <td>2010-03-09 07:51:00.000000135</td>\n",
              "      <td>-73.968095</td>\n",
              "      <td>40.768008</td>\n",
              "      <td>-73.956655</td>\n",
              "      <td>40.783762</td>\n",
              "      <td>1</td>\n",
              "      <td>2010</td>\n",
              "      <td>3</td>\n",
              "      <td>...</td>\n",
              "      <td>1</td>\n",
              "      <td>0</td>\n",
              "      <td>0</td>\n",
              "      <td>0</td>\n",
              "      <td>1</td>\n",
              "      <td>0</td>\n",
              "      <td>1</td>\n",
              "      <td>0</td>\n",
              "      <td>0</td>\n",
              "      <td>1</td>\n",
              "    </tr>\n",
              "  </tbody>\n",
              "</table>\n",
              "<p>5 rows × 22 columns</p>\n",
              "</div>"
            ],
            "text/plain": [
              "                             key  fare_amount               pickup_datetime  \\\n",
              "0    2009-06-15 17:26:21.0000001          4.5 2009-06-15 17:26:21.000000100   \n",
              "1    2010-01-05 16:52:16.0000002         16.9 2010-01-05 16:52:16.000000200   \n",
              "2   2011-08-18 00:35:00.00000049          5.7 2011-08-18 00:35:00.000000490   \n",
              "3    2012-04-21 04:30:42.0000001          7.7 2012-04-21 04:30:42.000000100   \n",
              "4  2010-03-09 07:51:00.000000135          5.3 2010-03-09 07:51:00.000000135   \n",
              "\n",
              "   pickup_longitude  pickup_latitude  dropoff_longitude  dropoff_latitude  \\\n",
              "0        -73.844311        40.721319         -73.841610         40.712278   \n",
              "1        -74.016048        40.711303         -73.979268         40.782004   \n",
              "2        -73.982738        40.761270         -73.991242         40.750562   \n",
              "3        -73.987130        40.733143         -73.991567         40.758092   \n",
              "4        -73.968095        40.768008         -73.956655         40.783762   \n",
              "\n",
              "   passenger_count  year  month  ...  weekday  spring  summer  fall  winter  \\\n",
              "0                1  2009      6  ...        0       1       0     0       0   \n",
              "1                1  2010      1  ...        1       0       0     0       1   \n",
              "2                2  2011      8  ...        3       0       1     0       0   \n",
              "3                1  2012      4  ...        5       1       0     0       0   \n",
              "4                1  2010      3  ...        1       0       0     0       1   \n",
              "\n",
              "   workday  weekend  night  late_night  day_time  \n",
              "0        0        1      1           0         0  \n",
              "1        0        1      0           0         1  \n",
              "2        0        1      0           1         0  \n",
              "3        1        0      0           1         0  \n",
              "4        0        1      0           0         1  \n",
              "\n",
              "[5 rows x 22 columns]"
            ]
          },
          "metadata": {
            "tags": []
          },
          "execution_count": 11
        }
      ]
    },
    {
      "cell_type": "code",
      "metadata": {
        "id": "jHWiEr_FGHuj",
        "colab_type": "code",
        "outputId": "a3f26ad4-1a83-4e76-f816-33d450400f8d",
        "colab": {
          "base_uri": "https://localhost:8080/",
          "height": 328
        }
      },
      "source": [
        "# test = pd.read_csv(TEST_PATH)\n",
        "test_time = add_time_features(test)\n",
        "test_time.head()"
      ],
      "execution_count": 0,
      "outputs": [
        {
          "output_type": "execute_result",
          "data": {
            "text/html": [
              "<div>\n",
              "<style scoped>\n",
              "    .dataframe tbody tr th:only-of-type {\n",
              "        vertical-align: middle;\n",
              "    }\n",
              "\n",
              "    .dataframe tbody tr th {\n",
              "        vertical-align: top;\n",
              "    }\n",
              "\n",
              "    .dataframe thead th {\n",
              "        text-align: right;\n",
              "    }\n",
              "</style>\n",
              "<table border=\"1\" class=\"dataframe\">\n",
              "  <thead>\n",
              "    <tr style=\"text-align: right;\">\n",
              "      <th></th>\n",
              "      <th>key</th>\n",
              "      <th>pickup_datetime</th>\n",
              "      <th>pickup_longitude</th>\n",
              "      <th>pickup_latitude</th>\n",
              "      <th>dropoff_longitude</th>\n",
              "      <th>dropoff_latitude</th>\n",
              "      <th>passenger_count</th>\n",
              "      <th>year</th>\n",
              "      <th>month</th>\n",
              "      <th>day</th>\n",
              "      <th>...</th>\n",
              "      <th>weekday</th>\n",
              "      <th>spring</th>\n",
              "      <th>summer</th>\n",
              "      <th>fall</th>\n",
              "      <th>winter</th>\n",
              "      <th>workday</th>\n",
              "      <th>weekend</th>\n",
              "      <th>night</th>\n",
              "      <th>late_night</th>\n",
              "      <th>day_time</th>\n",
              "    </tr>\n",
              "  </thead>\n",
              "  <tbody>\n",
              "    <tr>\n",
              "      <th>0</th>\n",
              "      <td>2015-01-27 13:08:24.0000002</td>\n",
              "      <td>2015-01-27 13:08:24.000000200</td>\n",
              "      <td>-73.973320</td>\n",
              "      <td>40.763805</td>\n",
              "      <td>-73.981430</td>\n",
              "      <td>40.743835</td>\n",
              "      <td>1</td>\n",
              "      <td>2015</td>\n",
              "      <td>1</td>\n",
              "      <td>27</td>\n",
              "      <td>...</td>\n",
              "      <td>1</td>\n",
              "      <td>0</td>\n",
              "      <td>0</td>\n",
              "      <td>0</td>\n",
              "      <td>1</td>\n",
              "      <td>0</td>\n",
              "      <td>1</td>\n",
              "      <td>0</td>\n",
              "      <td>0</td>\n",
              "      <td>1</td>\n",
              "    </tr>\n",
              "    <tr>\n",
              "      <th>1</th>\n",
              "      <td>2015-01-27 13:08:24.0000003</td>\n",
              "      <td>2015-01-27 13:08:24.000000300</td>\n",
              "      <td>-73.986862</td>\n",
              "      <td>40.719383</td>\n",
              "      <td>-73.998886</td>\n",
              "      <td>40.739201</td>\n",
              "      <td>1</td>\n",
              "      <td>2015</td>\n",
              "      <td>1</td>\n",
              "      <td>27</td>\n",
              "      <td>...</td>\n",
              "      <td>1</td>\n",
              "      <td>0</td>\n",
              "      <td>0</td>\n",
              "      <td>0</td>\n",
              "      <td>1</td>\n",
              "      <td>0</td>\n",
              "      <td>1</td>\n",
              "      <td>0</td>\n",
              "      <td>0</td>\n",
              "      <td>1</td>\n",
              "    </tr>\n",
              "    <tr>\n",
              "      <th>2</th>\n",
              "      <td>2011-10-08 11:53:44.0000002</td>\n",
              "      <td>2011-10-08 11:53:44.000000200</td>\n",
              "      <td>-73.982524</td>\n",
              "      <td>40.751260</td>\n",
              "      <td>-73.979654</td>\n",
              "      <td>40.746139</td>\n",
              "      <td>1</td>\n",
              "      <td>2011</td>\n",
              "      <td>10</td>\n",
              "      <td>8</td>\n",
              "      <td>...</td>\n",
              "      <td>5</td>\n",
              "      <td>0</td>\n",
              "      <td>0</td>\n",
              "      <td>1</td>\n",
              "      <td>0</td>\n",
              "      <td>1</td>\n",
              "      <td>0</td>\n",
              "      <td>0</td>\n",
              "      <td>0</td>\n",
              "      <td>1</td>\n",
              "    </tr>\n",
              "    <tr>\n",
              "      <th>3</th>\n",
              "      <td>2012-12-01 21:12:12.0000002</td>\n",
              "      <td>2012-12-01 21:12:12.000000200</td>\n",
              "      <td>-73.981160</td>\n",
              "      <td>40.767807</td>\n",
              "      <td>-73.990448</td>\n",
              "      <td>40.751635</td>\n",
              "      <td>1</td>\n",
              "      <td>2012</td>\n",
              "      <td>12</td>\n",
              "      <td>1</td>\n",
              "      <td>...</td>\n",
              "      <td>5</td>\n",
              "      <td>0</td>\n",
              "      <td>0</td>\n",
              "      <td>1</td>\n",
              "      <td>0</td>\n",
              "      <td>1</td>\n",
              "      <td>0</td>\n",
              "      <td>0</td>\n",
              "      <td>1</td>\n",
              "      <td>0</td>\n",
              "    </tr>\n",
              "    <tr>\n",
              "      <th>4</th>\n",
              "      <td>2012-12-01 21:12:12.0000003</td>\n",
              "      <td>2012-12-01 21:12:12.000000300</td>\n",
              "      <td>-73.966046</td>\n",
              "      <td>40.789775</td>\n",
              "      <td>-73.988565</td>\n",
              "      <td>40.744427</td>\n",
              "      <td>1</td>\n",
              "      <td>2012</td>\n",
              "      <td>12</td>\n",
              "      <td>1</td>\n",
              "      <td>...</td>\n",
              "      <td>5</td>\n",
              "      <td>0</td>\n",
              "      <td>0</td>\n",
              "      <td>1</td>\n",
              "      <td>0</td>\n",
              "      <td>1</td>\n",
              "      <td>0</td>\n",
              "      <td>0</td>\n",
              "      <td>1</td>\n",
              "      <td>0</td>\n",
              "    </tr>\n",
              "  </tbody>\n",
              "</table>\n",
              "<p>5 rows × 21 columns</p>\n",
              "</div>"
            ],
            "text/plain": [
              "                           key               pickup_datetime  \\\n",
              "0  2015-01-27 13:08:24.0000002 2015-01-27 13:08:24.000000200   \n",
              "1  2015-01-27 13:08:24.0000003 2015-01-27 13:08:24.000000300   \n",
              "2  2011-10-08 11:53:44.0000002 2011-10-08 11:53:44.000000200   \n",
              "3  2012-12-01 21:12:12.0000002 2012-12-01 21:12:12.000000200   \n",
              "4  2012-12-01 21:12:12.0000003 2012-12-01 21:12:12.000000300   \n",
              "\n",
              "   pickup_longitude  pickup_latitude  dropoff_longitude  dropoff_latitude  \\\n",
              "0        -73.973320        40.763805         -73.981430         40.743835   \n",
              "1        -73.986862        40.719383         -73.998886         40.739201   \n",
              "2        -73.982524        40.751260         -73.979654         40.746139   \n",
              "3        -73.981160        40.767807         -73.990448         40.751635   \n",
              "4        -73.966046        40.789775         -73.988565         40.744427   \n",
              "\n",
              "   passenger_count  year  month  day  ...  weekday  spring  summer  fall  \\\n",
              "0                1  2015      1   27  ...        1       0       0     0   \n",
              "1                1  2015      1   27  ...        1       0       0     0   \n",
              "2                1  2011     10    8  ...        5       0       0     1   \n",
              "3                1  2012     12    1  ...        5       0       0     1   \n",
              "4                1  2012     12    1  ...        5       0       0     1   \n",
              "\n",
              "   winter  workday  weekend  night  late_night  day_time  \n",
              "0       1        0        1      0           0         1  \n",
              "1       1        0        1      0           0         1  \n",
              "2       0        1        0      0           0         1  \n",
              "3       0        1        0      0           1         0  \n",
              "4       0        1        0      0           1         0  \n",
              "\n",
              "[5 rows x 21 columns]"
            ]
          },
          "metadata": {
            "tags": []
          },
          "execution_count": 12
        }
      ]
    },
    {
      "cell_type": "code",
      "metadata": {
        "id": "qoC9n_fQ3dt-",
        "colab_type": "code",
        "colab": {}
      },
      "source": [
        "# test_time"
      ],
      "execution_count": 0,
      "outputs": []
    },
    {
      "cell_type": "code",
      "metadata": {
        "id": "U28zKDyXBMCW",
        "colab_type": "code",
        "colab": {}
      },
      "source": [
        "train_time=train_time.drop(['day','hour','month','key','pickup_datetime','weekday'] , axis=1)\n",
        "test_time=test_time.drop(['day','hour','month','key','pickup_datetime','weekday'] , axis=1)\n"
      ],
      "execution_count": 0,
      "outputs": []
    },
    {
      "cell_type": "code",
      "metadata": {
        "id": "cHUdJkJ-FbUq",
        "colab_type": "code",
        "outputId": "222a0666-c20c-4ec9-be38-672c2a8d8889",
        "colab": {
          "base_uri": "https://localhost:8080/",
          "height": 195
        }
      },
      "source": [
        "test_time.head()"
      ],
      "execution_count": 0,
      "outputs": [
        {
          "output_type": "execute_result",
          "data": {
            "text/html": [
              "<div>\n",
              "<style scoped>\n",
              "    .dataframe tbody tr th:only-of-type {\n",
              "        vertical-align: middle;\n",
              "    }\n",
              "\n",
              "    .dataframe tbody tr th {\n",
              "        vertical-align: top;\n",
              "    }\n",
              "\n",
              "    .dataframe thead th {\n",
              "        text-align: right;\n",
              "    }\n",
              "</style>\n",
              "<table border=\"1\" class=\"dataframe\">\n",
              "  <thead>\n",
              "    <tr style=\"text-align: right;\">\n",
              "      <th></th>\n",
              "      <th>pickup_longitude</th>\n",
              "      <th>pickup_latitude</th>\n",
              "      <th>dropoff_longitude</th>\n",
              "      <th>dropoff_latitude</th>\n",
              "      <th>passenger_count</th>\n",
              "      <th>year</th>\n",
              "      <th>spring</th>\n",
              "      <th>summer</th>\n",
              "      <th>fall</th>\n",
              "      <th>winter</th>\n",
              "      <th>workday</th>\n",
              "      <th>weekend</th>\n",
              "      <th>night</th>\n",
              "      <th>late_night</th>\n",
              "      <th>day_time</th>\n",
              "    </tr>\n",
              "  </thead>\n",
              "  <tbody>\n",
              "    <tr>\n",
              "      <th>0</th>\n",
              "      <td>-73.973320</td>\n",
              "      <td>40.763805</td>\n",
              "      <td>-73.981430</td>\n",
              "      <td>40.743835</td>\n",
              "      <td>1</td>\n",
              "      <td>2015</td>\n",
              "      <td>0</td>\n",
              "      <td>0</td>\n",
              "      <td>0</td>\n",
              "      <td>1</td>\n",
              "      <td>0</td>\n",
              "      <td>1</td>\n",
              "      <td>0</td>\n",
              "      <td>0</td>\n",
              "      <td>1</td>\n",
              "    </tr>\n",
              "    <tr>\n",
              "      <th>1</th>\n",
              "      <td>-73.986862</td>\n",
              "      <td>40.719383</td>\n",
              "      <td>-73.998886</td>\n",
              "      <td>40.739201</td>\n",
              "      <td>1</td>\n",
              "      <td>2015</td>\n",
              "      <td>0</td>\n",
              "      <td>0</td>\n",
              "      <td>0</td>\n",
              "      <td>1</td>\n",
              "      <td>0</td>\n",
              "      <td>1</td>\n",
              "      <td>0</td>\n",
              "      <td>0</td>\n",
              "      <td>1</td>\n",
              "    </tr>\n",
              "    <tr>\n",
              "      <th>2</th>\n",
              "      <td>-73.982524</td>\n",
              "      <td>40.751260</td>\n",
              "      <td>-73.979654</td>\n",
              "      <td>40.746139</td>\n",
              "      <td>1</td>\n",
              "      <td>2011</td>\n",
              "      <td>0</td>\n",
              "      <td>0</td>\n",
              "      <td>1</td>\n",
              "      <td>0</td>\n",
              "      <td>1</td>\n",
              "      <td>0</td>\n",
              "      <td>0</td>\n",
              "      <td>0</td>\n",
              "      <td>1</td>\n",
              "    </tr>\n",
              "    <tr>\n",
              "      <th>3</th>\n",
              "      <td>-73.981160</td>\n",
              "      <td>40.767807</td>\n",
              "      <td>-73.990448</td>\n",
              "      <td>40.751635</td>\n",
              "      <td>1</td>\n",
              "      <td>2012</td>\n",
              "      <td>0</td>\n",
              "      <td>0</td>\n",
              "      <td>1</td>\n",
              "      <td>0</td>\n",
              "      <td>1</td>\n",
              "      <td>0</td>\n",
              "      <td>0</td>\n",
              "      <td>1</td>\n",
              "      <td>0</td>\n",
              "    </tr>\n",
              "    <tr>\n",
              "      <th>4</th>\n",
              "      <td>-73.966046</td>\n",
              "      <td>40.789775</td>\n",
              "      <td>-73.988565</td>\n",
              "      <td>40.744427</td>\n",
              "      <td>1</td>\n",
              "      <td>2012</td>\n",
              "      <td>0</td>\n",
              "      <td>0</td>\n",
              "      <td>1</td>\n",
              "      <td>0</td>\n",
              "      <td>1</td>\n",
              "      <td>0</td>\n",
              "      <td>0</td>\n",
              "      <td>1</td>\n",
              "      <td>0</td>\n",
              "    </tr>\n",
              "  </tbody>\n",
              "</table>\n",
              "</div>"
            ],
            "text/plain": [
              "   pickup_longitude  pickup_latitude  dropoff_longitude  dropoff_latitude  \\\n",
              "0        -73.973320        40.763805         -73.981430         40.743835   \n",
              "1        -73.986862        40.719383         -73.998886         40.739201   \n",
              "2        -73.982524        40.751260         -73.979654         40.746139   \n",
              "3        -73.981160        40.767807         -73.990448         40.751635   \n",
              "4        -73.966046        40.789775         -73.988565         40.744427   \n",
              "\n",
              "   passenger_count  year  spring  summer  fall  winter  workday  weekend  \\\n",
              "0                1  2015       0       0     0       1        0        1   \n",
              "1                1  2015       0       0     0       1        0        1   \n",
              "2                1  2011       0       0     1       0        1        0   \n",
              "3                1  2012       0       0     1       0        1        0   \n",
              "4                1  2012       0       0     1       0        1        0   \n",
              "\n",
              "   night  late_night  day_time  \n",
              "0      0           0         1  \n",
              "1      0           0         1  \n",
              "2      0           0         1  \n",
              "3      0           1         0  \n",
              "4      0           1         0  "
            ]
          },
          "metadata": {
            "tags": []
          },
          "execution_count": 14
        }
      ]
    },
    {
      "cell_type": "code",
      "metadata": {
        "id": "ebvLCnG1DZry",
        "colab_type": "code",
        "outputId": "11a0030e-dda1-412e-8d56-d8882a27ebf5",
        "colab": {
          "base_uri": "https://localhost:8080/",
          "height": 34
        }
      },
      "source": [
        "# help(map)\n",
        "import math\n",
        "math.pi"
      ],
      "execution_count": 0,
      "outputs": [
        {
          "output_type": "execute_result",
          "data": {
            "text/plain": [
              "3.141592653589793"
            ]
          },
          "metadata": {
            "tags": []
          },
          "execution_count": 16
        }
      ]
    },
    {
      "cell_type": "code",
      "metadata": {
        "id": "oLrLDee14DA9",
        "colab_type": "code",
        "outputId": "41504aec-2e68-4e2a-8f15-f17fcbe83b96",
        "colab": {
          "base_uri": "https://localhost:8080/",
          "height": 34
        }
      },
      "source": [
        "# from math import radians, cos, sin, asin, sqrt\n",
        "# def geodistance(lng1,lat1,lng2,lat2):\n",
        "#     lng1, lat1, lng2, lat2 = map(radians, [lng1, lat1, lng2, lat2])\n",
        "#     dlon=lng2-lng1\n",
        "#     dlat=lat2-lat1\n",
        "#     a=np.sin(dlat/2)**2 + np.cos(lat1) * np.cos(lat2) * np.sin(dlon/2)**2 \n",
        "#     dis=2*np.arcsin(np.sqrt(a))*6371*1000\n",
        "#     return dis\n",
        "# a=np.array([1,2,3],[1,2,3],[4,5,6],[4,5,6])\n",
        "import math\n",
        "# from math import radians, cos, sin, asin, sqrt，pi\n",
        "def geodistance(lon1,latt1,lon2,latt2):\n",
        "    lng1=lon1*math.pi/180\n",
        "    lat1=latt1*math.pi/180\n",
        "    lng2=lon2*math.pi/180\n",
        "    lat2=latt2*math.pi/180\n",
        "    dlon=lng2-lng1\n",
        "    dlat=lat2-lat1\n",
        "    a=np.sin(dlat/2)**2 + np.cos(lat1) * np.cos(lat2) * np.sin(dlon/2)**2 \n",
        "    dis=2*np.arcsin(np.sqrt(a))*6371\n",
        "    return dis\n",
        "a=geodistance(-74.0063889,40.7141667,-73.7822222222,40.6441666667)\n",
        "a"
      ],
      "execution_count": 0,
      "outputs": [
        {
          "output_type": "execute_result",
          "data": {
            "text/plain": [
              "20.443095838269418"
            ]
          },
          "metadata": {
            "tags": []
          },
          "execution_count": 29
        }
      ]
    },
    {
      "cell_type": "code",
      "metadata": {
        "id": "aQlC1usT5HMN",
        "colab_type": "code",
        "outputId": "ad76d6a9-c6b7-4ea1-b107-79907aeaca22",
        "colab": {
          "base_uri": "https://localhost:8080/",
          "height": 215
        }
      },
      "source": [
        "train_time.head()"
      ],
      "execution_count": 0,
      "outputs": [
        {
          "output_type": "execute_result",
          "data": {
            "text/html": [
              "<div>\n",
              "<style scoped>\n",
              "    .dataframe tbody tr th:only-of-type {\n",
              "        vertical-align: middle;\n",
              "    }\n",
              "\n",
              "    .dataframe tbody tr th {\n",
              "        vertical-align: top;\n",
              "    }\n",
              "\n",
              "    .dataframe thead th {\n",
              "        text-align: right;\n",
              "    }\n",
              "</style>\n",
              "<table border=\"1\" class=\"dataframe\">\n",
              "  <thead>\n",
              "    <tr style=\"text-align: right;\">\n",
              "      <th></th>\n",
              "      <th>fare_amount</th>\n",
              "      <th>pickup_longitude</th>\n",
              "      <th>pickup_latitude</th>\n",
              "      <th>dropoff_longitude</th>\n",
              "      <th>dropoff_latitude</th>\n",
              "      <th>passenger_count</th>\n",
              "      <th>year</th>\n",
              "      <th>spring</th>\n",
              "      <th>summer</th>\n",
              "      <th>fall</th>\n",
              "      <th>winter</th>\n",
              "      <th>workday</th>\n",
              "      <th>weekend</th>\n",
              "      <th>night</th>\n",
              "      <th>late_night</th>\n",
              "      <th>day_time</th>\n",
              "    </tr>\n",
              "  </thead>\n",
              "  <tbody>\n",
              "    <tr>\n",
              "      <th>0</th>\n",
              "      <td>4.5</td>\n",
              "      <td>-73.844311</td>\n",
              "      <td>40.721319</td>\n",
              "      <td>-73.841610</td>\n",
              "      <td>40.712278</td>\n",
              "      <td>1</td>\n",
              "      <td>2009</td>\n",
              "      <td>1</td>\n",
              "      <td>0</td>\n",
              "      <td>0</td>\n",
              "      <td>0</td>\n",
              "      <td>0</td>\n",
              "      <td>1</td>\n",
              "      <td>1</td>\n",
              "      <td>0</td>\n",
              "      <td>0</td>\n",
              "    </tr>\n",
              "    <tr>\n",
              "      <th>1</th>\n",
              "      <td>16.9</td>\n",
              "      <td>-74.016048</td>\n",
              "      <td>40.711303</td>\n",
              "      <td>-73.979268</td>\n",
              "      <td>40.782004</td>\n",
              "      <td>1</td>\n",
              "      <td>2010</td>\n",
              "      <td>0</td>\n",
              "      <td>0</td>\n",
              "      <td>0</td>\n",
              "      <td>1</td>\n",
              "      <td>0</td>\n",
              "      <td>1</td>\n",
              "      <td>0</td>\n",
              "      <td>0</td>\n",
              "      <td>1</td>\n",
              "    </tr>\n",
              "    <tr>\n",
              "      <th>2</th>\n",
              "      <td>5.7</td>\n",
              "      <td>-73.982738</td>\n",
              "      <td>40.761270</td>\n",
              "      <td>-73.991242</td>\n",
              "      <td>40.750562</td>\n",
              "      <td>2</td>\n",
              "      <td>2011</td>\n",
              "      <td>0</td>\n",
              "      <td>1</td>\n",
              "      <td>0</td>\n",
              "      <td>0</td>\n",
              "      <td>0</td>\n",
              "      <td>1</td>\n",
              "      <td>0</td>\n",
              "      <td>1</td>\n",
              "      <td>0</td>\n",
              "    </tr>\n",
              "    <tr>\n",
              "      <th>3</th>\n",
              "      <td>7.7</td>\n",
              "      <td>-73.987130</td>\n",
              "      <td>40.733143</td>\n",
              "      <td>-73.991567</td>\n",
              "      <td>40.758092</td>\n",
              "      <td>1</td>\n",
              "      <td>2012</td>\n",
              "      <td>1</td>\n",
              "      <td>0</td>\n",
              "      <td>0</td>\n",
              "      <td>0</td>\n",
              "      <td>1</td>\n",
              "      <td>0</td>\n",
              "      <td>0</td>\n",
              "      <td>1</td>\n",
              "      <td>0</td>\n",
              "    </tr>\n",
              "    <tr>\n",
              "      <th>4</th>\n",
              "      <td>5.3</td>\n",
              "      <td>-73.968095</td>\n",
              "      <td>40.768008</td>\n",
              "      <td>-73.956655</td>\n",
              "      <td>40.783762</td>\n",
              "      <td>1</td>\n",
              "      <td>2010</td>\n",
              "      <td>0</td>\n",
              "      <td>0</td>\n",
              "      <td>0</td>\n",
              "      <td>1</td>\n",
              "      <td>0</td>\n",
              "      <td>1</td>\n",
              "      <td>0</td>\n",
              "      <td>0</td>\n",
              "      <td>1</td>\n",
              "    </tr>\n",
              "  </tbody>\n",
              "</table>\n",
              "</div>"
            ],
            "text/plain": [
              "   fare_amount  pickup_longitude  pickup_latitude  dropoff_longitude  \\\n",
              "0          4.5        -73.844311        40.721319         -73.841610   \n",
              "1         16.9        -74.016048        40.711303         -73.979268   \n",
              "2          5.7        -73.982738        40.761270         -73.991242   \n",
              "3          7.7        -73.987130        40.733143         -73.991567   \n",
              "4          5.3        -73.968095        40.768008         -73.956655   \n",
              "\n",
              "   dropoff_latitude  passenger_count  year  spring  summer  fall  winter  \\\n",
              "0         40.712278                1  2009       1       0     0       0   \n",
              "1         40.782004                1  2010       0       0     0       1   \n",
              "2         40.750562                2  2011       0       1     0       0   \n",
              "3         40.758092                1  2012       1       0     0       0   \n",
              "4         40.783762                1  2010       0       0     0       1   \n",
              "\n",
              "   workday  weekend  night  late_night  day_time  \n",
              "0        0        1      1           0         0  \n",
              "1        0        1      0           0         1  \n",
              "2        0        1      0           1         0  \n",
              "3        1        0      0           1         0  \n",
              "4        0        1      0           0         1  "
            ]
          },
          "metadata": {
            "tags": []
          },
          "execution_count": 18
        }
      ]
    },
    {
      "cell_type": "code",
      "metadata": {
        "id": "cNGBAgyH6P-T",
        "colab_type": "code",
        "colab": {}
      },
      "source": [
        "def distance(pickup_lat, pickup_long, dropoff_lat, dropoff_long):\n",
        "    return np.abs(dropoff_lat - pickup_lat) + np.abs(dropoff_long - pickup_long)\n",
        "  \n",
        "def add_distances_features(df):\n",
        "    # Add distances from airpot and downtown\n",
        "    ny = (-74.0063889, 40.7141667)\n",
        "    jfk = (-73.7822222222, 40.6441666667)\n",
        "    ewr = (-74.175, 40.69)\n",
        "    lgr = (-73.87, 40.77)\n",
        "    \n",
        "    lat1 = df['pickup_latitude']\n",
        "    lat2 = df['dropoff_latitude']\n",
        "    lon1 = df['pickup_longitude']\n",
        "    lon2 = df['dropoff_longitude']\n",
        "   \n",
        "#     df['distance'] = distance(lon1,lat1,lon2,lat2)\n",
        "    df['distance']=geodistance(lon1,lat1,lon2,lat2)\n",
        "\n",
        "    \n",
        "    df['downtown_pickup_distance'] = distance(ny[1], ny[0], lat1, lon1)\n",
        "    df['downtown_dropoff_distance'] =distance(ny[1], ny[0], lat2, lon2)\n",
        "    df['jfk_pickup_distance'] = distance(jfk[1], jfk[0], lat1, lon1)\n",
        "    df['jfk_dropoff_distance'] =distance(jfk[1], jfk[0], lat2, lon2)\n",
        "    df['ewr_pickup_distance'] = distance(ewr[1], ewr[0], lat1, lon1)\n",
        "    df['ewr_dropoff_distance'] = distance(ewr[1], ewr[0], lat2, lon2)\n",
        "    df['lgr_pickup_distance'] =distance(lgr[1], lgr[0], lat1, lon1)\n",
        "    df['lgr_dropoff_distance'] = distance(lgr[1], lgr[0], lat2, lon2)\n",
        "    return df"
      ],
      "execution_count": 0,
      "outputs": []
    },
    {
      "cell_type": "code",
      "metadata": {
        "id": "28gbcY8_E60v",
        "colab_type": "code",
        "outputId": "3cb560c1-897c-4dfa-a198-efea7737f731",
        "colab": {
          "base_uri": "https://localhost:8080/",
          "height": 195
        }
      },
      "source": [
        "test_time.head()"
      ],
      "execution_count": 0,
      "outputs": [
        {
          "output_type": "execute_result",
          "data": {
            "text/html": [
              "<div>\n",
              "<style scoped>\n",
              "    .dataframe tbody tr th:only-of-type {\n",
              "        vertical-align: middle;\n",
              "    }\n",
              "\n",
              "    .dataframe tbody tr th {\n",
              "        vertical-align: top;\n",
              "    }\n",
              "\n",
              "    .dataframe thead th {\n",
              "        text-align: right;\n",
              "    }\n",
              "</style>\n",
              "<table border=\"1\" class=\"dataframe\">\n",
              "  <thead>\n",
              "    <tr style=\"text-align: right;\">\n",
              "      <th></th>\n",
              "      <th>pickup_longitude</th>\n",
              "      <th>pickup_latitude</th>\n",
              "      <th>dropoff_longitude</th>\n",
              "      <th>dropoff_latitude</th>\n",
              "      <th>passenger_count</th>\n",
              "      <th>year</th>\n",
              "      <th>spring</th>\n",
              "      <th>summer</th>\n",
              "      <th>fall</th>\n",
              "      <th>winter</th>\n",
              "      <th>workday</th>\n",
              "      <th>weekend</th>\n",
              "      <th>night</th>\n",
              "      <th>late_night</th>\n",
              "      <th>day_time</th>\n",
              "    </tr>\n",
              "  </thead>\n",
              "  <tbody>\n",
              "    <tr>\n",
              "      <th>0</th>\n",
              "      <td>-73.973320</td>\n",
              "      <td>40.763805</td>\n",
              "      <td>-73.981430</td>\n",
              "      <td>40.743835</td>\n",
              "      <td>1</td>\n",
              "      <td>2015</td>\n",
              "      <td>0</td>\n",
              "      <td>0</td>\n",
              "      <td>0</td>\n",
              "      <td>1</td>\n",
              "      <td>0</td>\n",
              "      <td>1</td>\n",
              "      <td>0</td>\n",
              "      <td>0</td>\n",
              "      <td>1</td>\n",
              "    </tr>\n",
              "    <tr>\n",
              "      <th>1</th>\n",
              "      <td>-73.986862</td>\n",
              "      <td>40.719383</td>\n",
              "      <td>-73.998886</td>\n",
              "      <td>40.739201</td>\n",
              "      <td>1</td>\n",
              "      <td>2015</td>\n",
              "      <td>0</td>\n",
              "      <td>0</td>\n",
              "      <td>0</td>\n",
              "      <td>1</td>\n",
              "      <td>0</td>\n",
              "      <td>1</td>\n",
              "      <td>0</td>\n",
              "      <td>0</td>\n",
              "      <td>1</td>\n",
              "    </tr>\n",
              "    <tr>\n",
              "      <th>2</th>\n",
              "      <td>-73.982524</td>\n",
              "      <td>40.751260</td>\n",
              "      <td>-73.979654</td>\n",
              "      <td>40.746139</td>\n",
              "      <td>1</td>\n",
              "      <td>2011</td>\n",
              "      <td>0</td>\n",
              "      <td>0</td>\n",
              "      <td>1</td>\n",
              "      <td>0</td>\n",
              "      <td>1</td>\n",
              "      <td>0</td>\n",
              "      <td>0</td>\n",
              "      <td>0</td>\n",
              "      <td>1</td>\n",
              "    </tr>\n",
              "    <tr>\n",
              "      <th>3</th>\n",
              "      <td>-73.981160</td>\n",
              "      <td>40.767807</td>\n",
              "      <td>-73.990448</td>\n",
              "      <td>40.751635</td>\n",
              "      <td>1</td>\n",
              "      <td>2012</td>\n",
              "      <td>0</td>\n",
              "      <td>0</td>\n",
              "      <td>1</td>\n",
              "      <td>0</td>\n",
              "      <td>1</td>\n",
              "      <td>0</td>\n",
              "      <td>0</td>\n",
              "      <td>1</td>\n",
              "      <td>0</td>\n",
              "    </tr>\n",
              "    <tr>\n",
              "      <th>4</th>\n",
              "      <td>-73.966046</td>\n",
              "      <td>40.789775</td>\n",
              "      <td>-73.988565</td>\n",
              "      <td>40.744427</td>\n",
              "      <td>1</td>\n",
              "      <td>2012</td>\n",
              "      <td>0</td>\n",
              "      <td>0</td>\n",
              "      <td>1</td>\n",
              "      <td>0</td>\n",
              "      <td>1</td>\n",
              "      <td>0</td>\n",
              "      <td>0</td>\n",
              "      <td>1</td>\n",
              "      <td>0</td>\n",
              "    </tr>\n",
              "  </tbody>\n",
              "</table>\n",
              "</div>"
            ],
            "text/plain": [
              "   pickup_longitude  pickup_latitude  dropoff_longitude  dropoff_latitude  \\\n",
              "0        -73.973320        40.763805         -73.981430         40.743835   \n",
              "1        -73.986862        40.719383         -73.998886         40.739201   \n",
              "2        -73.982524        40.751260         -73.979654         40.746139   \n",
              "3        -73.981160        40.767807         -73.990448         40.751635   \n",
              "4        -73.966046        40.789775         -73.988565         40.744427   \n",
              "\n",
              "   passenger_count  year  spring  summer  fall  winter  workday  weekend  \\\n",
              "0                1  2015       0       0     0       1        0        1   \n",
              "1                1  2015       0       0     0       1        0        1   \n",
              "2                1  2011       0       0     1       0        1        0   \n",
              "3                1  2012       0       0     1       0        1        0   \n",
              "4                1  2012       0       0     1       0        1        0   \n",
              "\n",
              "   night  late_night  day_time  \n",
              "0      0           0         1  \n",
              "1      0           0         1  \n",
              "2      0           0         1  \n",
              "3      0           1         0  \n",
              "4      0           1         0  "
            ]
          },
          "metadata": {
            "tags": []
          },
          "execution_count": 20
        }
      ]
    },
    {
      "cell_type": "code",
      "metadata": {
        "id": "ysVCh2N27bZK",
        "colab_type": "code",
        "outputId": "46ed860a-35c9-4b16-d2a5-0dda296392e9",
        "colab": {
          "base_uri": "https://localhost:8080/",
          "height": 244
        }
      },
      "source": [
        "# train_distance = add_distances_features(train_time)\n",
        "test_distance = add_distances_features(test_time)\n"
      ],
      "execution_count": 0,
      "outputs": [
        {
          "output_type": "execute_result",
          "data": {
            "text/html": [
              "<div>\n",
              "<style scoped>\n",
              "    .dataframe tbody tr th:only-of-type {\n",
              "        vertical-align: middle;\n",
              "    }\n",
              "\n",
              "    .dataframe tbody tr th {\n",
              "        vertical-align: top;\n",
              "    }\n",
              "\n",
              "    .dataframe thead th {\n",
              "        text-align: right;\n",
              "    }\n",
              "</style>\n",
              "<table border=\"1\" class=\"dataframe\">\n",
              "  <thead>\n",
              "    <tr style=\"text-align: right;\">\n",
              "      <th></th>\n",
              "      <th>pickup_longitude</th>\n",
              "      <th>pickup_latitude</th>\n",
              "      <th>dropoff_longitude</th>\n",
              "      <th>dropoff_latitude</th>\n",
              "      <th>passenger_count</th>\n",
              "      <th>year</th>\n",
              "      <th>spring</th>\n",
              "      <th>summer</th>\n",
              "      <th>fall</th>\n",
              "      <th>winter</th>\n",
              "      <th>...</th>\n",
              "      <th>day_time</th>\n",
              "      <th>distance</th>\n",
              "      <th>downtown_pickup_distance</th>\n",
              "      <th>downtown_dropoff_distance</th>\n",
              "      <th>jfk_pickup_distance</th>\n",
              "      <th>jfk_dropoff_distance</th>\n",
              "      <th>ewr_pickup_distance</th>\n",
              "      <th>ewr_dropoff_distance</th>\n",
              "      <th>lgr_pickup_distance</th>\n",
              "      <th>lgr_dropoff_distance</th>\n",
              "    </tr>\n",
              "  </thead>\n",
              "  <tbody>\n",
              "    <tr>\n",
              "      <th>0</th>\n",
              "      <td>-73.973320</td>\n",
              "      <td>40.763805</td>\n",
              "      <td>-73.981430</td>\n",
              "      <td>40.743835</td>\n",
              "      <td>1</td>\n",
              "      <td>2015</td>\n",
              "      <td>0</td>\n",
              "      <td>0</td>\n",
              "      <td>0</td>\n",
              "      <td>1</td>\n",
              "      <td>...</td>\n",
              "      <td>1</td>\n",
              "      <td>2.323260</td>\n",
              "      <td>0.082708</td>\n",
              "      <td>0.054628</td>\n",
              "      <td>0.310737</td>\n",
              "      <td>0.298877</td>\n",
              "      <td>0.275485</td>\n",
              "      <td>0.247405</td>\n",
              "      <td>0.109515</td>\n",
              "      <td>0.137595</td>\n",
              "    </tr>\n",
              "    <tr>\n",
              "      <th>1</th>\n",
              "      <td>-73.986862</td>\n",
              "      <td>40.719383</td>\n",
              "      <td>-73.998886</td>\n",
              "      <td>40.739201</td>\n",
              "      <td>1</td>\n",
              "      <td>2015</td>\n",
              "      <td>0</td>\n",
              "      <td>0</td>\n",
              "      <td>0</td>\n",
              "      <td>1</td>\n",
              "      <td>...</td>\n",
              "      <td>1</td>\n",
              "      <td>2.425353</td>\n",
              "      <td>0.024743</td>\n",
              "      <td>0.032537</td>\n",
              "      <td>0.279857</td>\n",
              "      <td>0.311698</td>\n",
              "      <td>0.217521</td>\n",
              "      <td>0.225314</td>\n",
              "      <td>0.167479</td>\n",
              "      <td>0.159686</td>\n",
              "    </tr>\n",
              "    <tr>\n",
              "      <th>2</th>\n",
              "      <td>-73.982524</td>\n",
              "      <td>40.751260</td>\n",
              "      <td>-73.979654</td>\n",
              "      <td>40.746139</td>\n",
              "      <td>1</td>\n",
              "      <td>2011</td>\n",
              "      <td>0</td>\n",
              "      <td>0</td>\n",
              "      <td>1</td>\n",
              "      <td>0</td>\n",
              "      <td>...</td>\n",
              "      <td>1</td>\n",
              "      <td>0.618628</td>\n",
              "      <td>0.060958</td>\n",
              "      <td>0.058707</td>\n",
              "      <td>0.307395</td>\n",
              "      <td>0.299404</td>\n",
              "      <td>0.253736</td>\n",
              "      <td>0.251485</td>\n",
              "      <td>0.131264</td>\n",
              "      <td>0.133515</td>\n",
              "    </tr>\n",
              "    <tr>\n",
              "      <th>3</th>\n",
              "      <td>-73.981160</td>\n",
              "      <td>40.767807</td>\n",
              "      <td>-73.990448</td>\n",
              "      <td>40.751635</td>\n",
              "      <td>1</td>\n",
              "      <td>2012</td>\n",
              "      <td>0</td>\n",
              "      <td>0</td>\n",
              "      <td>1</td>\n",
              "      <td>0</td>\n",
              "      <td>...</td>\n",
              "      <td>0</td>\n",
              "      <td>1.961033</td>\n",
              "      <td>0.078869</td>\n",
              "      <td>0.053409</td>\n",
              "      <td>0.322578</td>\n",
              "      <td>0.315694</td>\n",
              "      <td>0.271647</td>\n",
              "      <td>0.246187</td>\n",
              "      <td>0.113353</td>\n",
              "      <td>0.138813</td>\n",
              "    </tr>\n",
              "    <tr>\n",
              "      <th>4</th>\n",
              "      <td>-73.966046</td>\n",
              "      <td>40.789775</td>\n",
              "      <td>-73.988565</td>\n",
              "      <td>40.744427</td>\n",
              "      <td>1</td>\n",
              "      <td>2012</td>\n",
              "      <td>0</td>\n",
              "      <td>0</td>\n",
              "      <td>1</td>\n",
              "      <td>0</td>\n",
              "      <td>...</td>\n",
              "      <td>0</td>\n",
              "      <td>5.387301</td>\n",
              "      <td>0.115951</td>\n",
              "      <td>0.048084</td>\n",
              "      <td>0.329432</td>\n",
              "      <td>0.306603</td>\n",
              "      <td>0.308729</td>\n",
              "      <td>0.240862</td>\n",
              "      <td>0.115821</td>\n",
              "      <td>0.144138</td>\n",
              "    </tr>\n",
              "  </tbody>\n",
              "</table>\n",
              "<p>5 rows × 24 columns</p>\n",
              "</div>"
            ],
            "text/plain": [
              "   pickup_longitude  pickup_latitude  dropoff_longitude  dropoff_latitude  \\\n",
              "0        -73.973320        40.763805         -73.981430         40.743835   \n",
              "1        -73.986862        40.719383         -73.998886         40.739201   \n",
              "2        -73.982524        40.751260         -73.979654         40.746139   \n",
              "3        -73.981160        40.767807         -73.990448         40.751635   \n",
              "4        -73.966046        40.789775         -73.988565         40.744427   \n",
              "\n",
              "   passenger_count  year  spring  summer  fall  winter  ...  day_time  \\\n",
              "0                1  2015       0       0     0       1  ...         1   \n",
              "1                1  2015       0       0     0       1  ...         1   \n",
              "2                1  2011       0       0     1       0  ...         1   \n",
              "3                1  2012       0       0     1       0  ...         0   \n",
              "4                1  2012       0       0     1       0  ...         0   \n",
              "\n",
              "   distance  downtown_pickup_distance  downtown_dropoff_distance  \\\n",
              "0  2.323260                  0.082708                   0.054628   \n",
              "1  2.425353                  0.024743                   0.032537   \n",
              "2  0.618628                  0.060958                   0.058707   \n",
              "3  1.961033                  0.078869                   0.053409   \n",
              "4  5.387301                  0.115951                   0.048084   \n",
              "\n",
              "   jfk_pickup_distance  jfk_dropoff_distance  ewr_pickup_distance  \\\n",
              "0             0.310737              0.298877             0.275485   \n",
              "1             0.279857              0.311698             0.217521   \n",
              "2             0.307395              0.299404             0.253736   \n",
              "3             0.322578              0.315694             0.271647   \n",
              "4             0.329432              0.306603             0.308729   \n",
              "\n",
              "   ewr_dropoff_distance  lgr_pickup_distance  lgr_dropoff_distance  \n",
              "0              0.247405             0.109515              0.137595  \n",
              "1              0.225314             0.167479              0.159686  \n",
              "2              0.251485             0.131264              0.133515  \n",
              "3              0.246187             0.113353              0.138813  \n",
              "4              0.240862             0.115821              0.144138  \n",
              "\n",
              "[5 rows x 24 columns]"
            ]
          },
          "metadata": {
            "tags": []
          },
          "execution_count": 30
        }
      ]
    },
    {
      "cell_type": "code",
      "metadata": {
        "id": "ugc_MkwlKS7m",
        "colab_type": "code",
        "colab": {}
      },
      "source": [
        "train_distance = add_distances_features(train_time)"
      ],
      "execution_count": 0,
      "outputs": []
    },
    {
      "cell_type": "code",
      "metadata": {
        "id": "ENxuXW-2IRyt",
        "colab_type": "code",
        "outputId": "00d21f24-687c-4d4d-d158-0d66926bf812",
        "colab": {
          "base_uri": "https://localhost:8080/",
          "height": 84
        }
      },
      "source": [
        "print(test_distance['distance'].min())\n",
        "print(test_distance['distance'].max())\n",
        "print(train_distance['distance'].min())\n",
        "print(train_distance['distance'].max())"
      ],
      "execution_count": 0,
      "outputs": [
        {
          "output_type": "stream",
          "text": [
            "0.0\n",
            "99.9960403451414\n",
            "0.00013945256284962794\n",
            "103.40546642859287\n"
          ],
          "name": "stdout"
        }
      ]
    },
    {
      "cell_type": "code",
      "metadata": {
        "id": "VbczqdnnJRef",
        "colab_type": "code",
        "outputId": "873ada1b-4cb3-448e-c49f-33a2e951004e",
        "colab": {
          "base_uri": "https://localhost:8080/",
          "height": 463
        }
      },
      "source": [
        "train_distance.distance.hist(bins=1000, figsize=(12,4))\n",
        "plt.xlabel('distance in km')\n",
        "plt.title(' number')\n",
        "train_distance.distance.describe(percentiles=[0.25,0.5,0.75,0.99])"
      ],
      "execution_count": 0,
      "outputs": [
        {
          "output_type": "execute_result",
          "data": {
            "text/plain": [
              "count    180707.000000\n",
              "mean          2.819708\n",
              "std           2.621193\n",
              "min           0.000139\n",
              "25%           1.251394\n",
              "50%           2.083228\n",
              "75%           3.582004\n",
              "99%          11.207110\n",
              "max         103.405466\n",
              "Name: distance, dtype: float64"
            ]
          },
          "metadata": {
            "tags": []
          },
          "execution_count": 40
        },
        {
          "output_type": "display_data",
          "data": {
            "image/png": "[encoded data removed]",
            "text/plain": [
              "<Figure size 864x288 with 1 Axes>"
            ]
          },
          "metadata": {
            "tags": []
          }
        }
      ]
    },
    {
      "cell_type": "markdown",
      "metadata": {
        "id": "JI0Himg1OJsS",
        "colab_type": "text"
      },
      "source": [
        "去掉实际距离小于10米的记录"
      ]
    },
    {
      "cell_type": "code",
      "metadata": {
        "id": "_sSr2Tl_L5Bp",
        "colab_type": "code",
        "outputId": "f120eed5-f72b-4ea4-f554-4ec301400879",
        "colab": {
          "base_uri": "https://localhost:8080/",
          "height": 50
        }
      },
      "source": [
        "print('Old size: %d' % len(train_distance))\n",
        "train_distance1 = train_distance[train_distance.distance>=0.01]\n",
        "print('New size: %d' % len(train_distance1))"
      ],
      "execution_count": 0,
      "outputs": [
        {
          "output_type": "stream",
          "text": [
            "Old size: 180707\n",
            "New size: 180440\n"
          ],
          "name": "stdout"
        }
      ]
    },
    {
      "cell_type": "markdown",
      "metadata": {
        "id": "mcgf6mQUMwpT",
        "colab_type": "text"
      },
      "source": [
        "根据距离重新划分成0.1-1km,1km-4km,4km-15km,15km~"
      ]
    },
    {
      "cell_type": "code",
      "metadata": {
        "id": "6kBLOZn6MgQ-",
        "colab_type": "code",
        "colab": {}
      },
      "source": [
        "def distance_1km(row):\n",
        "    if row['distance'] <1:\n",
        "        return row['distance']\n",
        "    else:\n",
        "        return 1 \n",
        "def distance_4km(row):\n",
        "    if (row['distance'] >=1) and (row['distance'] <4):\n",
        "        return row['distance']-1\n",
        "    elif row['distance'] <1:\n",
        "        return 0\n",
        "    else:\n",
        "        return 3\n",
        "def distance_15km(row):\n",
        "    if (row['distance'] >=4) and (row['distance'] <15):\n",
        "        return row['distance']-4\n",
        "    elif row['distance'] <4:\n",
        "        return 0\n",
        "    else:\n",
        "        return 11  \n",
        "def distance_long(row):\n",
        "    if row['distance'] >=15:\n",
        "        return row['distance']-15\n",
        "    else:\n",
        "        return 0  \n",
        " \n",
        "\n",
        "def add_distance_filter_features(df):\n",
        "\n",
        "    df['distance_1km']=df.apply (lambda x: distance_1km(x), axis=1)\n",
        "    df['distance_4km']=df.apply (lambda x: distance_4km(x), axis=1)\n",
        "    df['distance_15km']=df.apply (lambda x: distance_15km(x), axis=1)\n",
        "    df['distance_long']=df.apply (lambda x: distance_long(x), axis=1)\n",
        " \n",
        "    \n",
        "    # Drop 'pickup_datetime' as we won't need it anymore\n",
        "#     df = df.drop('pickup_datetime', axis=1)\n",
        "    return df"
      ],
      "execution_count": 0,
      "outputs": []
    },
    {
      "cell_type": "code",
      "metadata": {
        "id": "IEn2Lw68PRIX",
        "colab_type": "code",
        "outputId": "d6f0f2f2-e759-44ec-d0ae-4b5d6569ba69",
        "colab": {
          "base_uri": "https://localhost:8080/",
          "height": 269
        }
      },
      "source": [
        "train_distance2 = add_distance_filter_features(train_distance1)\n"
      ],
      "execution_count": 0,
      "outputs": [
        {
          "output_type": "stream",
          "text": [
            "/usr/local/lib/python3.6/dist-packages/ipykernel_launcher.py:30: SettingWithCopyWarning: \n",
            "A value is trying to be set on a copy of a slice from a DataFrame.\n",
            "Try using .loc[row_indexer,col_indexer] = value instead\n",
            "\n",
            "See the caveats in the documentation: http://pandas.pydata.org/pandas-docs/stable/indexing.html#indexing-view-versus-copy\n",
            "/usr/local/lib/python3.6/dist-packages/ipykernel_launcher.py:31: SettingWithCopyWarning: \n",
            "A value is trying to be set on a copy of a slice from a DataFrame.\n",
            "Try using .loc[row_indexer,col_indexer] = value instead\n",
            "\n",
            "See the caveats in the documentation: http://pandas.pydata.org/pandas-docs/stable/indexing.html#indexing-view-versus-copy\n",
            "/usr/local/lib/python3.6/dist-packages/ipykernel_launcher.py:32: SettingWithCopyWarning: \n",
            "A value is trying to be set on a copy of a slice from a DataFrame.\n",
            "Try using .loc[row_indexer,col_indexer] = value instead\n",
            "\n",
            "See the caveats in the documentation: http://pandas.pydata.org/pandas-docs/stable/indexing.html#indexing-view-versus-copy\n"
          ],
          "name": "stderr"
        }
      ]
    },
    {
      "cell_type": "code",
      "metadata": {
        "id": "0to_U0jCQmIC",
        "colab_type": "code",
        "outputId": "4d7f8c79-b450-4069-9cc4-66895f020437",
        "colab": {
          "base_uri": "https://localhost:8080/",
          "height": 34
        }
      },
      "source": [
        "test_distance2= add_distance_filter_features(test_distance)\n",
        "print(train_distance2.shape,test_distance2.shape)\n",
        "# print(train_distance2['distance'][20:40],train_distance2['distance_1km'][20:40],train_distance2['distance_4km'][20:40],train_distance2['distance_15km'][20:40],train_distance2['distance_long'][20:40])"
      ],
      "execution_count": 0,
      "outputs": [
        {
          "output_type": "stream",
          "text": [
            "(180440, 29) (9914, 28)\n"
          ],
          "name": "stdout"
        }
      ]
    },
    {
      "cell_type": "code",
      "metadata": {
        "id": "DMH-wzgjU0O5",
        "colab_type": "code",
        "outputId": "be1714c4-ec55-4452-d6f3-98adec643496",
        "colab": {
          "base_uri": "https://localhost:8080/",
          "height": 521
        }
      },
      "source": [
        "train_distance2.dtypes"
      ],
      "execution_count": 0,
      "outputs": [
        {
          "output_type": "execute_result",
          "data": {
            "text/plain": [
              "fare_amount                  float64\n",
              "pickup_longitude             float64\n",
              "pickup_latitude              float64\n",
              "dropoff_longitude            float64\n",
              "dropoff_latitude             float64\n",
              "passenger_count                int64\n",
              "year                           int64\n",
              "spring                         int64\n",
              "summer                         int64\n",
              "fall                           int64\n",
              "winter                         int64\n",
              "workday                        int64\n",
              "weekend                        int64\n",
              "night                          int64\n",
              "late_night                     int64\n",
              "day_time                       int64\n",
              "distance                     float64\n",
              "downtown_pickup_distance     float64\n",
              "downtown_dropoff_distance    float64\n",
              "jfk_pickup_distance          float64\n",
              "jfk_dropoff_distance         float64\n",
              "ewr_pickup_distance          float64\n",
              "ewr_dropoff_distance         float64\n",
              "lgr_pickup_distance          float64\n",
              "lgr_dropoff_distance         float64\n",
              "distance_1km                 float64\n",
              "distance_4km                 float64\n",
              "distance_15km                float64\n",
              "distance_long                float64\n",
              "dtype: object"
            ]
          },
          "metadata": {
            "tags": []
          },
          "execution_count": 77
        }
      ]
    },
    {
      "cell_type": "code",
      "metadata": {
        "id": "UMP3dZrr486r",
        "colab_type": "code",
        "outputId": "dd028619-5469-44f8-ada9-6b5ca8c10c0e",
        "colab": {
          "base_uri": "https://localhost:8080/",
          "height": 244
        }
      },
      "source": [
        "# 最后clean\n",
        "dropped_columns = ['pickup_longitude', 'pickup_latitude', 'dropoff_longitude', 'dropoff_latitude','distance']\n",
        "train_clean = train_distance2.drop(dropped_columns, axis=1)\n",
        "test_clean = test_distance2.drop(dropped_columns , axis=1)\n",
        "\n",
        "# peek data\n",
        "train_clean.head()"
      ],
      "execution_count": 0,
      "outputs": [
        {
          "output_type": "execute_result",
          "data": {
            "text/html": [
              "<div>\n",
              "<style scoped>\n",
              "    .dataframe tbody tr th:only-of-type {\n",
              "        vertical-align: middle;\n",
              "    }\n",
              "\n",
              "    .dataframe tbody tr th {\n",
              "        vertical-align: top;\n",
              "    }\n",
              "\n",
              "    .dataframe thead th {\n",
              "        text-align: right;\n",
              "    }\n",
              "</style>\n",
              "<table border=\"1\" class=\"dataframe\">\n",
              "  <thead>\n",
              "    <tr style=\"text-align: right;\">\n",
              "      <th></th>\n",
              "      <th>fare_amount</th>\n",
              "      <th>passenger_count</th>\n",
              "      <th>year</th>\n",
              "      <th>spring</th>\n",
              "      <th>summer</th>\n",
              "      <th>fall</th>\n",
              "      <th>winter</th>\n",
              "      <th>workday</th>\n",
              "      <th>weekend</th>\n",
              "      <th>night</th>\n",
              "      <th>...</th>\n",
              "      <th>jfk_pickup_distance</th>\n",
              "      <th>jfk_dropoff_distance</th>\n",
              "      <th>ewr_pickup_distance</th>\n",
              "      <th>ewr_dropoff_distance</th>\n",
              "      <th>lgr_pickup_distance</th>\n",
              "      <th>lgr_dropoff_distance</th>\n",
              "      <th>distance_1km</th>\n",
              "      <th>distance_4km</th>\n",
              "      <th>distance_15km</th>\n",
              "      <th>distance_long</th>\n",
              "    </tr>\n",
              "  </thead>\n",
              "  <tbody>\n",
              "    <tr>\n",
              "      <th>0</th>\n",
              "      <td>4.5</td>\n",
              "      <td>1</td>\n",
              "      <td>2009</td>\n",
              "      <td>1</td>\n",
              "      <td>0</td>\n",
              "      <td>0</td>\n",
              "      <td>0</td>\n",
              "      <td>0</td>\n",
              "      <td>1</td>\n",
              "      <td>1</td>\n",
              "      <td>...</td>\n",
              "      <td>0.139241</td>\n",
              "      <td>0.127499</td>\n",
              "      <td>0.362008</td>\n",
              "      <td>0.355668</td>\n",
              "      <td>0.074370</td>\n",
              "      <td>0.086112</td>\n",
              "      <td>1.0</td>\n",
              "      <td>0.030764</td>\n",
              "      <td>0.000000</td>\n",
              "      <td>0.0</td>\n",
              "    </tr>\n",
              "    <tr>\n",
              "      <th>1</th>\n",
              "      <td>16.9</td>\n",
              "      <td>1</td>\n",
              "      <td>2010</td>\n",
              "      <td>0</td>\n",
              "      <td>0</td>\n",
              "      <td>0</td>\n",
              "      <td>1</td>\n",
              "      <td>0</td>\n",
              "      <td>1</td>\n",
              "      <td>0</td>\n",
              "      <td>...</td>\n",
              "      <td>0.300962</td>\n",
              "      <td>0.334883</td>\n",
              "      <td>0.180255</td>\n",
              "      <td>0.287736</td>\n",
              "      <td>0.204745</td>\n",
              "      <td>0.121272</td>\n",
              "      <td>1.0</td>\n",
              "      <td>3.000000</td>\n",
              "      <td>4.450134</td>\n",
              "      <td>0.0</td>\n",
              "    </tr>\n",
              "    <tr>\n",
              "      <th>2</th>\n",
              "      <td>5.7</td>\n",
              "      <td>2</td>\n",
              "      <td>2011</td>\n",
              "      <td>0</td>\n",
              "      <td>1</td>\n",
              "      <td>0</td>\n",
              "      <td>0</td>\n",
              "      <td>0</td>\n",
              "      <td>1</td>\n",
              "      <td>0</td>\n",
              "      <td>...</td>\n",
              "      <td>0.317619</td>\n",
              "      <td>0.315415</td>\n",
              "      <td>0.263532</td>\n",
              "      <td>0.244320</td>\n",
              "      <td>0.121468</td>\n",
              "      <td>0.140680</td>\n",
              "      <td>1.0</td>\n",
              "      <td>0.389525</td>\n",
              "      <td>0.000000</td>\n",
              "      <td>0.0</td>\n",
              "    </tr>\n",
              "    <tr>\n",
              "      <th>3</th>\n",
              "      <td>7.7</td>\n",
              "      <td>1</td>\n",
              "      <td>2012</td>\n",
              "      <td>1</td>\n",
              "      <td>0</td>\n",
              "      <td>0</td>\n",
              "      <td>0</td>\n",
              "      <td>1</td>\n",
              "      <td>0</td>\n",
              "      <td>0</td>\n",
              "      <td>...</td>\n",
              "      <td>0.293884</td>\n",
              "      <td>0.323270</td>\n",
              "      <td>0.231013</td>\n",
              "      <td>0.251525</td>\n",
              "      <td>0.153987</td>\n",
              "      <td>0.133475</td>\n",
              "      <td>1.0</td>\n",
              "      <td>1.799270</td>\n",
              "      <td>0.000000</td>\n",
              "      <td>0.0</td>\n",
              "    </tr>\n",
              "    <tr>\n",
              "      <th>4</th>\n",
              "      <td>5.3</td>\n",
              "      <td>1</td>\n",
              "      <td>2010</td>\n",
              "      <td>0</td>\n",
              "      <td>0</td>\n",
              "      <td>0</td>\n",
              "      <td>1</td>\n",
              "      <td>0</td>\n",
              "      <td>1</td>\n",
              "      <td>0</td>\n",
              "      <td>...</td>\n",
              "      <td>0.309714</td>\n",
              "      <td>0.314028</td>\n",
              "      <td>0.284913</td>\n",
              "      <td>0.312107</td>\n",
              "      <td>0.100087</td>\n",
              "      <td>0.100417</td>\n",
              "      <td>1.0</td>\n",
              "      <td>0.999157</td>\n",
              "      <td>0.000000</td>\n",
              "      <td>0.0</td>\n",
              "    </tr>\n",
              "  </tbody>\n",
              "</table>\n",
              "<p>5 rows × 24 columns</p>\n",
              "</div>"
            ],
            "text/plain": [
              "   fare_amount  passenger_count  year  spring  summer  fall  winter  workday  \\\n",
              "0          4.5                1  2009       1       0     0       0        0   \n",
              "1         16.9                1  2010       0       0     0       1        0   \n",
              "2          5.7                2  2011       0       1     0       0        0   \n",
              "3          7.7                1  2012       1       0     0       0        1   \n",
              "4          5.3                1  2010       0       0     0       1        0   \n",
              "\n",
              "   weekend  night  ...  jfk_pickup_distance  jfk_dropoff_distance  \\\n",
              "0        1      1  ...             0.139241              0.127499   \n",
              "1        1      0  ...             0.300962              0.334883   \n",
              "2        1      0  ...             0.317619              0.315415   \n",
              "3        0      0  ...             0.293884              0.323270   \n",
              "4        1      0  ...             0.309714              0.314028   \n",
              "\n",
              "   ewr_pickup_distance  ewr_dropoff_distance  lgr_pickup_distance  \\\n",
              "0             0.362008              0.355668             0.074370   \n",
              "1             0.180255              0.287736             0.204745   \n",
              "2             0.263532              0.244320             0.121468   \n",
              "3             0.231013              0.251525             0.153987   \n",
              "4             0.284913              0.312107             0.100087   \n",
              "\n",
              "   lgr_dropoff_distance  distance_1km  distance_4km  distance_15km  \\\n",
              "0              0.086112           1.0      0.030764       0.000000   \n",
              "1              0.121272           1.0      3.000000       4.450134   \n",
              "2              0.140680           1.0      0.389525       0.000000   \n",
              "3              0.133475           1.0      1.799270       0.000000   \n",
              "4              0.100417           1.0      0.999157       0.000000   \n",
              "\n",
              "   distance_long  \n",
              "0            0.0  \n",
              "1            0.0  \n",
              "2            0.0  \n",
              "3            0.0  \n",
              "4            0.0  \n",
              "\n",
              "[5 rows x 24 columns]"
            ]
          },
          "metadata": {
            "tags": []
          },
          "execution_count": 78
        }
      ]
    },
    {
      "cell_type": "code",
      "metadata": {
        "id": "2BSNy4PYWXC5",
        "colab_type": "code",
        "colab": {}
      },
      "source": [
        "train_df, validation_df = train_test_split(train_clean, test_size=0.10, random_state=1)\n",
        "# Get labels\n",
        "train_labels = train_df['fare_amount'].values\n",
        "validation_labels = validation_df['fare_amount'].values\n",
        "train_df = train_df.drop(['fare_amount'], axis=1)\n",
        "validation_df = validation_df.drop(['fare_amount'], axis=1)"
      ],
      "execution_count": 0,
      "outputs": []
    },
    {
      "cell_type": "code",
      "metadata": {
        "id": "jkAJbnnmWaIn",
        "colab_type": "code",
        "outputId": "a8ad046c-7858-401c-c927-e5932c3294f6",
        "colab": {
          "base_uri": "https://localhost:8080/",
          "height": 50
        }
      },
      "source": [
        "scaler = preprocessing.MinMaxScaler()\n",
        "train_df_scaled = scaler.fit_transform(train_df)\n",
        "validation_df_scaled = scaler.transform(validation_df)\n",
        "test_scaled = scaler.transform(test_clean)"
      ],
      "execution_count": 0,
      "outputs": [
        {
          "output_type": "stream",
          "text": [
            "/usr/local/lib/python3.6/dist-packages/sklearn/preprocessing/data.py:334: DataConversionWarning: Data with input dtype int64, float64 were all converted to float64 by MinMaxScaler.\n",
            "  return self.partial_fit(X, y)\n"
          ],
          "name": "stderr"
        }
      ]
    },
    {
      "cell_type": "code",
      "metadata": {
        "id": "zszvJtrTWfoz",
        "colab_type": "code",
        "outputId": "7149f6cd-50ce-4478-90fd-f9d5a6873332",
        "colab": {
          "base_uri": "https://localhost:8080/",
          "height": 87
        }
      },
      "source": [
        "BATCH_SIZE = 256\n",
        "EPOCHS = 20\n",
        "LEARNING_RATE = 0.001\n",
        "model = Sequential()\n",
        "model.add(Dense(256, activation='relu', input_dim=train_df_scaled.shape[1], activity_regularizer=regularizers.l1(0.01)))\n",
        "model.add(BatchNormalization())\n",
        "model.add(Dense(128, activation='relu'))\n",
        "model.add(BatchNormalization())\n",
        "model.add(Dense(64, activation='relu'))\n",
        "model.add(BatchNormalization())\n",
        "model.add(Dense(32, activation='relu'))\n",
        "model.add(BatchNormalization())\n",
        "model.add(Dense(8, activation='relu'))\n",
        "model.add(BatchNormalization())\n",
        "model.add(Dense(1))\n",
        "adam = optimizers.Adam(lr=LEARNING_RATE)\n",
        "model.compile(loss='mse', optimizer=adam, metrics=['mae'])"
      ],
      "execution_count": 0,
      "outputs": [
        {
          "output_type": "stream",
          "text": [
            "WARNING:tensorflow:From /usr/local/lib/python3.6/dist-packages/tensorflow/python/framework/op_def_library.py:263: colocate_with (from tensorflow.python.framework.ops) is deprecated and will be removed in a future version.\n",
            "Instructions for updating:\n",
            "Colocations handled automatically by placer.\n"
          ],
          "name": "stdout"
        }
      ]
    },
    {
      "cell_type": "code",
      "metadata": {
        "id": "16VKFj3FWiGZ",
        "colab_type": "code",
        "outputId": "4c48f2a9-9266-4c88-985d-ccaa55dfb85d",
        "colab": {
          "base_uri": "https://localhost:8080/",
          "height": 776
        }
      },
      "source": [
        "history = model.fit(x=train_df_scaled, y=train_labels, batch_size=BATCH_SIZE, epochs=EPOCHS, \n",
        "                    verbose=1, validation_data=(validation_df_scaled, validation_labels), \n",
        "                    shuffle=True)"
      ],
      "execution_count": 0,
      "outputs": [
        {
          "output_type": "stream",
          "text": [
            "WARNING:tensorflow:From /usr/local/lib/python3.6/dist-packages/tensorflow/python/ops/math_ops.py:3066: to_int32 (from tensorflow.python.ops.math_ops) is deprecated and will be removed in a future version.\n",
            "Instructions for updating:\n",
            "Use tf.cast instead.\n",
            "Train on 162396 samples, validate on 18044 samples\n",
            "Epoch 1/20\n",
            "162396/162396 [==============================] - 10s 61us/step - loss: 62.7501 - mean_absolute_error: 7.0380 - val_loss: 17.0075 - val_mean_absolute_error: 3.3152\n",
            "Epoch 2/20\n",
            "162396/162396 [==============================] - 7s 40us/step - loss: 8.4069 - mean_absolute_error: 1.9551 - val_loss: 6.1724 - val_mean_absolute_error: 1.6817\n",
            "Epoch 3/20\n",
            "162396/162396 [==============================] - 6s 40us/step - loss: 6.3909 - mean_absolute_error: 1.6743 - val_loss: 6.2402 - val_mean_absolute_error: 1.6670\n",
            "Epoch 4/20\n",
            "162396/162396 [==============================] - 7s 41us/step - loss: 6.3163 - mean_absolute_error: 1.6676 - val_loss: 6.0388 - val_mean_absolute_error: 1.6506\n",
            "Epoch 5/20\n",
            "162396/162396 [==============================] - 7s 40us/step - loss: 6.2674 - mean_absolute_error: 1.6623 - val_loss: 5.9974 - val_mean_absolute_error: 1.6122\n",
            "Epoch 6/20\n",
            "162396/162396 [==============================] - 7s 42us/step - loss: 6.2533 - mean_absolute_error: 1.6594 - val_loss: 5.8848 - val_mean_absolute_error: 1.6242\n",
            "Epoch 7/20\n",
            "162396/162396 [==============================] - 7s 44us/step - loss: 6.2313 - mean_absolute_error: 1.6571 - val_loss: 6.1628 - val_mean_absolute_error: 1.6352\n",
            "Epoch 8/20\n",
            "162396/162396 [==============================] - 6s 40us/step - loss: 6.2231 - mean_absolute_error: 1.6573 - val_loss: 5.8915 - val_mean_absolute_error: 1.6277\n",
            "Epoch 9/20\n",
            "162396/162396 [==============================] - 6s 40us/step - loss: 6.1829 - mean_absolute_error: 1.6507 - val_loss: 6.0127 - val_mean_absolute_error: 1.7055\n",
            "Epoch 10/20\n",
            "162396/162396 [==============================] - 6s 39us/step - loss: 6.1364 - mean_absolute_error: 1.6430 - val_loss: 6.7095 - val_mean_absolute_error: 1.8445\n",
            "Epoch 11/20\n",
            "162396/162396 [==============================] - 7s 41us/step - loss: 6.1216 - mean_absolute_error: 1.6427 - val_loss: 6.0339 - val_mean_absolute_error: 1.6928\n",
            "Epoch 12/20\n",
            "162396/162396 [==============================] - 7s 46us/step - loss: 6.1218 - mean_absolute_error: 1.6387 - val_loss: 6.2537 - val_mean_absolute_error: 1.6483\n",
            "Epoch 13/20\n",
            "162396/162396 [==============================] - 7s 40us/step - loss: 6.0739 - mean_absolute_error: 1.6349 - val_loss: 6.0359 - val_mean_absolute_error: 1.6668\n",
            "Epoch 14/20\n",
            "162396/162396 [==============================] - 6s 39us/step - loss: 6.0898 - mean_absolute_error: 1.6384 - val_loss: 6.0525 - val_mean_absolute_error: 1.6901\n",
            "Epoch 15/20\n",
            "162396/162396 [==============================] - 6s 40us/step - loss: 6.0642 - mean_absolute_error: 1.6359 - val_loss: 5.7721 - val_mean_absolute_error: 1.5912\n",
            "Epoch 16/20\n",
            "162396/162396 [==============================] - 6s 40us/step - loss: 6.0623 - mean_absolute_error: 1.6342 - val_loss: 6.7679 - val_mean_absolute_error: 1.8676\n",
            "Epoch 17/20\n",
            "162396/162396 [==============================] - 7s 40us/step - loss: 6.0514 - mean_absolute_error: 1.6317 - val_loss: 6.0513 - val_mean_absolute_error: 1.6393\n",
            "Epoch 18/20\n",
            "162396/162396 [==============================] - 7s 42us/step - loss: 6.0294 - mean_absolute_error: 1.6307 - val_loss: 6.1514 - val_mean_absolute_error: 1.6555\n",
            "Epoch 19/20\n",
            "162396/162396 [==============================] - 7s 44us/step - loss: 6.0254 - mean_absolute_error: 1.6307 - val_loss: 5.9326 - val_mean_absolute_error: 1.6630\n",
            "Epoch 20/20\n",
            "162396/162396 [==============================] - 7s 40us/step - loss: 6.0098 - mean_absolute_error: 1.6274 - val_loss: 5.8391 - val_mean_absolute_error: 1.5901\n"
          ],
          "name": "stdout"
        }
      ]
    },
    {
      "cell_type": "code",
      "metadata": {
        "id": "jR7Vf7EvWk_V",
        "colab_type": "code",
        "outputId": "3d5cd780-bd80-49c4-8080-d1bd303b0fd6",
        "colab": {
          "base_uri": "https://localhost:8080/",
          "height": 621
        }
      },
      "source": [
        "plt.figure(figsize=(20,10))\n",
        "plt.plot(history.history['loss'])\n",
        "plt.plot(history.history['val_loss'])\n",
        "plt.title('model loss')\n",
        "plt.ylabel('loss')\n",
        "plt.xlabel('epoch')\n",
        "plt.legend(['train', 'test'], loc='upper right')\n",
        "plt.show()"
      ],
      "execution_count": 0,
      "outputs": [
        {
          "output_type": "display_data",
          "data": {
            "image/png": "[encoded data removed]",
            "text/plain": [
              "<Figure size 1440x720 with 1 Axes>"
            ]
          },
          "metadata": {
            "tags": []
          }
        }
      ]
    },
    {
      "cell_type": "code",
      "metadata": {
        "id": "3DLRGZGPWlo5",
        "colab_type": "code",
        "outputId": "750faa89-7ee4-4fb0-e615-6228940a66dc",
        "colab": {
          "base_uri": "https://localhost:8080/",
          "height": 67
        }
      },
      "source": [
        "prediction = model.predict(train_df_scaled, batch_size=128, verbose=1)\n"
      ],
      "execution_count": 0,
      "outputs": [
        {
          "output_type": "stream",
          "text": [
            "162396/162396 [==============================] - 2s 13us/step\n",
            "[5.967154]\n",
            "9.7\n"
          ],
          "name": "stdout"
        }
      ]
    },
    {
      "cell_type": "code",
      "metadata": {
        "id": "7KAxrS6RX18F",
        "colab_type": "code",
        "outputId": "79263f37-0511-4bc7-9225-c5b1dd4c8b0f",
        "colab": {
          "base_uri": "https://localhost:8080/",
          "height": 118
        }
      },
      "source": [
        "prediction=prediction.flatten()\n",
        "accuracy_list=np.abs(prediction-train_labels)/train_labels\n",
        "accuracy=np.mean(accuracy_list<0.3)\n",
        "print(accuracy_list[:20])\n",
        "print(accuracy)\n",
        "# print(np.sum(prediction-train_labels))"
      ],
      "execution_count": 0,
      "outputs": [
        {
          "output_type": "stream",
          "text": [
            "[0.20437946 0.37259767 0.27965625 0.14253885 0.44086838 0.09040529\n",
            " 0.07400874 0.00370176 0.05543137 0.08524275 0.41248217 0.03247371\n",
            " 0.14321613 0.30580224 0.24446742 0.15313823 0.0484346  0.28300454\n",
            " 0.04636058 0.24530935]\n",
            "0.8407411512598832\n",
            "-24025.969251718525\n"
          ],
          "name": "stdout"
        }
      ]
    },
    {
      "cell_type": "code",
      "metadata": {
        "id": "-fiQ7jf7aoES",
        "colab_type": "code",
        "outputId": "62983732-ca7f-4fcd-de79-587ba83cb63e",
        "colab": {
          "base_uri": "https://localhost:8080/",
          "height": 34
        }
      },
      "source": [
        "accuracy_magnitude=np.sqrt(np.sum((prediction-train_labels)**2)/prediction.shape[0])\n",
        "accuracy_magnitude"
      ],
      "execution_count": 0,
      "outputs": [
        {
          "output_type": "execute_result",
          "data": {
            "text/plain": [
              "2.3900020018282717"
            ]
          },
          "metadata": {
            "tags": []
          },
          "execution_count": 106
        }
      ]
    }
  ]
}