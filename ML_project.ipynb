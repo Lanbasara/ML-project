{
  "nbformat": 4,
  "nbformat_minor": 0,
  "metadata": {
    "colab": {
      "name": "ML-project.ipynb",
      "version": "0.3.2",
      "provenance": [],
      "collapsed_sections": []
    },
    "kernelspec": {
      "name": "python3",
      "display_name": "Python 3"
    },
    "accelerator": "GPU"
  },
  "cells": [
    {
      "cell_type": "code",
      "metadata": {
        "id": "w4U1jbiAQyCM",
        "colab_type": "code",
        "outputId": "e3b3a989-f846-49aa-f920-34492cd33518",
        "colab": {
          "base_uri": "https://localhost:8080/",
          "height": 34
        }
      },
      "source": [
        "import numpy as np\n",
        "import pandas as pd\n",
        "from datetime import datetime\n",
        "import matplotlib.pyplot as plt\n",
        "from sklearn import preprocessing\n",
        "from sklearn.model_selection import train_test_split\n",
        "from keras.models import Sequential\n",
        "from keras.layers import Dense, Dropout, BatchNormalization\n",
        "from keras.callbacks import EarlyStopping\n",
        "from keras import optimizers\n",
        "from keras import regularizers"
      ],
      "execution_count": 0,
      "outputs": [
        {
          "output_type": "stream",
          "text": [
            "Using TensorFlow backend.\n"
          ],
          "name": "stderr"
        }
      ]
    },
    {
      "cell_type": "markdown",
      "metadata": {
        "id": "KAeGOLWrqxsw",
        "colab_type": "text"
      },
      "source": [
        "connect to google drive"
      ]
    },
    {
      "cell_type": "code",
      "metadata": {
        "id": "Fh0eLPF9R6Cb",
        "colab_type": "code",
        "outputId": "b3da5f73-d0ab-47b2-d3e3-ecc270a069f9",
        "colab": {
          "base_uri": "https://localhost:8080/",
          "height": 121
        }
      },
      "source": [
        "from google.colab import drive\n",
        "drive.mount('/content/drive')"
      ],
      "execution_count": 0,
      "outputs": [
        {
          "output_type": "stream",
          "text": [
            "Go to this URL in a browser: https://accounts.google.com/o/oauth2/auth?client_id=947318989803-6bn6qk8qdgf4n4g3pfee6491hc0brc4i.apps.googleusercontent.com&redirect_uri=urn%3Aietf%3Awg%3Aoauth%3A2.0%3Aoob&scope=email%20https%3A%2F%2Fwww.googleapis.com%2Fauth%2Fdocs.test%20https%3A%2F%2Fwww.googleapis.com%2Fauth%2Fdrive%20https%3A%2F%2Fwww.googleapis.com%2Fauth%2Fdrive.photos.readonly%20https%3A%2F%2Fwww.googleapis.com%2Fauth%2Fpeopleapi.readonly&response_type=code\n",
            "\n",
            "Enter your authorization code:\n",
            "··········\n",
            "Mounted at /content/drive\n"
          ],
          "name": "stdout"
        }
      ]
    },
    {
      "cell_type": "code",
      "metadata": {
        "id": "Mt_EnmyZUZ9V",
        "colab_type": "code",
        "outputId": "8eaa1e00-817d-4c5a-8d53-1ddd34c905f1",
        "colab": {
          "base_uri": "https://localhost:8080/",
          "height": 34
        }
      },
      "source": [
        "import os\n",
        "\n",
        "os.getcwd()\n",
        "os.chdir('/content')\n",
        "os.getcwd()\n",
        "# help(pd.read_csv)"
      ],
      "execution_count": 0,
      "outputs": [
        {
          "output_type": "execute_result",
          "data": {
            "text/plain": [
              "'/content'"
            ]
          },
          "metadata": {
            "tags": []
          },
          "execution_count": 3
        }
      ]
    },
    {
      "cell_type": "markdown",
      "metadata": {
        "id": "etqYVF8uq5hK",
        "colab_type": "text"
      },
      "source": [
        "we set train size=1000000, and drop the case: fare amount<=0"
      ]
    },
    {
      "cell_type": "code",
      "metadata": {
        "id": "L31om_GkQ6Fv",
        "colab_type": "code",
        "outputId": "1894f0af-db11-4efe-aa77-9c6d8b06614f",
        "colab": {
          "base_uri": "https://localhost:8080/",
          "height": 50
        }
      },
      "source": [
        "TRAIN_PATH = 'drive/My Drive/train.csv'\n",
        "TEST_PATH = 'drive/My Drive/test.csv'\n",
        "DATASET_SIZE = 1000000\n",
        "# datatypes = {'key': 'str', \n",
        "#               'fare_amount': 'float32',\n",
        "#               'pickup_datetime': 'str', \n",
        "#               'pickup_longitude': 'float32',\n",
        "#               'pickup_latitude': 'float32',\n",
        "#               'dropoff_longitude': 'float32',\n",
        "#               'dropoff_latitude': 'float32',\n",
        "#               'passenger_count': 'uint8'}\n",
        "train = pd.read_csv(TRAIN_PATH, nrows=DATASET_SIZE)\n",
        "test = pd.read_csv(TEST_PATH)\n",
        "train.head()\n",
        "# test=test.drop('key', axis=1)\n",
        "test.head()\n",
        "print('Old size: %d' % len(train))\n",
        "train = train[train.fare_amount>0]\n",
        "print('New size: %d' % len(train))"
      ],
      "execution_count": 0,
      "outputs": [
        {
          "output_type": "stream",
          "text": [
            "Old size: 1000000\n",
            "New size: 999933\n"
          ],
          "name": "stdout"
        }
      ]
    },
    {
      "cell_type": "markdown",
      "metadata": {
        "id": "1G9U0zcsrJhZ",
        "colab_type": "text"
      },
      "source": [
        "drop the NA data"
      ]
    },
    {
      "cell_type": "code",
      "metadata": {
        "id": "WI39Ov6tbA6t",
        "colab_type": "code",
        "outputId": "ac12978d-1553-42e2-c39e-5af0c8c0b339",
        "colab": {
          "base_uri": "https://localhost:8080/",
          "height": 50
        }
      },
      "source": [
        "print('Old size: %d' % len(train))\n",
        "train = train.dropna(how = 'any', axis = 'rows')\n",
        "print('New size: %d' % len(train))"
      ],
      "execution_count": 0,
      "outputs": [
        {
          "output_type": "stream",
          "text": [
            "Old size: 999933\n",
            "New size: 999923\n"
          ],
          "name": "stdout"
        }
      ]
    },
    {
      "cell_type": "markdown",
      "metadata": {
        "id": "jGSGRte-rO1H",
        "colab_type": "text"
      },
      "source": [
        "\n",
        "get features information of train data, and view the interval where 99.9% of the data exists"
      ]
    },
    {
      "cell_type": "code",
      "metadata": {
        "id": "4KHJjkKKcsVU",
        "colab_type": "code",
        "outputId": "69bc2209-d61c-41f3-ca5a-4634e0e82d28",
        "colab": {
          "base_uri": "https://localhost:8080/",
          "height": 314
        }
      },
      "source": [
        "train.describe(percentiles=[0.25,0.5,0.75,0.999])"
      ],
      "execution_count": 0,
      "outputs": [
        {
          "output_type": "execute_result",
          "data": {
            "text/html": [
              "<div>\n",
              "<style scoped>\n",
              "    .dataframe tbody tr th:only-of-type {\n",
              "        vertical-align: middle;\n",
              "    }\n",
              "\n",
              "    .dataframe tbody tr th {\n",
              "        vertical-align: top;\n",
              "    }\n",
              "\n",
              "    .dataframe thead th {\n",
              "        text-align: right;\n",
              "    }\n",
              "</style>\n",
              "<table border=\"1\" class=\"dataframe\">\n",
              "  <thead>\n",
              "    <tr style=\"text-align: right;\">\n",
              "      <th></th>\n",
              "      <th>fare_amount</th>\n",
              "      <th>pickup_longitude</th>\n",
              "      <th>pickup_latitude</th>\n",
              "      <th>dropoff_longitude</th>\n",
              "      <th>dropoff_latitude</th>\n",
              "      <th>passenger_count</th>\n",
              "    </tr>\n",
              "  </thead>\n",
              "  <tbody>\n",
              "    <tr>\n",
              "      <th>count</th>\n",
              "      <td>999923.000000</td>\n",
              "      <td>999923.000000</td>\n",
              "      <td>999923.000000</td>\n",
              "      <td>999923.000000</td>\n",
              "      <td>999923.000000</td>\n",
              "      <td>999923.000000</td>\n",
              "    </tr>\n",
              "    <tr>\n",
              "      <th>mean</th>\n",
              "      <td>11.348945</td>\n",
              "      <td>-72.526826</td>\n",
              "      <td>39.929108</td>\n",
              "      <td>-72.528356</td>\n",
              "      <td>39.920225</td>\n",
              "      <td>1.684955</td>\n",
              "    </tr>\n",
              "    <tr>\n",
              "      <th>std</th>\n",
              "      <td>9.821201</td>\n",
              "      <td>12.057522</td>\n",
              "      <td>7.626026</td>\n",
              "      <td>11.323010</td>\n",
              "      <td>8.200913</td>\n",
              "      <td>1.323921</td>\n",
              "    </tr>\n",
              "    <tr>\n",
              "      <th>min</th>\n",
              "      <td>0.010000</td>\n",
              "      <td>-3377.680935</td>\n",
              "      <td>-3116.285383</td>\n",
              "      <td>-3383.296608</td>\n",
              "      <td>-3114.338567</td>\n",
              "      <td>0.000000</td>\n",
              "    </tr>\n",
              "    <tr>\n",
              "      <th>25%</th>\n",
              "      <td>6.000000</td>\n",
              "      <td>-73.992060</td>\n",
              "      <td>40.734965</td>\n",
              "      <td>-73.991385</td>\n",
              "      <td>40.734047</td>\n",
              "      <td>1.000000</td>\n",
              "    </tr>\n",
              "    <tr>\n",
              "      <th>50%</th>\n",
              "      <td>8.500000</td>\n",
              "      <td>-73.981792</td>\n",
              "      <td>40.752695</td>\n",
              "      <td>-73.980135</td>\n",
              "      <td>40.753166</td>\n",
              "      <td>1.000000</td>\n",
              "    </tr>\n",
              "    <tr>\n",
              "      <th>75%</th>\n",
              "      <td>12.500000</td>\n",
              "      <td>-73.967095</td>\n",
              "      <td>40.767154</td>\n",
              "      <td>-73.963654</td>\n",
              "      <td>40.768129</td>\n",
              "      <td>2.000000</td>\n",
              "    </tr>\n",
              "    <tr>\n",
              "      <th>99.9%</th>\n",
              "      <td>80.000000</td>\n",
              "      <td>0.000000</td>\n",
              "      <td>40.859333</td>\n",
              "      <td>0.000000</td>\n",
              "      <td>40.895539</td>\n",
              "      <td>6.000000</td>\n",
              "    </tr>\n",
              "    <tr>\n",
              "      <th>max</th>\n",
              "      <td>500.000000</td>\n",
              "      <td>2522.271325</td>\n",
              "      <td>2621.628430</td>\n",
              "      <td>45.581619</td>\n",
              "      <td>1651.553433</td>\n",
              "      <td>208.000000</td>\n",
              "    </tr>\n",
              "  </tbody>\n",
              "</table>\n",
              "</div>"
            ],
            "text/plain": [
              "         fare_amount  pickup_longitude  ...  dropoff_latitude  passenger_count\n",
              "count  999923.000000     999923.000000  ...     999923.000000    999923.000000\n",
              "mean       11.348945        -72.526826  ...         39.920225         1.684955\n",
              "std         9.821201         12.057522  ...          8.200913         1.323921\n",
              "min         0.010000      -3377.680935  ...      -3114.338567         0.000000\n",
              "25%         6.000000        -73.992060  ...         40.734047         1.000000\n",
              "50%         8.500000        -73.981792  ...         40.753166         1.000000\n",
              "75%        12.500000        -73.967095  ...         40.768129         2.000000\n",
              "99.9%      80.000000          0.000000  ...         40.895539         6.000000\n",
              "max       500.000000       2522.271325  ...       1651.553433       208.000000\n",
              "\n",
              "[9 rows x 6 columns]"
            ]
          },
          "metadata": {
            "tags": []
          },
          "execution_count": 6
        }
      ]
    },
    {
      "cell_type": "markdown",
      "metadata": {
        "id": "MCL0fcv6rZbw",
        "colab_type": "text"
      },
      "source": [
        "Remove the point outside the 40.8-41.8 latitude 72.8-74.5 latitude and remove the passenger count>6 point."
      ]
    },
    {
      "cell_type": "code",
      "metadata": {
        "id": "GInhll1IbUA9",
        "colab_type": "code",
        "outputId": "184397fc-3231-4df9-fdb4-8e54e5509f0c",
        "colab": {
          "base_uri": "https://localhost:8080/",
          "height": 229
        }
      },
      "source": [
        "print('Old size: %d' % len(train))\n",
        "# print((train['dropoff_longitude'] ==train['pickup_longitude']))\n",
        "def boundary(df):\n",
        "    # Delimiter lats and lons to NY only\n",
        "    df = df[(-74.5 <= df['pickup_longitude']) & (df['pickup_longitude'] <= -72.8)]\n",
        "    df = df[(-74.5 <= df['dropoff_longitude']) & (df['dropoff_longitude'] <= -72.8)]\n",
        "    df = df[(40.5 <= df['pickup_latitude']) & (df['pickup_latitude'] <= 41.8)]\n",
        "    df = df[(40.5<= df['dropoff_latitude']) & (df['dropoff_latitude'] <= 41.8)]\n",
        "    # Remove possible outliers\n",
        "    df = df[(0 < df['fare_amount']) & (df['fare_amount'] <= 80)]\n",
        "    df=df[df['passenger_count']<=6]\n",
        "    # Remove inconsistent values\n",
        "    df = df[(df['dropoff_longitude'] != df['pickup_longitude'])]\n",
        "    df = df[(df['dropoff_latitude'] != df['pickup_latitude'])]\n",
        "    \n",
        "    return df\n",
        "train_boundary = boundary(train)\n",
        "print('New size: %d' % len(train_boundary))\n",
        "train_boundary.head()"
      ],
      "execution_count": 0,
      "outputs": [
        {
          "output_type": "stream",
          "text": [
            "Old size: 999923\n",
            "New size: 967328\n"
          ],
          "name": "stdout"
        },
        {
          "output_type": "execute_result",
          "data": {
            "text/html": [
              "<div>\n",
              "<style scoped>\n",
              "    .dataframe tbody tr th:only-of-type {\n",
              "        vertical-align: middle;\n",
              "    }\n",
              "\n",
              "    .dataframe tbody tr th {\n",
              "        vertical-align: top;\n",
              "    }\n",
              "\n",
              "    .dataframe thead th {\n",
              "        text-align: right;\n",
              "    }\n",
              "</style>\n",
              "<table border=\"1\" class=\"dataframe\">\n",
              "  <thead>\n",
              "    <tr style=\"text-align: right;\">\n",
              "      <th></th>\n",
              "      <th>key</th>\n",
              "      <th>fare_amount</th>\n",
              "      <th>pickup_datetime</th>\n",
              "      <th>pickup_longitude</th>\n",
              "      <th>pickup_latitude</th>\n",
              "      <th>dropoff_longitude</th>\n",
              "      <th>dropoff_latitude</th>\n",
              "      <th>passenger_count</th>\n",
              "    </tr>\n",
              "  </thead>\n",
              "  <tbody>\n",
              "    <tr>\n",
              "      <th>0</th>\n",
              "      <td>2009-06-15 17:26:21.0000001</td>\n",
              "      <td>4.5</td>\n",
              "      <td>2009-06-15 17:26:21 UTC</td>\n",
              "      <td>-73.844311</td>\n",
              "      <td>40.721319</td>\n",
              "      <td>-73.841610</td>\n",
              "      <td>40.712278</td>\n",
              "      <td>1</td>\n",
              "    </tr>\n",
              "    <tr>\n",
              "      <th>1</th>\n",
              "      <td>2010-01-05 16:52:16.0000002</td>\n",
              "      <td>16.9</td>\n",
              "      <td>2010-01-05 16:52:16 UTC</td>\n",
              "      <td>-74.016048</td>\n",
              "      <td>40.711303</td>\n",
              "      <td>-73.979268</td>\n",
              "      <td>40.782004</td>\n",
              "      <td>1</td>\n",
              "    </tr>\n",
              "    <tr>\n",
              "      <th>2</th>\n",
              "      <td>2011-08-18 00:35:00.00000049</td>\n",
              "      <td>5.7</td>\n",
              "      <td>2011-08-18 00:35:00 UTC</td>\n",
              "      <td>-73.982738</td>\n",
              "      <td>40.761270</td>\n",
              "      <td>-73.991242</td>\n",
              "      <td>40.750562</td>\n",
              "      <td>2</td>\n",
              "    </tr>\n",
              "    <tr>\n",
              "      <th>3</th>\n",
              "      <td>2012-04-21 04:30:42.0000001</td>\n",
              "      <td>7.7</td>\n",
              "      <td>2012-04-21 04:30:42 UTC</td>\n",
              "      <td>-73.987130</td>\n",
              "      <td>40.733143</td>\n",
              "      <td>-73.991567</td>\n",
              "      <td>40.758092</td>\n",
              "      <td>1</td>\n",
              "    </tr>\n",
              "    <tr>\n",
              "      <th>4</th>\n",
              "      <td>2010-03-09 07:51:00.000000135</td>\n",
              "      <td>5.3</td>\n",
              "      <td>2010-03-09 07:51:00 UTC</td>\n",
              "      <td>-73.968095</td>\n",
              "      <td>40.768008</td>\n",
              "      <td>-73.956655</td>\n",
              "      <td>40.783762</td>\n",
              "      <td>1</td>\n",
              "    </tr>\n",
              "  </tbody>\n",
              "</table>\n",
              "</div>"
            ],
            "text/plain": [
              "                             key  ...  passenger_count\n",
              "0    2009-06-15 17:26:21.0000001  ...                1\n",
              "1    2010-01-05 16:52:16.0000002  ...                1\n",
              "2   2011-08-18 00:35:00.00000049  ...                2\n",
              "3    2012-04-21 04:30:42.0000001  ...                1\n",
              "4  2010-03-09 07:51:00.000000135  ...                1\n",
              "\n",
              "[5 rows x 8 columns]"
            ]
          },
          "metadata": {
            "tags": []
          },
          "execution_count": 7
        }
      ]
    },
    {
      "cell_type": "markdown",
      "metadata": {
        "id": "Pg7v89dosUYY",
        "colab_type": "text"
      },
      "source": [
        "Added new features according to raw features: pick up date(year, month, and day)\n",
        "\n",
        "1. Considering the weather factors in different seasons (such as the summer rain and winter snow, the overall cost may be affected). According to the month, add new features: spring, summer, autumn and winter corresponding season is set to 1)\n",
        "2. Added feature:workday(monday-friday) weekend(saturday sunday) according to the date.\n",
        "3. Added feature according to time: day time(6am-16pm) night(16pm-20pm) late night(20pm-6am). Unit price and road condition and other conditions are different in different period."
      ]
    },
    {
      "cell_type": "code",
      "metadata": {
        "id": "z4OFXyAteJg9",
        "colab_type": "code",
        "colab": {}
      },
      "source": [
        "def spring(row):\n",
        "    if (row['month'] >=4) and (row['month'] <7):\n",
        "        return 1\n",
        "    else:\n",
        "        return 0  \n",
        "def summer(row):\n",
        "    if (row['month'] >=7) and (row['month'] <10):\n",
        "        return 1\n",
        "    else:\n",
        "        return 0\n",
        "def fall(row):\n",
        "    if (row['month'] >=10) and (row['month'] <=12):\n",
        "        return 1\n",
        "    else:\n",
        "        return 0  \n",
        "def winter(row):\n",
        "    if (row['month'] >=1) and (row['month'] <4):\n",
        "        return 1\n",
        "    else:\n",
        "        return 0  \n",
        " \n",
        "def weekend1(row):\n",
        "    if row['weekday'] < 5:\n",
        "        return 1\n",
        "    else:\n",
        "        return 0\n",
        "\n",
        "def workday1(row):\n",
        "    if row['weekday'] >= 5:\n",
        "        return 1\n",
        "    else:\n",
        "        return 0\n",
        "def late_night (row):\n",
        "    if (row['hour'] <= 7) or (row['hour'] >21):\n",
        "        return 1\n",
        "    else:\n",
        "        return 0\n",
        "def night (row):\n",
        "    if ((row['hour'] <= 21) and (row['hour'] > 16)):\n",
        "        return 1\n",
        "    else:\n",
        "        return 0    \n",
        "def day_time(row):\n",
        "    if (row['hour'] <= 16) and (row['hour'] >7):\n",
        "        return 1\n",
        "    else:\n",
        "        return 0\n",
        "\n",
        "\n",
        "def add_time_features(df):\n",
        "    df['pickup_datetime'] =  pd.to_datetime(df['key'], format='%Y-%m-%d %H:%M:%S')\n",
        "   \n",
        "    df['year'] = df['pickup_datetime'].apply(lambda x: x.year)\n",
        "    df['month'] = df['pickup_datetime'].apply(lambda x: x.month)\n",
        "    df['day'] = df['pickup_datetime'].apply(lambda x: x.day)\n",
        "    df['hour'] = df['pickup_datetime'].apply(lambda x: x.hour)\n",
        "   \n",
        "    df['weekday'] = df['pickup_datetime'].apply(lambda x: x.weekday())\n",
        "    df['spring']=df.apply (lambda x: spring(x), axis=1)\n",
        "    df['summer']=df.apply (lambda x: summer(x), axis=1)\n",
        "    df['fall']=df.apply (lambda x: fall(x), axis=1)\n",
        "    df['winter']=df.apply (lambda x: winter(x), axis=1)\n",
        "    df['workday'] = df.apply(lambda x: workday1(x),axis=1)\n",
        "    df['weekend'] = df.apply(lambda x: weekend1(x), axis=1)\n",
        "    \n",
        "    \n",
        "    df['night'] = df.apply (lambda x: night(x), axis=1)\n",
        "    df['late_night'] = df.apply (lambda x: late_night(x), axis=1)\n",
        "    df['day_time'] = df.apply (lambda x: day_time(x), axis=1)\n",
        "    \n",
        "    # Drop 'pickup_datetime' as we won't need it anymore\n",
        "#     df = df.drop('pickup_datetime', axis=1)\n",
        "    return df\n",
        "#2009-2015"
      ],
      "execution_count": 0,
      "outputs": []
    },
    {
      "cell_type": "markdown",
      "metadata": {
        "id": "-2KTGaa3vJpI",
        "colab_type": "text"
      },
      "source": [
        "Train data adds related features according to the above function"
      ]
    },
    {
      "cell_type": "code",
      "metadata": {
        "id": "HYnhs9kffXut",
        "colab_type": "code",
        "outputId": "667eaa00-8ad0-4e9e-bccc-6ec41c9a592a",
        "colab": {
          "base_uri": "https://localhost:8080/",
          "height": 299
        }
      },
      "source": [
        "train_time = add_time_features(train_boundary)\n",
        "\n",
        "train_time.head()\n",
        "# test_time['year'].max()\n"
      ],
      "execution_count": 0,
      "outputs": [
        {
          "output_type": "execute_result",
          "data": {
            "text/html": [
              "<div>\n",
              "<style scoped>\n",
              "    .dataframe tbody tr th:only-of-type {\n",
              "        vertical-align: middle;\n",
              "    }\n",
              "\n",
              "    .dataframe tbody tr th {\n",
              "        vertical-align: top;\n",
              "    }\n",
              "\n",
              "    .dataframe thead th {\n",
              "        text-align: right;\n",
              "    }\n",
              "</style>\n",
              "<table border=\"1\" class=\"dataframe\">\n",
              "  <thead>\n",
              "    <tr style=\"text-align: right;\">\n",
              "      <th></th>\n",
              "      <th>key</th>\n",
              "      <th>fare_amount</th>\n",
              "      <th>pickup_datetime</th>\n",
              "      <th>pickup_longitude</th>\n",
              "      <th>pickup_latitude</th>\n",
              "      <th>dropoff_longitude</th>\n",
              "      <th>dropoff_latitude</th>\n",
              "      <th>passenger_count</th>\n",
              "      <th>year</th>\n",
              "      <th>month</th>\n",
              "      <th>day</th>\n",
              "      <th>hour</th>\n",
              "      <th>weekday</th>\n",
              "      <th>spring</th>\n",
              "      <th>summer</th>\n",
              "      <th>fall</th>\n",
              "      <th>winter</th>\n",
              "      <th>workday</th>\n",
              "      <th>weekend</th>\n",
              "      <th>night</th>\n",
              "      <th>late_night</th>\n",
              "      <th>day_time</th>\n",
              "    </tr>\n",
              "  </thead>\n",
              "  <tbody>\n",
              "    <tr>\n",
              "      <th>0</th>\n",
              "      <td>2009-06-15 17:26:21.0000001</td>\n",
              "      <td>4.5</td>\n",
              "      <td>2009-06-15 17:26:21.000000100</td>\n",
              "      <td>-73.844311</td>\n",
              "      <td>40.721319</td>\n",
              "      <td>-73.841610</td>\n",
              "      <td>40.712278</td>\n",
              "      <td>1</td>\n",
              "      <td>2009</td>\n",
              "      <td>6</td>\n",
              "      <td>15</td>\n",
              "      <td>17</td>\n",
              "      <td>0</td>\n",
              "      <td>1</td>\n",
              "      <td>0</td>\n",
              "      <td>0</td>\n",
              "      <td>0</td>\n",
              "      <td>0</td>\n",
              "      <td>1</td>\n",
              "      <td>1</td>\n",
              "      <td>0</td>\n",
              "      <td>0</td>\n",
              "    </tr>\n",
              "    <tr>\n",
              "      <th>1</th>\n",
              "      <td>2010-01-05 16:52:16.0000002</td>\n",
              "      <td>16.9</td>\n",
              "      <td>2010-01-05 16:52:16.000000200</td>\n",
              "      <td>-74.016048</td>\n",
              "      <td>40.711303</td>\n",
              "      <td>-73.979268</td>\n",
              "      <td>40.782004</td>\n",
              "      <td>1</td>\n",
              "      <td>2010</td>\n",
              "      <td>1</td>\n",
              "      <td>5</td>\n",
              "      <td>16</td>\n",
              "      <td>1</td>\n",
              "      <td>0</td>\n",
              "      <td>0</td>\n",
              "      <td>0</td>\n",
              "      <td>1</td>\n",
              "      <td>0</td>\n",
              "      <td>1</td>\n",
              "      <td>0</td>\n",
              "      <td>0</td>\n",
              "      <td>1</td>\n",
              "    </tr>\n",
              "    <tr>\n",
              "      <th>2</th>\n",
              "      <td>2011-08-18 00:35:00.00000049</td>\n",
              "      <td>5.7</td>\n",
              "      <td>2011-08-18 00:35:00.000000490</td>\n",
              "      <td>-73.982738</td>\n",
              "      <td>40.761270</td>\n",
              "      <td>-73.991242</td>\n",
              "      <td>40.750562</td>\n",
              "      <td>2</td>\n",
              "      <td>2011</td>\n",
              "      <td>8</td>\n",
              "      <td>18</td>\n",
              "      <td>0</td>\n",
              "      <td>3</td>\n",
              "      <td>0</td>\n",
              "      <td>1</td>\n",
              "      <td>0</td>\n",
              "      <td>0</td>\n",
              "      <td>0</td>\n",
              "      <td>1</td>\n",
              "      <td>0</td>\n",
              "      <td>1</td>\n",
              "      <td>0</td>\n",
              "    </tr>\n",
              "    <tr>\n",
              "      <th>3</th>\n",
              "      <td>2012-04-21 04:30:42.0000001</td>\n",
              "      <td>7.7</td>\n",
              "      <td>2012-04-21 04:30:42.000000100</td>\n",
              "      <td>-73.987130</td>\n",
              "      <td>40.733143</td>\n",
              "      <td>-73.991567</td>\n",
              "      <td>40.758092</td>\n",
              "      <td>1</td>\n",
              "      <td>2012</td>\n",
              "      <td>4</td>\n",
              "      <td>21</td>\n",
              "      <td>4</td>\n",
              "      <td>5</td>\n",
              "      <td>1</td>\n",
              "      <td>0</td>\n",
              "      <td>0</td>\n",
              "      <td>0</td>\n",
              "      <td>1</td>\n",
              "      <td>0</td>\n",
              "      <td>0</td>\n",
              "      <td>1</td>\n",
              "      <td>0</td>\n",
              "    </tr>\n",
              "    <tr>\n",
              "      <th>4</th>\n",
              "      <td>2010-03-09 07:51:00.000000135</td>\n",
              "      <td>5.3</td>\n",
              "      <td>2010-03-09 07:51:00.000000135</td>\n",
              "      <td>-73.968095</td>\n",
              "      <td>40.768008</td>\n",
              "      <td>-73.956655</td>\n",
              "      <td>40.783762</td>\n",
              "      <td>1</td>\n",
              "      <td>2010</td>\n",
              "      <td>3</td>\n",
              "      <td>9</td>\n",
              "      <td>7</td>\n",
              "      <td>1</td>\n",
              "      <td>0</td>\n",
              "      <td>0</td>\n",
              "      <td>0</td>\n",
              "      <td>1</td>\n",
              "      <td>0</td>\n",
              "      <td>1</td>\n",
              "      <td>0</td>\n",
              "      <td>0</td>\n",
              "      <td>1</td>\n",
              "    </tr>\n",
              "  </tbody>\n",
              "</table>\n",
              "</div>"
            ],
            "text/plain": [
              "                             key  fare_amount  ... late_night  day_time\n",
              "0    2009-06-15 17:26:21.0000001          4.5  ...          0         0\n",
              "1    2010-01-05 16:52:16.0000002         16.9  ...          0         1\n",
              "2   2011-08-18 00:35:00.00000049          5.7  ...          1         0\n",
              "3    2012-04-21 04:30:42.0000001          7.7  ...          1         0\n",
              "4  2010-03-09 07:51:00.000000135          5.3  ...          0         1\n",
              "\n",
              "[5 rows x 22 columns]"
            ]
          },
          "metadata": {
            "tags": []
          },
          "execution_count": 9
        }
      ]
    },
    {
      "cell_type": "markdown",
      "metadata": {
        "id": "XPcg9Q6FvVGL",
        "colab_type": "text"
      },
      "source": [
        "Ensure that the train and test data are consistent"
      ]
    },
    {
      "cell_type": "code",
      "metadata": {
        "id": "jHWiEr_FGHuj",
        "colab_type": "code",
        "outputId": "1f0722bf-f17b-4a77-d15e-6f4c1ae9a875",
        "colab": {
          "base_uri": "https://localhost:8080/",
          "height": 299
        }
      },
      "source": [
        "# test = pd.read_csv(TEST_PATH)\n",
        "test_time = add_time_features(test)\n",
        "test_time.head()"
      ],
      "execution_count": 0,
      "outputs": [
        {
          "output_type": "execute_result",
          "data": {
            "text/html": [
              "<div>\n",
              "<style scoped>\n",
              "    .dataframe tbody tr th:only-of-type {\n",
              "        vertical-align: middle;\n",
              "    }\n",
              "\n",
              "    .dataframe tbody tr th {\n",
              "        vertical-align: top;\n",
              "    }\n",
              "\n",
              "    .dataframe thead th {\n",
              "        text-align: right;\n",
              "    }\n",
              "</style>\n",
              "<table border=\"1\" class=\"dataframe\">\n",
              "  <thead>\n",
              "    <tr style=\"text-align: right;\">\n",
              "      <th></th>\n",
              "      <th>key</th>\n",
              "      <th>pickup_datetime</th>\n",
              "      <th>pickup_longitude</th>\n",
              "      <th>pickup_latitude</th>\n",
              "      <th>dropoff_longitude</th>\n",
              "      <th>dropoff_latitude</th>\n",
              "      <th>passenger_count</th>\n",
              "      <th>year</th>\n",
              "      <th>month</th>\n",
              "      <th>day</th>\n",
              "      <th>hour</th>\n",
              "      <th>weekday</th>\n",
              "      <th>spring</th>\n",
              "      <th>summer</th>\n",
              "      <th>fall</th>\n",
              "      <th>winter</th>\n",
              "      <th>workday</th>\n",
              "      <th>weekend</th>\n",
              "      <th>night</th>\n",
              "      <th>late_night</th>\n",
              "      <th>day_time</th>\n",
              "    </tr>\n",
              "  </thead>\n",
              "  <tbody>\n",
              "    <tr>\n",
              "      <th>0</th>\n",
              "      <td>2015-01-27 13:08:24.0000002</td>\n",
              "      <td>2015-01-27 13:08:24.000000200</td>\n",
              "      <td>-73.973320</td>\n",
              "      <td>40.763805</td>\n",
              "      <td>-73.981430</td>\n",
              "      <td>40.743835</td>\n",
              "      <td>1</td>\n",
              "      <td>2015</td>\n",
              "      <td>1</td>\n",
              "      <td>27</td>\n",
              "      <td>13</td>\n",
              "      <td>1</td>\n",
              "      <td>0</td>\n",
              "      <td>0</td>\n",
              "      <td>0</td>\n",
              "      <td>1</td>\n",
              "      <td>0</td>\n",
              "      <td>1</td>\n",
              "      <td>0</td>\n",
              "      <td>0</td>\n",
              "      <td>1</td>\n",
              "    </tr>\n",
              "    <tr>\n",
              "      <th>1</th>\n",
              "      <td>2015-01-27 13:08:24.0000003</td>\n",
              "      <td>2015-01-27 13:08:24.000000300</td>\n",
              "      <td>-73.986862</td>\n",
              "      <td>40.719383</td>\n",
              "      <td>-73.998886</td>\n",
              "      <td>40.739201</td>\n",
              "      <td>1</td>\n",
              "      <td>2015</td>\n",
              "      <td>1</td>\n",
              "      <td>27</td>\n",
              "      <td>13</td>\n",
              "      <td>1</td>\n",
              "      <td>0</td>\n",
              "      <td>0</td>\n",
              "      <td>0</td>\n",
              "      <td>1</td>\n",
              "      <td>0</td>\n",
              "      <td>1</td>\n",
              "      <td>0</td>\n",
              "      <td>0</td>\n",
              "      <td>1</td>\n",
              "    </tr>\n",
              "    <tr>\n",
              "      <th>2</th>\n",
              "      <td>2011-10-08 11:53:44.0000002</td>\n",
              "      <td>2011-10-08 11:53:44.000000200</td>\n",
              "      <td>-73.982524</td>\n",
              "      <td>40.751260</td>\n",
              "      <td>-73.979654</td>\n",
              "      <td>40.746139</td>\n",
              "      <td>1</td>\n",
              "      <td>2011</td>\n",
              "      <td>10</td>\n",
              "      <td>8</td>\n",
              "      <td>11</td>\n",
              "      <td>5</td>\n",
              "      <td>0</td>\n",
              "      <td>0</td>\n",
              "      <td>1</td>\n",
              "      <td>0</td>\n",
              "      <td>1</td>\n",
              "      <td>0</td>\n",
              "      <td>0</td>\n",
              "      <td>0</td>\n",
              "      <td>1</td>\n",
              "    </tr>\n",
              "    <tr>\n",
              "      <th>3</th>\n",
              "      <td>2012-12-01 21:12:12.0000002</td>\n",
              "      <td>2012-12-01 21:12:12.000000200</td>\n",
              "      <td>-73.981160</td>\n",
              "      <td>40.767807</td>\n",
              "      <td>-73.990448</td>\n",
              "      <td>40.751635</td>\n",
              "      <td>1</td>\n",
              "      <td>2012</td>\n",
              "      <td>12</td>\n",
              "      <td>1</td>\n",
              "      <td>21</td>\n",
              "      <td>5</td>\n",
              "      <td>0</td>\n",
              "      <td>0</td>\n",
              "      <td>1</td>\n",
              "      <td>0</td>\n",
              "      <td>1</td>\n",
              "      <td>0</td>\n",
              "      <td>0</td>\n",
              "      <td>1</td>\n",
              "      <td>0</td>\n",
              "    </tr>\n",
              "    <tr>\n",
              "      <th>4</th>\n",
              "      <td>2012-12-01 21:12:12.0000003</td>\n",
              "      <td>2012-12-01 21:12:12.000000300</td>\n",
              "      <td>-73.966046</td>\n",
              "      <td>40.789775</td>\n",
              "      <td>-73.988565</td>\n",
              "      <td>40.744427</td>\n",
              "      <td>1</td>\n",
              "      <td>2012</td>\n",
              "      <td>12</td>\n",
              "      <td>1</td>\n",
              "      <td>21</td>\n",
              "      <td>5</td>\n",
              "      <td>0</td>\n",
              "      <td>0</td>\n",
              "      <td>1</td>\n",
              "      <td>0</td>\n",
              "      <td>1</td>\n",
              "      <td>0</td>\n",
              "      <td>0</td>\n",
              "      <td>1</td>\n",
              "      <td>0</td>\n",
              "    </tr>\n",
              "  </tbody>\n",
              "</table>\n",
              "</div>"
            ],
            "text/plain": [
              "                           key  ... day_time\n",
              "0  2015-01-27 13:08:24.0000002  ...        1\n",
              "1  2015-01-27 13:08:24.0000003  ...        1\n",
              "2  2011-10-08 11:53:44.0000002  ...        1\n",
              "3  2012-12-01 21:12:12.0000002  ...        0\n",
              "4  2012-12-01 21:12:12.0000003  ...        0\n",
              "\n",
              "[5 rows x 21 columns]"
            ]
          },
          "metadata": {
            "tags": []
          },
          "execution_count": 10
        }
      ]
    },
    {
      "cell_type": "markdown",
      "metadata": {
        "id": "4iRM3bKavg1x",
        "colab_type": "text"
      },
      "source": [
        "Because the original features(month day hour) are re-classified, the original features are removed."
      ]
    },
    {
      "cell_type": "code",
      "metadata": {
        "id": "U28zKDyXBMCW",
        "colab_type": "code",
        "colab": {}
      },
      "source": [
        "train_time=train_time.drop(['day','hour','month','key','pickup_datetime','weekday'] , axis=1)\n",
        "test_time=test_time.drop(['day','hour','month','key','pickup_datetime','weekday'] , axis=1)\n"
      ],
      "execution_count": 0,
      "outputs": []
    },
    {
      "cell_type": "code",
      "metadata": {
        "id": "cHUdJkJ-FbUq",
        "colab_type": "code",
        "outputId": "5dc12b58-3ff3-42a0-99eb-9740718efc93",
        "colab": {
          "base_uri": "https://localhost:8080/",
          "height": 195
        }
      },
      "source": [
        "test_time.head()"
      ],
      "execution_count": 0,
      "outputs": [
        {
          "output_type": "execute_result",
          "data": {
            "text/html": [
              "<div>\n",
              "<style scoped>\n",
              "    .dataframe tbody tr th:only-of-type {\n",
              "        vertical-align: middle;\n",
              "    }\n",
              "\n",
              "    .dataframe tbody tr th {\n",
              "        vertical-align: top;\n",
              "    }\n",
              "\n",
              "    .dataframe thead th {\n",
              "        text-align: right;\n",
              "    }\n",
              "</style>\n",
              "<table border=\"1\" class=\"dataframe\">\n",
              "  <thead>\n",
              "    <tr style=\"text-align: right;\">\n",
              "      <th></th>\n",
              "      <th>pickup_longitude</th>\n",
              "      <th>pickup_latitude</th>\n",
              "      <th>dropoff_longitude</th>\n",
              "      <th>dropoff_latitude</th>\n",
              "      <th>passenger_count</th>\n",
              "      <th>year</th>\n",
              "      <th>spring</th>\n",
              "      <th>summer</th>\n",
              "      <th>fall</th>\n",
              "      <th>winter</th>\n",
              "      <th>workday</th>\n",
              "      <th>weekend</th>\n",
              "      <th>night</th>\n",
              "      <th>late_night</th>\n",
              "      <th>day_time</th>\n",
              "    </tr>\n",
              "  </thead>\n",
              "  <tbody>\n",
              "    <tr>\n",
              "      <th>0</th>\n",
              "      <td>-73.973320</td>\n",
              "      <td>40.763805</td>\n",
              "      <td>-73.981430</td>\n",
              "      <td>40.743835</td>\n",
              "      <td>1</td>\n",
              "      <td>2015</td>\n",
              "      <td>0</td>\n",
              "      <td>0</td>\n",
              "      <td>0</td>\n",
              "      <td>1</td>\n",
              "      <td>0</td>\n",
              "      <td>1</td>\n",
              "      <td>0</td>\n",
              "      <td>0</td>\n",
              "      <td>1</td>\n",
              "    </tr>\n",
              "    <tr>\n",
              "      <th>1</th>\n",
              "      <td>-73.986862</td>\n",
              "      <td>40.719383</td>\n",
              "      <td>-73.998886</td>\n",
              "      <td>40.739201</td>\n",
              "      <td>1</td>\n",
              "      <td>2015</td>\n",
              "      <td>0</td>\n",
              "      <td>0</td>\n",
              "      <td>0</td>\n",
              "      <td>1</td>\n",
              "      <td>0</td>\n",
              "      <td>1</td>\n",
              "      <td>0</td>\n",
              "      <td>0</td>\n",
              "      <td>1</td>\n",
              "    </tr>\n",
              "    <tr>\n",
              "      <th>2</th>\n",
              "      <td>-73.982524</td>\n",
              "      <td>40.751260</td>\n",
              "      <td>-73.979654</td>\n",
              "      <td>40.746139</td>\n",
              "      <td>1</td>\n",
              "      <td>2011</td>\n",
              "      <td>0</td>\n",
              "      <td>0</td>\n",
              "      <td>1</td>\n",
              "      <td>0</td>\n",
              "      <td>1</td>\n",
              "      <td>0</td>\n",
              "      <td>0</td>\n",
              "      <td>0</td>\n",
              "      <td>1</td>\n",
              "    </tr>\n",
              "    <tr>\n",
              "      <th>3</th>\n",
              "      <td>-73.981160</td>\n",
              "      <td>40.767807</td>\n",
              "      <td>-73.990448</td>\n",
              "      <td>40.751635</td>\n",
              "      <td>1</td>\n",
              "      <td>2012</td>\n",
              "      <td>0</td>\n",
              "      <td>0</td>\n",
              "      <td>1</td>\n",
              "      <td>0</td>\n",
              "      <td>1</td>\n",
              "      <td>0</td>\n",
              "      <td>0</td>\n",
              "      <td>1</td>\n",
              "      <td>0</td>\n",
              "    </tr>\n",
              "    <tr>\n",
              "      <th>4</th>\n",
              "      <td>-73.966046</td>\n",
              "      <td>40.789775</td>\n",
              "      <td>-73.988565</td>\n",
              "      <td>40.744427</td>\n",
              "      <td>1</td>\n",
              "      <td>2012</td>\n",
              "      <td>0</td>\n",
              "      <td>0</td>\n",
              "      <td>1</td>\n",
              "      <td>0</td>\n",
              "      <td>1</td>\n",
              "      <td>0</td>\n",
              "      <td>0</td>\n",
              "      <td>1</td>\n",
              "      <td>0</td>\n",
              "    </tr>\n",
              "  </tbody>\n",
              "</table>\n",
              "</div>"
            ],
            "text/plain": [
              "   pickup_longitude  pickup_latitude  ...  late_night  day_time\n",
              "0        -73.973320        40.763805  ...           0         1\n",
              "1        -73.986862        40.719383  ...           0         1\n",
              "2        -73.982524        40.751260  ...           0         1\n",
              "3        -73.981160        40.767807  ...           1         0\n",
              "4        -73.966046        40.789775  ...           1         0\n",
              "\n",
              "[5 rows x 15 columns]"
            ]
          },
          "metadata": {
            "tags": []
          },
          "execution_count": 12
        }
      ]
    },
    {
      "cell_type": "code",
      "metadata": {
        "id": "ebvLCnG1DZry",
        "colab_type": "code",
        "outputId": "2016a7ee-0fb3-42d5-8a6f-b406e07a5b8c",
        "colab": {
          "base_uri": "https://localhost:8080/",
          "height": 34
        }
      },
      "source": [
        "# help(map)\n",
        "import math\n",
        "math.pi"
      ],
      "execution_count": 0,
      "outputs": [
        {
          "output_type": "execute_result",
          "data": {
            "text/plain": [
              "3.141592653589793"
            ]
          },
          "metadata": {
            "tags": []
          },
          "execution_count": 13
        }
      ]
    },
    {
      "cell_type": "markdown",
      "metadata": {
        "id": "QXzTdJXRwI0m",
        "colab_type": "text"
      },
      "source": [
        "The raw data only has the latitude and longitude corresponding to the pickup and dropoff. \n",
        "This is definitely not the basis for measuring the fare. In our visual impression, the fare is proportional to the distance, so the old  latitude and longitude feature are converted into the feature: Geographical distance (unit km)\n",
        "Each sample does not provide a specific driving route, so the Geographical distance is set to a two-point straight distance."
      ]
    },
    {
      "cell_type": "code",
      "metadata": {
        "id": "oLrLDee14DA9",
        "colab_type": "code",
        "outputId": "5abaa560-09e0-49de-b832-088d3b8e5cf7",
        "colab": {
          "base_uri": "https://localhost:8080/",
          "height": 34
        }
      },
      "source": [
        "\n",
        "import math\n",
        "# from math import radians, cos, sin, asin, sqrt，pi\n",
        "def geodistance(lon1,latt1,lon2,latt2):\n",
        "    lng1=lon1*math.pi/180\n",
        "    lat1=latt1*math.pi/180\n",
        "    lng2=lon2*math.pi/180\n",
        "    lat2=latt2*math.pi/180\n",
        "    dlon=lng2-lng1\n",
        "    dlat=lat2-lat1\n",
        "    a=np.sin(dlat/2)**2 + np.cos(lat1) * np.cos(lat2) * np.sin(dlon/2)**2 \n",
        "    dis=2*np.arcsin(np.sqrt(a))*6371\n",
        "    return dis\n",
        "a=geodistance(-74.0063889,40.7141667,-73.7822222222,40.6441666667)\n",
        "a"
      ],
      "execution_count": 0,
      "outputs": [
        {
          "output_type": "execute_result",
          "data": {
            "text/plain": [
              "20.443095838269418"
            ]
          },
          "metadata": {
            "tags": []
          },
          "execution_count": 14
        }
      ]
    },
    {
      "cell_type": "markdown",
      "metadata": {
        "id": "FIAR_nuDxL8C",
        "colab_type": "text"
      },
      "source": [
        "By referring to other routines, we found that some areas belong to the transportation hub of New York, such as Manhattan downtown, JFK EWR LGR Airport, we add features: the distance between these points and each sample"
      ]
    },
    {
      "cell_type": "code",
      "metadata": {
        "id": "cNGBAgyH6P-T",
        "colab_type": "code",
        "colab": {}
      },
      "source": [
        "# def distance(pickup_lat, pickup_long, dropoff_lat, dropoff_long):\n",
        "#     return np.abs(dropoff_lat - pickup_lat) + np.abs(dropoff_long - pickup_long)\n",
        "  \n",
        "def add_distances_features(df):\n",
        "    # Add distances from airpot and downtown\n",
        "    NY_uptown=(-73.957830,40.784916) \n",
        "    NY_midtown=(-73.985749,40.748654)\n",
        "    NY_downtown = (-74.001891,40.720269 )\n",
        "    JFK = (-73.782222, 40.644167)\n",
        "    EWR = (-74.175, 40.69)\n",
        "    LGR = (-73.87, 40.77)\n",
        "    union_city=(-74.031959,40.770186)\n",
        "    new_jersy=( -74.036568,40.727895)\n",
        "    long_island_city=(-73.948408,40.745879)\n",
        "    brooklyn_downtown=(-73.986399,40.695182)\n",
        "    bronx=(-73.926420,40.835797)\n",
        "    lat1 = df['pickup_latitude']\n",
        "    lat2 = df['dropoff_latitude']\n",
        "    lon1 = df['pickup_longitude']\n",
        "    lon2 = df['dropoff_longitude']\n",
        "   \n",
        "    df['distance']=geodistance(lon1,lat1,lon2,lat2)\n",
        "  \n",
        "    df['NY_uptown_pickup_distance'] = geodistance(NY_uptown[0], NY_uptown[1], lon1, lat1)\n",
        "    df['NY_uptown_dropoff_distance'] =geodistance(NY_uptown[0], NY_uptown[1], lon2, lat2)\n",
        "    \n",
        "    df['NY_midtown_pickup_distance'] = geodistance(NY_midtown[0], NY_midtown[1], lon1, lat1)\n",
        "    df['NY_midtown_dropoff_distance'] =geodistance(NY_midtown[0], NY_midtown[1], lon2, lat2)\n",
        "    \n",
        "    df['NY_downtown_pickup_distance'] = geodistance(NY_downtown[0], NY_downtown[1], lon1, lat1)\n",
        "    df['NY_downtown_dropoff_distance'] =geodistance(NY_downtown[0], NY_downtown[1], lon2, lat2)\n",
        "    \n",
        "    df['JFK_pickup_distance'] = geodistance(JFK[0], JFK[1], lon1, lat1)\n",
        "    df['JFK_dropoff_distance'] =geodistance(JFK[0], JFK[1], lon2, lat2)\n",
        "    \n",
        "    df['EWR_pickup_distance'] = geodistance(EWR[0], EWR[1], lon1, lat1)\n",
        "    df['EWR_dropoff_distance'] =geodistance(EWR[0], EWR[1], lon2, lat2)\n",
        "    \n",
        "    df['LGR_pickup_distance'] = geodistance(LGR[0], LGR[1], lon1, lat1)\n",
        "    df['LGR_dropoff_distance'] =geodistance(LGR[0], LGR[1], lon2, lat2)\n",
        "    \n",
        "    df['union_city_pickup_distance'] = geodistance(union_city[0], union_city[1], lon1, lat1)\n",
        "    df['union_city_dropoff_distance'] =geodistance(union_city[0], union_city[1], lon2, lat2)\n",
        "    \n",
        "    df['new_jersy_pickup_distance'] = geodistance(new_jersy[0], new_jersy[1], lon1, lat1)\n",
        "    df['new_jersy_dropoff_distance'] =geodistance(new_jersy[0], new_jersy[1], lon2, lat2)\n",
        "    \n",
        "    df['long_island_city_pickup_distance'] = geodistance(long_island_city[0], long_island_city[1], lon1, lat1)\n",
        "    df['long_island_city_dropoff_distance'] =geodistance(long_island_city[0], long_island_city[1], lon2, lat2)\n",
        "    \n",
        "    df['brooklyn_downtown_pickup_distance'] = geodistance(brooklyn_downtown[0], brooklyn_downtown[1], lon1, lat1)\n",
        "    df['brooklyn_downtown_dropoff_distance'] =geodistance(brooklyn_downtown[0], brooklyn_downtown[1], lon2, lat2)\n",
        "    \n",
        "    df['bronx_pickup_distance'] = geodistance(bronx[0], bronx[1], lon1, lat1)\n",
        "    df['bronx_dropoff_distance'] =geodistance(bronx[0], bronx[1], lon2, lat2)\n",
        "    \n",
        "    \n",
        "    return df"
      ],
      "execution_count": 0,
      "outputs": []
    },
    {
      "cell_type": "code",
      "metadata": {
        "id": "28gbcY8_E60v",
        "colab_type": "code",
        "outputId": "f0e52a58-147f-4038-d725-0efc8b1e45f1",
        "colab": {
          "base_uri": "https://localhost:8080/",
          "height": 195
        }
      },
      "source": [
        "test_time.head()"
      ],
      "execution_count": 0,
      "outputs": [
        {
          "output_type": "execute_result",
          "data": {
            "text/html": [
              "<div>\n",
              "<style scoped>\n",
              "    .dataframe tbody tr th:only-of-type {\n",
              "        vertical-align: middle;\n",
              "    }\n",
              "\n",
              "    .dataframe tbody tr th {\n",
              "        vertical-align: top;\n",
              "    }\n",
              "\n",
              "    .dataframe thead th {\n",
              "        text-align: right;\n",
              "    }\n",
              "</style>\n",
              "<table border=\"1\" class=\"dataframe\">\n",
              "  <thead>\n",
              "    <tr style=\"text-align: right;\">\n",
              "      <th></th>\n",
              "      <th>pickup_longitude</th>\n",
              "      <th>pickup_latitude</th>\n",
              "      <th>dropoff_longitude</th>\n",
              "      <th>dropoff_latitude</th>\n",
              "      <th>passenger_count</th>\n",
              "      <th>year</th>\n",
              "      <th>spring</th>\n",
              "      <th>summer</th>\n",
              "      <th>fall</th>\n",
              "      <th>winter</th>\n",
              "      <th>workday</th>\n",
              "      <th>weekend</th>\n",
              "      <th>night</th>\n",
              "      <th>late_night</th>\n",
              "      <th>day_time</th>\n",
              "    </tr>\n",
              "  </thead>\n",
              "  <tbody>\n",
              "    <tr>\n",
              "      <th>0</th>\n",
              "      <td>-73.973320</td>\n",
              "      <td>40.763805</td>\n",
              "      <td>-73.981430</td>\n",
              "      <td>40.743835</td>\n",
              "      <td>1</td>\n",
              "      <td>2015</td>\n",
              "      <td>0</td>\n",
              "      <td>0</td>\n",
              "      <td>0</td>\n",
              "      <td>1</td>\n",
              "      <td>0</td>\n",
              "      <td>1</td>\n",
              "      <td>0</td>\n",
              "      <td>0</td>\n",
              "      <td>1</td>\n",
              "    </tr>\n",
              "    <tr>\n",
              "      <th>1</th>\n",
              "      <td>-73.986862</td>\n",
              "      <td>40.719383</td>\n",
              "      <td>-73.998886</td>\n",
              "      <td>40.739201</td>\n",
              "      <td>1</td>\n",
              "      <td>2015</td>\n",
              "      <td>0</td>\n",
              "      <td>0</td>\n",
              "      <td>0</td>\n",
              "      <td>1</td>\n",
              "      <td>0</td>\n",
              "      <td>1</td>\n",
              "      <td>0</td>\n",
              "      <td>0</td>\n",
              "      <td>1</td>\n",
              "    </tr>\n",
              "    <tr>\n",
              "      <th>2</th>\n",
              "      <td>-73.982524</td>\n",
              "      <td>40.751260</td>\n",
              "      <td>-73.979654</td>\n",
              "      <td>40.746139</td>\n",
              "      <td>1</td>\n",
              "      <td>2011</td>\n",
              "      <td>0</td>\n",
              "      <td>0</td>\n",
              "      <td>1</td>\n",
              "      <td>0</td>\n",
              "      <td>1</td>\n",
              "      <td>0</td>\n",
              "      <td>0</td>\n",
              "      <td>0</td>\n",
              "      <td>1</td>\n",
              "    </tr>\n",
              "    <tr>\n",
              "      <th>3</th>\n",
              "      <td>-73.981160</td>\n",
              "      <td>40.767807</td>\n",
              "      <td>-73.990448</td>\n",
              "      <td>40.751635</td>\n",
              "      <td>1</td>\n",
              "      <td>2012</td>\n",
              "      <td>0</td>\n",
              "      <td>0</td>\n",
              "      <td>1</td>\n",
              "      <td>0</td>\n",
              "      <td>1</td>\n",
              "      <td>0</td>\n",
              "      <td>0</td>\n",
              "      <td>1</td>\n",
              "      <td>0</td>\n",
              "    </tr>\n",
              "    <tr>\n",
              "      <th>4</th>\n",
              "      <td>-73.966046</td>\n",
              "      <td>40.789775</td>\n",
              "      <td>-73.988565</td>\n",
              "      <td>40.744427</td>\n",
              "      <td>1</td>\n",
              "      <td>2012</td>\n",
              "      <td>0</td>\n",
              "      <td>0</td>\n",
              "      <td>1</td>\n",
              "      <td>0</td>\n",
              "      <td>1</td>\n",
              "      <td>0</td>\n",
              "      <td>0</td>\n",
              "      <td>1</td>\n",
              "      <td>0</td>\n",
              "    </tr>\n",
              "  </tbody>\n",
              "</table>\n",
              "</div>"
            ],
            "text/plain": [
              "   pickup_longitude  pickup_latitude  ...  late_night  day_time\n",
              "0        -73.973320        40.763805  ...           0         1\n",
              "1        -73.986862        40.719383  ...           0         1\n",
              "2        -73.982524        40.751260  ...           0         1\n",
              "3        -73.981160        40.767807  ...           1         0\n",
              "4        -73.966046        40.789775  ...           1         0\n",
              "\n",
              "[5 rows x 15 columns]"
            ]
          },
          "metadata": {
            "tags": []
          },
          "execution_count": 16
        }
      ]
    },
    {
      "cell_type": "code",
      "metadata": {
        "id": "ysVCh2N27bZK",
        "colab_type": "code",
        "colab": {}
      },
      "source": [
        "# train_distance = add_distances_features(train_time)\n",
        "test_distance = add_distances_features(test_time)\n"
      ],
      "execution_count": 0,
      "outputs": []
    },
    {
      "cell_type": "code",
      "metadata": {
        "id": "ugc_MkwlKS7m",
        "colab_type": "code",
        "colab": {}
      },
      "source": [
        "train_distance = add_distances_features(train_time)"
      ],
      "execution_count": 0,
      "outputs": []
    },
    {
      "cell_type": "markdown",
      "metadata": {
        "id": "j6I_awfjx1tu",
        "colab_type": "text"
      },
      "source": [
        "show the maximum and minimum distance of train and test data"
      ]
    },
    {
      "cell_type": "code",
      "metadata": {
        "id": "ENxuXW-2IRyt",
        "colab_type": "code",
        "outputId": "60ac5600-c9de-4808-d17f-ea33d49134ce",
        "colab": {
          "base_uri": "https://localhost:8080/",
          "height": 84
        }
      },
      "source": [
        "print(test_distance['distance'].min())\n",
        "print(test_distance['distance'].max())\n",
        "print(train_distance['distance'].min())\n",
        "print(train_distance['distance'].max())"
      ],
      "execution_count": 0,
      "outputs": [
        {
          "output_type": "stream",
          "text": [
            "0.0\n",
            "99.9960403451414\n",
            "0.0001394069057807477\n",
            "110.83307658560919\n"
          ],
          "name": "stdout"
        }
      ]
    },
    {
      "cell_type": "markdown",
      "metadata": {
        "id": "bAUVCy2Fx__c",
        "colab_type": "text"
      },
      "source": [
        "It is found that the minimum distance of train and test is less than 10m, which is obviously inconsistent with common sense.\n",
        "View the distribution of the distance by using the describe function.\n",
        "25% sample distance<1.3km\n",
        "75% sample distance<4km\n",
        "99%sample distance<20km\n",
        "According to the New York City taxi pricing method and common sense, the distance is inversely proportional to the fare amount/distance. We need to add some new features according to the distance to reflect the difference between the unit price and the distance."
      ]
    },
    {
      "cell_type": "code",
      "metadata": {
        "id": "VbczqdnnJRef",
        "colab_type": "code",
        "outputId": "52898dd6-a93c-4499-cf0f-10b443da4b31",
        "colab": {
          "base_uri": "https://localhost:8080/",
          "height": 463
        }
      },
      "source": [
        "train_distance.distance.hist(bins=1000, figsize=(12,4))\n",
        "plt.xlabel('distance in km')\n",
        "plt.title(' number')\n",
        "train_distance.distance.describe(percentiles=[0.25,0.5,0.75,0.99])"
      ],
      "execution_count": 0,
      "outputs": [
        {
          "output_type": "execute_result",
          "data": {
            "text/plain": [
              "count    967328.000000\n",
              "mean          3.352031\n",
              "std           3.720369\n",
              "min           0.000139\n",
              "25%           1.279195\n",
              "50%           2.176560\n",
              "75%           3.944204\n",
              "99%          20.284325\n",
              "max         110.833077\n",
              "Name: distance, dtype: float64"
            ]
          },
          "metadata": {
            "tags": []
          },
          "execution_count": 20
        },
        {
          "output_type": "display_data",
          "data": {
            "image/png": "[encoded data removed]",
            "text/plain": [
              "<Figure size 864x288 with 1 Axes>"
            ]
          },
          "metadata": {
            "tags": []
          }
        }
      ]
    },
    {
      "cell_type": "markdown",
      "metadata": {
        "id": "JI0Himg1OJsS",
        "colab_type": "text"
      },
      "source": [
        "Remove the data with distance less than 10 meters"
      ]
    },
    {
      "cell_type": "code",
      "metadata": {
        "id": "_sSr2Tl_L5Bp",
        "colab_type": "code",
        "outputId": "d6272911-bf38-4d06-bd25-7220026393b3",
        "colab": {
          "base_uri": "https://localhost:8080/",
          "height": 50
        }
      },
      "source": [
        "print('Old size: %d' % len(train_distance))\n",
        "train_distance1 = train_distance[train_distance.distance>=0.01]\n",
        "print('New size: %d' % len(train_distance1))"
      ],
      "execution_count": 0,
      "outputs": [
        {
          "output_type": "stream",
          "text": [
            "Old size: 967328\n",
            "New size: 965415\n"
          ],
          "name": "stdout"
        }
      ]
    },
    {
      "cell_type": "markdown",
      "metadata": {
        "id": "mcgf6mQUMwpT",
        "colab_type": "text"
      },
      "source": [
        "Add new features according to distance: 0-1km, 1km-4km, 4km-15km, 15km~\n",
        "For example: distance=13km\n",
        "Feature: distance_1km=1, distance_4km=3, distance_15km=9"
      ]
    },
    {
      "cell_type": "code",
      "metadata": {
        "id": "6kBLOZn6MgQ-",
        "colab_type": "code",
        "colab": {}
      },
      "source": [
        "def distance_1km(row):\n",
        "    if row['distance'] <1:\n",
        "        return row['distance']\n",
        "    else:\n",
        "        return 1 \n",
        "def distance_4km(row):\n",
        "    if (row['distance'] >=1) and (row['distance'] <4):\n",
        "        return row['distance']-1\n",
        "    elif row['distance'] <1:\n",
        "        return 0\n",
        "    else:\n",
        "        return 3\n",
        "def distance_15km(row):\n",
        "    if (row['distance'] >=4) and (row['distance'] <15):\n",
        "        return row['distance']-4\n",
        "    elif row['distance'] <4:\n",
        "        return 0\n",
        "    else:\n",
        "        return 11  \n",
        "def distance_long(row):\n",
        "    if row['distance'] >=15:\n",
        "        return row['distance']-15\n",
        "    else:\n",
        "        return 0  \n",
        " \n",
        "\n",
        "def add_distance_filter_features(df):\n",
        "\n",
        "    df['distance_1km']=df.apply (lambda x: distance_1km(x), axis=1)\n",
        "    df['distance_4km']=df.apply (lambda x: distance_4km(x), axis=1)\n",
        "    df['distance_15km']=df.apply (lambda x: distance_15km(x), axis=1)\n",
        "    df['distance_long']=df.apply (lambda x: distance_long(x), axis=1)\n",
        " \n",
        "    \n",
        "    # Drop 'pickup_datetime' as we won't need it anymore\n",
        "#     df = df.drop('pickup_datetime', axis=1)\n",
        "    return df"
      ],
      "execution_count": 0,
      "outputs": []
    },
    {
      "cell_type": "markdown",
      "metadata": {
        "id": "01IqdIRl0OH6",
        "colab_type": "text"
      },
      "source": [
        "add new features related to distance"
      ]
    },
    {
      "cell_type": "code",
      "metadata": {
        "id": "IEn2Lw68PRIX",
        "colab_type": "code",
        "outputId": "d52cae4f-8d0d-4f42-d726-0427cba972f0",
        "colab": {
          "base_uri": "https://localhost:8080/",
          "height": 353
        }
      },
      "source": [
        "train_distance2 = add_distance_filter_features(train_distance1)\n"
      ],
      "execution_count": 0,
      "outputs": [
        {
          "output_type": "stream",
          "text": [
            "/usr/local/lib/python3.6/dist-packages/ipykernel_launcher.py:29: SettingWithCopyWarning: \n",
            "A value is trying to be set on a copy of a slice from a DataFrame.\n",
            "Try using .loc[row_indexer,col_indexer] = value instead\n",
            "\n",
            "See the caveats in the documentation: http://pandas.pydata.org/pandas-docs/stable/indexing.html#indexing-view-versus-copy\n",
            "/usr/local/lib/python3.6/dist-packages/ipykernel_launcher.py:30: SettingWithCopyWarning: \n",
            "A value is trying to be set on a copy of a slice from a DataFrame.\n",
            "Try using .loc[row_indexer,col_indexer] = value instead\n",
            "\n",
            "See the caveats in the documentation: http://pandas.pydata.org/pandas-docs/stable/indexing.html#indexing-view-versus-copy\n",
            "/usr/local/lib/python3.6/dist-packages/ipykernel_launcher.py:31: SettingWithCopyWarning: \n",
            "A value is trying to be set on a copy of a slice from a DataFrame.\n",
            "Try using .loc[row_indexer,col_indexer] = value instead\n",
            "\n",
            "See the caveats in the documentation: http://pandas.pydata.org/pandas-docs/stable/indexing.html#indexing-view-versus-copy\n",
            "/usr/local/lib/python3.6/dist-packages/ipykernel_launcher.py:32: SettingWithCopyWarning: \n",
            "A value is trying to be set on a copy of a slice from a DataFrame.\n",
            "Try using .loc[row_indexer,col_indexer] = value instead\n",
            "\n",
            "See the caveats in the documentation: http://pandas.pydata.org/pandas-docs/stable/indexing.html#indexing-view-versus-copy\n"
          ],
          "name": "stderr"
        }
      ]
    },
    {
      "cell_type": "code",
      "metadata": {
        "id": "0to_U0jCQmIC",
        "colab_type": "code",
        "outputId": "d95d2f6c-a07b-4f58-bfd0-73873acb26c9",
        "colab": {
          "base_uri": "https://localhost:8080/",
          "height": 34
        }
      },
      "source": [
        "test_distance2= add_distance_filter_features(test_distance)\n",
        "print(train_distance2.shape,test_distance2.shape)\n",
        "# print(train_distance2['distance'][20:40],train_distance2['distance_1km'][20:40],train_distance2['distance_4km'][20:40],train_distance2['distance_15km'][20:40],train_distance2['distance_long'][20:40])"
      ],
      "execution_count": 0,
      "outputs": [
        {
          "output_type": "stream",
          "text": [
            "(965415, 43) (9914, 42)\n"
          ],
          "name": "stdout"
        }
      ]
    },
    {
      "cell_type": "markdown",
      "metadata": {
        "id": "JmemWvRJ0UVl",
        "colab_type": "text"
      },
      "source": [
        "check features of train data"
      ]
    },
    {
      "cell_type": "code",
      "metadata": {
        "id": "DMH-wzgjU0O5",
        "colab_type": "code",
        "outputId": "eb3e936d-6042-40ec-a3d8-7a5f2c9420e4",
        "colab": {
          "base_uri": "https://localhost:8080/",
          "height": 756
        }
      },
      "source": [
        "train_distance2.dtypes"
      ],
      "execution_count": 0,
      "outputs": [
        {
          "output_type": "execute_result",
          "data": {
            "text/plain": [
              "fare_amount                           float64\n",
              "pickup_longitude                      float64\n",
              "pickup_latitude                       float64\n",
              "dropoff_longitude                     float64\n",
              "dropoff_latitude                      float64\n",
              "passenger_count                         int64\n",
              "year                                    int64\n",
              "spring                                  int64\n",
              "summer                                  int64\n",
              "fall                                    int64\n",
              "winter                                  int64\n",
              "workday                                 int64\n",
              "weekend                                 int64\n",
              "night                                   int64\n",
              "late_night                              int64\n",
              "day_time                                int64\n",
              "distance                              float64\n",
              "NY_uptown_pickup_distance             float64\n",
              "NY_uptown_dropoff_distance            float64\n",
              "NY_midtown_pickup_distance            float64\n",
              "NY_midtown_dropoff_distance           float64\n",
              "NY_downtown_pickup_distance           float64\n",
              "NY_downtown_dropoff_distance          float64\n",
              "JFK_pickup_distance                   float64\n",
              "JFK_dropoff_distance                  float64\n",
              "EWR_pickup_distance                   float64\n",
              "EWR_dropoff_distance                  float64\n",
              "LGR_pickup_distance                   float64\n",
              "LGR_dropoff_distance                  float64\n",
              "union_city_pickup_distance            float64\n",
              "union_city_dropoff_distance           float64\n",
              "new_jersy_pickup_distance             float64\n",
              "new_jersy_dropoff_distance            float64\n",
              "long_island_city_pickup_distance      float64\n",
              "long_island_city_dropoff_distance     float64\n",
              "brooklyn_downtown_pickup_distance     float64\n",
              "brooklyn_downtown_dropoff_distance    float64\n",
              "bronx_pickup_distance                 float64\n",
              "bronx_dropoff_distance                float64\n",
              "distance_1km                          float64\n",
              "distance_4km                          float64\n",
              "distance_15km                         float64\n",
              "distance_long                         float64\n",
              "dtype: object"
            ]
          },
          "metadata": {
            "tags": []
          },
          "execution_count": 25
        }
      ]
    },
    {
      "cell_type": "markdown",
      "metadata": {
        "id": "xbxk3Og50lfn",
        "colab_type": "text"
      },
      "source": [
        "Remove features: get up and drop off of latitude and longitude"
      ]
    },
    {
      "cell_type": "code",
      "metadata": {
        "id": "UMP3dZrr486r",
        "colab_type": "code",
        "outputId": "9f19191a-2b80-49c0-ac13-3fab2e87aef8",
        "colab": {
          "base_uri": "https://localhost:8080/",
          "height": 672
        }
      },
      "source": [
        "# clean\n",
        "dropped_columns = ['pickup_longitude', 'pickup_latitude', 'dropoff_longitude', 'dropoff_latitude','distance']\n",
        "train_clean = train_distance2.drop(dropped_columns, axis=1)\n",
        "test_clean = test_distance2.drop(dropped_columns , axis=1)\n",
        "\n",
        "# peek data\n",
        "train_clean.dtypes"
      ],
      "execution_count": 0,
      "outputs": [
        {
          "output_type": "execute_result",
          "data": {
            "text/plain": [
              "fare_amount                           float64\n",
              "passenger_count                         int64\n",
              "year                                    int64\n",
              "spring                                  int64\n",
              "summer                                  int64\n",
              "fall                                    int64\n",
              "winter                                  int64\n",
              "workday                                 int64\n",
              "weekend                                 int64\n",
              "night                                   int64\n",
              "late_night                              int64\n",
              "day_time                                int64\n",
              "NY_uptown_pickup_distance             float64\n",
              "NY_uptown_dropoff_distance            float64\n",
              "NY_midtown_pickup_distance            float64\n",
              "NY_midtown_dropoff_distance           float64\n",
              "NY_downtown_pickup_distance           float64\n",
              "NY_downtown_dropoff_distance          float64\n",
              "JFK_pickup_distance                   float64\n",
              "JFK_dropoff_distance                  float64\n",
              "EWR_pickup_distance                   float64\n",
              "EWR_dropoff_distance                  float64\n",
              "LGR_pickup_distance                   float64\n",
              "LGR_dropoff_distance                  float64\n",
              "union_city_pickup_distance            float64\n",
              "union_city_dropoff_distance           float64\n",
              "new_jersy_pickup_distance             float64\n",
              "new_jersy_dropoff_distance            float64\n",
              "long_island_city_pickup_distance      float64\n",
              "long_island_city_dropoff_distance     float64\n",
              "brooklyn_downtown_pickup_distance     float64\n",
              "brooklyn_downtown_dropoff_distance    float64\n",
              "bronx_pickup_distance                 float64\n",
              "bronx_dropoff_distance                float64\n",
              "distance_1km                          float64\n",
              "distance_4km                          float64\n",
              "distance_15km                         float64\n",
              "distance_long                         float64\n",
              "dtype: object"
            ]
          },
          "metadata": {
            "tags": []
          },
          "execution_count": 36
        }
      ]
    },
    {
      "cell_type": "markdown",
      "metadata": {
        "id": "_FCa4F9S06O_",
        "colab_type": "text"
      },
      "source": [
        "Extract the fare amount as y"
      ]
    },
    {
      "cell_type": "code",
      "metadata": {
        "id": "2BSNy4PYWXC5",
        "colab_type": "code",
        "colab": {}
      },
      "source": [
        "train_df, validation_df = train_test_split(train_clean, test_size=0.10, random_state=1)\n",
        "# Get labels\n",
        "train_labels = train_df['fare_amount'].values\n",
        "validation_labels = validation_df['fare_amount'].values\n",
        "train_df = train_df.drop(['fare_amount'], axis=1)\n",
        "validation_df = validation_df.drop(['fare_amount'], axis=1)"
      ],
      "execution_count": 0,
      "outputs": []
    },
    {
      "cell_type": "markdown",
      "metadata": {
        "id": "awJkqu8A1Acv",
        "colab_type": "text"
      },
      "source": [
        "scaler"
      ]
    },
    {
      "cell_type": "code",
      "metadata": {
        "id": "jkAJbnnmWaIn",
        "colab_type": "code",
        "outputId": "a4871175-d0dc-42b7-989a-00417e7ba774",
        "colab": {
          "base_uri": "https://localhost:8080/",
          "height": 50
        }
      },
      "source": [
        "scaler = preprocessing.MinMaxScaler()\n",
        "train_df_scaled = scaler.fit_transform(train_df)\n",
        "validation_df_scaled = scaler.transform(validation_df)\n",
        "test_scaled = scaler.transform(test_clean)"
      ],
      "execution_count": 0,
      "outputs": [
        {
          "output_type": "stream",
          "text": [
            "/usr/local/lib/python3.6/dist-packages/sklearn/preprocessing/data.py:334: DataConversionWarning: Data with input dtype int64, float64 were all converted to float64 by MinMaxScaler.\n",
            "  return self.partial_fit(X, y)\n"
          ],
          "name": "stderr"
        }
      ]
    },
    {
      "cell_type": "markdown",
      "metadata": {
        "id": "niGSeQP71Hax",
        "colab_type": "text"
      },
      "source": [
        "Select model type and set related parameters"
      ]
    },
    {
      "cell_type": "code",
      "metadata": {
        "id": "zszvJtrTWfoz",
        "colab_type": "code",
        "outputId": "e224d8fe-9903-463a-aa14-756a865edf7a",
        "colab": {
          "base_uri": "https://localhost:8080/",
          "height": 87
        }
      },
      "source": [
        "BATCH_SIZE = 256\n",
        "EPOCHS = 20\n",
        "LEARNING_RATE = 0.0003\n",
        "model = Sequential()\n",
        "model.add(Dense(256, activation='relu', input_dim=train_df_scaled.shape[1], activity_regularizer=regularizers.l1(0.01)))\n",
        "model.add(BatchNormalization())\n",
        "model.add(Dense(128, activation='relu'))\n",
        "model.add(BatchNormalization())\n",
        "model.add(Dense(64, activation='relu'))\n",
        "model.add(BatchNormalization())\n",
        "model.add(Dense(32, activation='relu'))\n",
        "model.add(BatchNormalization())\n",
        "model.add(Dense(8, activation='relu'))\n",
        "model.add(BatchNormalization())\n",
        "model.add(Dense(1))\n",
        "adam = optimizers.Adam(lr=LEARNING_RATE)\n",
        "model.compile(loss='mse', optimizer=adam, metrics=['mae'])"
      ],
      "execution_count": 0,
      "outputs": [
        {
          "output_type": "stream",
          "text": [
            "WARNING:tensorflow:From /usr/local/lib/python3.6/dist-packages/tensorflow/python/framework/op_def_library.py:263: colocate_with (from tensorflow.python.framework.ops) is deprecated and will be removed in a future version.\n",
            "Instructions for updating:\n",
            "Colocations handled automatically by placer.\n"
          ],
          "name": "stdout"
        }
      ]
    },
    {
      "cell_type": "code",
      "metadata": {
        "id": "16VKFj3FWiGZ",
        "colab_type": "code",
        "outputId": "b7fd8e8d-9ce6-4cc8-8140-179b06ff522a",
        "colab": {
          "base_uri": "https://localhost:8080/",
          "height": 776
        }
      },
      "source": [
        "history = model.fit(x=train_df_scaled, y=train_labels, batch_size=BATCH_SIZE, epochs=EPOCHS, \n",
        "                    verbose=1, validation_data=(validation_df_scaled, validation_labels), \n",
        "                    shuffle=True)"
      ],
      "execution_count": 0,
      "outputs": [
        {
          "output_type": "stream",
          "text": [
            "WARNING:tensorflow:From /usr/local/lib/python3.6/dist-packages/tensorflow/python/ops/math_ops.py:3066: to_int32 (from tensorflow.python.ops.math_ops) is deprecated and will be removed in a future version.\n",
            "Instructions for updating:\n",
            "Use tf.cast instead.\n",
            "Train on 868873 samples, validate on 96542 samples\n",
            "Epoch 1/20\n",
            "868873/868873 [==============================] - 42s 48us/step - loss: 69.5087 - mean_absolute_error: 6.5791 - val_loss: 14.6385 - val_mean_absolute_error: 2.0748\n",
            "Epoch 2/20\n",
            "868873/868873 [==============================] - 39s 45us/step - loss: 12.8486 - mean_absolute_error: 1.9822 - val_loss: 12.1264 - val_mean_absolute_error: 1.9954\n",
            "Epoch 3/20\n",
            "868873/868873 [==============================] - 39s 45us/step - loss: 12.2963 - mean_absolute_error: 1.9498 - val_loss: 11.3661 - val_mean_absolute_error: 1.8795\n",
            "Epoch 4/20\n",
            "868873/868873 [==============================] - 39s 45us/step - loss: 12.0985 - mean_absolute_error: 1.9346 - val_loss: 11.4372 - val_mean_absolute_error: 1.8370\n",
            "Epoch 5/20\n",
            "868873/868873 [==============================] - 38s 43us/step - loss: 11.8917 - mean_absolute_error: 1.9197 - val_loss: 11.4081 - val_mean_absolute_error: 1.9028\n",
            "Epoch 6/20\n",
            "868873/868873 [==============================] - 39s 44us/step - loss: 11.7301 - mean_absolute_error: 1.9140 - val_loss: 11.0591 - val_mean_absolute_error: 1.8523\n",
            "Epoch 7/20\n",
            "868873/868873 [==============================] - 38s 44us/step - loss: 11.6016 - mean_absolute_error: 1.9077 - val_loss: 10.9242 - val_mean_absolute_error: 1.8338\n",
            "Epoch 8/20\n",
            "868873/868873 [==============================] - 39s 45us/step - loss: 11.4264 - mean_absolute_error: 1.8957 - val_loss: 10.7069 - val_mean_absolute_error: 1.8408\n",
            "Epoch 9/20\n",
            "868873/868873 [==============================] - 37s 43us/step - loss: 11.3094 - mean_absolute_error: 1.8861 - val_loss: 10.7132 - val_mean_absolute_error: 1.7770\n",
            "Epoch 10/20\n",
            "868873/868873 [==============================] - 38s 44us/step - loss: 11.2338 - mean_absolute_error: 1.8797 - val_loss: 10.9653 - val_mean_absolute_error: 1.8093\n",
            "Epoch 11/20\n",
            "868873/868873 [==============================] - 39s 45us/step - loss: 11.1865 - mean_absolute_error: 1.8749 - val_loss: 10.6293 - val_mean_absolute_error: 1.8385\n",
            "Epoch 12/20\n",
            "868873/868873 [==============================] - 38s 44us/step - loss: 11.1090 - mean_absolute_error: 1.8686 - val_loss: 10.5821 - val_mean_absolute_error: 1.7774\n",
            "Epoch 13/20\n",
            "868873/868873 [==============================] - 38s 44us/step - loss: 11.0598 - mean_absolute_error: 1.8619 - val_loss: 10.9660 - val_mean_absolute_error: 1.8764\n",
            "Epoch 14/20\n",
            "868873/868873 [==============================] - 37s 43us/step - loss: 11.0406 - mean_absolute_error: 1.8583 - val_loss: 10.4072 - val_mean_absolute_error: 1.7551\n",
            "Epoch 15/20\n",
            "868873/868873 [==============================] - 40s 46us/step - loss: 10.9368 - mean_absolute_error: 1.8458 - val_loss: 10.7968 - val_mean_absolute_error: 1.8039\n",
            "Epoch 16/20\n",
            "868873/868873 [==============================] - 38s 44us/step - loss: 10.8952 - mean_absolute_error: 1.8391 - val_loss: 10.5920 - val_mean_absolute_error: 1.8869\n",
            "Epoch 17/20\n",
            "868873/868873 [==============================] - 39s 45us/step - loss: 10.8508 - mean_absolute_error: 1.8369 - val_loss: 10.3187 - val_mean_absolute_error: 1.7530\n",
            "Epoch 18/20\n",
            "868873/868873 [==============================] - 38s 44us/step - loss: 10.7689 - mean_absolute_error: 1.8234 - val_loss: 10.3781 - val_mean_absolute_error: 1.7942\n",
            "Epoch 19/20\n",
            "868873/868873 [==============================] - 41s 47us/step - loss: 10.7655 - mean_absolute_error: 1.8242 - val_loss: 10.4186 - val_mean_absolute_error: 1.7532\n",
            "Epoch 20/20\n",
            "868873/868873 [==============================] - 38s 44us/step - loss: 10.6853 - mean_absolute_error: 1.8140 - val_loss: 10.5039 - val_mean_absolute_error: 1.7663\n"
          ],
          "name": "stdout"
        }
      ]
    },
    {
      "cell_type": "markdown",
      "metadata": {
        "id": "IfuSByiD7Sjb",
        "colab_type": "text"
      },
      "source": [
        "drawing loss and epoch diagram"
      ]
    },
    {
      "cell_type": "code",
      "metadata": {
        "id": "jR7Vf7EvWk_V",
        "colab_type": "code",
        "outputId": "338a64eb-065f-4dfe-eea0-6d676bc7144b",
        "colab": {
          "base_uri": "https://localhost:8080/",
          "height": 350
        }
      },
      "source": [
        "plt.figure(figsize=(10,5))\n",
        "plt.plot(history.history['loss'])\n",
        "plt.plot(history.history['val_loss'])\n",
        "plt.title('model loss')\n",
        "plt.ylabel('loss')\n",
        "plt.xlabel('epoch')\n",
        "plt.legend(['train', 'test'], loc='upper right')\n",
        "plt.show()"
      ],
      "execution_count": 0,
      "outputs": [
        {
          "output_type": "display_data",
          "data": {
            "image/png": "[encoded data removed]",
            "text/plain": [
              "<Figure size 720x360 with 1 Axes>"
            ]
          },
          "metadata": {
            "tags": []
          }
        }
      ]
    },
    {
      "cell_type": "markdown",
      "metadata": {
        "id": "PBY1EnAy7dah",
        "colab_type": "text"
      },
      "source": [
        "Because the fare amount of test on kaggle is not available, so extract test data from train data, and predict test data"
      ]
    },
    {
      "cell_type": "code",
      "metadata": {
        "id": "3DLRGZGPWlo5",
        "colab_type": "code",
        "outputId": "57ede6b1-08af-488c-cb96-943d96d3e897",
        "colab": {
          "base_uri": "https://localhost:8080/",
          "height": 34
        }
      },
      "source": [
        "prediction = model.predict(train_df_scaled, batch_size=128, verbose=1)\n"
      ],
      "execution_count": 0,
      "outputs": [
        {
          "output_type": "stream",
          "text": [
            "868873/868873 [==============================] - 13s 14us/step\n"
          ],
          "name": "stdout"
        }
      ]
    },
    {
      "cell_type": "markdown",
      "metadata": {
        "id": "wYM3pKbT7m8m",
        "colab_type": "text"
      },
      "source": [
        "We assume that if the predict error is within 30% of the real price, the predict is accurate."
      ]
    },
    {
      "cell_type": "code",
      "metadata": {
        "id": "7KAxrS6RX18F",
        "colab_type": "code",
        "outputId": "9c325f6c-40f2-425e-edc7-f237dbcdfb4e",
        "colab": {
          "base_uri": "https://localhost:8080/",
          "height": 101
        }
      },
      "source": [
        "prediction=prediction.flatten()\n",
        "accuracy_list=np.abs(prediction-train_labels)/train_labels\n",
        "accuracy=np.mean(accuracy_list<0.30)\n",
        "print(accuracy_list[:20])\n",
        "print(accuracy)\n"
      ],
      "execution_count": 0,
      "outputs": [
        {
          "output_type": "stream",
          "text": [
            "[0.27249173 0.09233403 0.126237   0.14736319 0.06018993 0.10916719\n",
            " 0.22483926 0.10258478 0.07251043 0.09637578 0.17969412 0.15825241\n",
            " 0.13038989 0.10809241 0.0374755  0.17876499 0.11523229 0.19966091\n",
            " 0.14734396 0.03410161]\n",
            "0.8455861788776956\n"
          ],
          "name": "stdout"
        }
      ]
    },
    {
      "cell_type": "markdown",
      "metadata": {
        "id": "qO_-SAQJ8B1S",
        "colab_type": "text"
      },
      "source": [
        "calculate the RMSE, it's about 3-3.3 and far less than original error$5-$8"
      ]
    },
    {
      "cell_type": "code",
      "metadata": {
        "id": "-fiQ7jf7aoES",
        "colab_type": "code",
        "outputId": "ce96b87a-0b06-4d91-9539-6f467748f36b",
        "colab": {
          "base_uri": "https://localhost:8080/",
          "height": 34
        }
      },
      "source": [
        "accuracy_magnitude=np.sqrt(np.sum((prediction-train_labels)**2)/prediction.shape[0])\n",
        "accuracy_magnitude"
      ],
      "execution_count": 0,
      "outputs": [
        {
          "output_type": "execute_result",
          "data": {
            "text/plain": [
              "3.216165027970619"
            ]
          },
          "metadata": {
            "tags": []
          },
          "execution_count": 34
        }
      ]
    }
  ]
}