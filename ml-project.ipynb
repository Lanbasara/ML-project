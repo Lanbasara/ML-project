{
 "cells": [
  {
   "cell_type": "markdown",
   "metadata": {},
   "source": [
    "# New York City Taxi Fare Prediction"
   ]
  },
  {
   "cell_type": "markdown",
   "metadata": {},
   "source": [
    "## Team member：\n",
    "### Haoun Guo          hg1483\n",
    "### Da Cai             dc4069\n",
    "### Naisheng Zhang     nz862"
   ]
  },
  {
   "cell_type": "code",
   "execution_count": 1,
   "metadata": {
    "_cell_guid": "b1076dfc-b9ad-4769-8c92-a6c4dae69d19",
    "_uuid": "8f2839f25d086af736a60e9eeb907d3b93b6e0e5"
   },
   "outputs": [
    {
     "name": "stderr",
     "output_type": "stream",
     "text": [
      "Using TensorFlow backend.\n"
     ]
    }
   ],
   "source": [
    "import numpy as np\n",
    "import pandas as pd\n",
    "from datetime import datetime\n",
    "import matplotlib.pyplot as plt\n",
    "from sklearn import preprocessing\n",
    "from sklearn.model_selection import train_test_split\n",
    "from keras.models import Sequential\n",
    "from keras.layers import Dense, Dropout, BatchNormalization\n",
    "from keras.callbacks import EarlyStopping\n",
    "from keras import optimizers\n",
    "from keras import regularizers"
   ]
  },
  {
   "cell_type": "markdown",
   "metadata": {},
   "source": [
    "## Step 1 : Data load and clean"
   ]
  },
  {
   "cell_type": "code",
   "execution_count": 2,
   "metadata": {
    "_cell_guid": "79c7e3d0-c299-4dcb-8224-4455121ee9b0",
    "_uuid": "d629ff2d2480ee46fbb7e2d37f6b5fab8052498a"
   },
   "outputs": [
    {
     "data": {
      "text/html": [
       "<div>\n",
       "<style scoped>\n",
       "    .dataframe tbody tr th:only-of-type {\n",
       "        vertical-align: middle;\n",
       "    }\n",
       "\n",
       "    .dataframe tbody tr th {\n",
       "        vertical-align: top;\n",
       "    }\n",
       "\n",
       "    .dataframe thead th {\n",
       "        text-align: right;\n",
       "    }\n",
       "</style>\n",
       "<table border=\"1\" class=\"dataframe\">\n",
       "  <thead>\n",
       "    <tr style=\"text-align: right;\">\n",
       "      <th></th>\n",
       "      <th>fare_amount</th>\n",
       "      <th>pickup_datetime</th>\n",
       "      <th>pickup_longitude</th>\n",
       "      <th>pickup_latitude</th>\n",
       "      <th>dropoff_longitude</th>\n",
       "      <th>dropoff_latitude</th>\n",
       "    </tr>\n",
       "  </thead>\n",
       "  <tbody>\n",
       "    <tr>\n",
       "      <th>0</th>\n",
       "      <td>4.5</td>\n",
       "      <td>2009-06-15 17:26:21 UTC</td>\n",
       "      <td>-73.844315</td>\n",
       "      <td>40.721317</td>\n",
       "      <td>-73.841614</td>\n",
       "      <td>40.712276</td>\n",
       "    </tr>\n",
       "    <tr>\n",
       "      <th>1</th>\n",
       "      <td>16.9</td>\n",
       "      <td>2010-01-05 16:52:16 UTC</td>\n",
       "      <td>-74.016045</td>\n",
       "      <td>40.711304</td>\n",
       "      <td>-73.979271</td>\n",
       "      <td>40.782005</td>\n",
       "    </tr>\n",
       "    <tr>\n",
       "      <th>2</th>\n",
       "      <td>5.7</td>\n",
       "      <td>2011-08-18 00:35:00 UTC</td>\n",
       "      <td>-73.982735</td>\n",
       "      <td>40.761269</td>\n",
       "      <td>-73.991241</td>\n",
       "      <td>40.750561</td>\n",
       "    </tr>\n",
       "    <tr>\n",
       "      <th>3</th>\n",
       "      <td>7.7</td>\n",
       "      <td>2012-04-21 04:30:42 UTC</td>\n",
       "      <td>-73.987129</td>\n",
       "      <td>40.733143</td>\n",
       "      <td>-73.991570</td>\n",
       "      <td>40.758091</td>\n",
       "    </tr>\n",
       "    <tr>\n",
       "      <th>4</th>\n",
       "      <td>5.3</td>\n",
       "      <td>2010-03-09 07:51:00 UTC</td>\n",
       "      <td>-73.968094</td>\n",
       "      <td>40.768009</td>\n",
       "      <td>-73.956657</td>\n",
       "      <td>40.783764</td>\n",
       "    </tr>\n",
       "  </tbody>\n",
       "</table>\n",
       "</div>"
      ],
      "text/plain": [
       "   fare_amount       ...        dropoff_latitude\n",
       "0          4.5       ...               40.712276\n",
       "1         16.9       ...               40.782005\n",
       "2          5.7       ...               40.750561\n",
       "3          7.7       ...               40.758091\n",
       "4          5.3       ...               40.783764\n",
       "\n",
       "[5 rows x 6 columns]"
      ]
     },
     "execution_count": 2,
     "metadata": {},
     "output_type": "execute_result"
    }
   ],
   "source": [
    "TRAIN_PATH = '../input/train.csv'\n",
    "TEST_PATH = '../input/test.csv'\n",
    "SUBMISSION_NAME = 'submission.csv'\n",
    "DATASET_SIZE = 200000\n",
    "datatypes = {'key': 'str', \n",
    "              'fare_amount': 'float32',\n",
    "              'pickup_datetime': 'str', \n",
    "              'pickup_longitude': 'float32',\n",
    "              'pickup_latitude': 'float32',\n",
    "              'dropoff_longitude': 'float32',\n",
    "              'dropoff_latitude': 'float32',\n",
    "              'passenger_count': 'uint8'}\n",
    "train = pd.read_csv(TRAIN_PATH, nrows=DATASET_SIZE, dtype=datatypes, usecols=[1,2,3,4,5,6])\n",
    "test = pd.read_csv(TEST_PATH)\n",
    "train.head()"
   ]
  },
  {
   "cell_type": "markdown",
   "metadata": {},
   "source": [
    "## step 2: Data clean"
   ]
  },
  {
   "cell_type": "markdown",
   "metadata": {},
   "source": [
    "### After analysis of data, we need to remove some noisy from data.\n",
    "* Lats and lons that do not belong to New York.\n",
    "* Negative fare.\n",
    "* Fare greater than 250 (this seems to be noisy data).\n",
    "* Rides that begin and end in the same location."
   ]
  },
  {
   "cell_type": "code",
   "execution_count": 3,
   "metadata": {},
   "outputs": [],
   "source": [
    "def clean(df):\n",
    "    # Delimiter lats and lons to NY only\n",
    "    df = df[(-76 <= df['pickup_longitude']) & (df['pickup_longitude'] <= -72)]\n",
    "    df = df[(-76 <= df['dropoff_longitude']) & (df['dropoff_longitude'] <= -72)]\n",
    "    df = df[(38 <= df['pickup_latitude']) & (df['pickup_latitude'] <= 42)]\n",
    "    df = df[(38 <= df['dropoff_latitude']) & (df['dropoff_latitude'] <= 42)]\n",
    "    # Remove possible outliers\n",
    "    df = df[(0 < df['fare_amount']) & (df['fare_amount'] <= 250)]\n",
    "    # Remove inconsistent values\n",
    "    df = df[(df['dropoff_longitude'] != df['pickup_longitude'])]\n",
    "    df = df[(df['dropoff_latitude'] != df['pickup_latitude'])]\n",
    "    \n",
    "    return df\n",
    "train = clean(train)"
   ]
  },
  {
   "cell_type": "markdown",
   "metadata": {},
   "source": [
    "## step 3.1 : Time features"
   ]
  },
  {
   "cell_type": "markdown",
   "metadata": {},
   "source": [
    "\n",
    "* * Year, Month, Day, Hour, Weekday\n",
    "* * Night (between 16h and 20h, from monday to friday)\n",
    "* * Late night (between 20h and and 6h)"
   ]
  },
  {
   "cell_type": "code",
   "execution_count": 4,
   "metadata": {},
   "outputs": [],
   "source": [
    "def late_night (row):\n",
    "    if (row['hour'] <= 6) or (row['hour'] >= 20):\n",
    "        return 1\n",
    "    else:\n",
    "        return 0\n",
    "def night (row):\n",
    "    if ((row['hour'] <= 20) and (row['hour'] >= 16)) and (row['weekday'] < 5):\n",
    "        return 1\n",
    "    else:\n",
    "        return 0    \n",
    "def add_time_features(df):\n",
    "    df['pickup_datetime'] =  pd.to_datetime(df['pickup_datetime'], format='%Y-%m-%d %H:%M:%S %Z')\n",
    "    df['year'] = df['pickup_datetime'].apply(lambda x: x.year)\n",
    "    df['month'] = df['pickup_datetime'].apply(lambda x: x.month)\n",
    "    df['day'] = df['pickup_datetime'].apply(lambda x: x.day)\n",
    "    df['hour'] = df['pickup_datetime'].apply(lambda x: x.hour)\n",
    "    df['weekday'] = df['pickup_datetime'].apply(lambda x: x.weekday())\n",
    "    df['pickup_datetime'] =  df['pickup_datetime'].apply(lambda x: str(x))\n",
    "    df['night'] = df.apply (lambda x: night(x), axis=1)\n",
    "    df['late_night'] = df.apply (lambda x: late_night(x), axis=1)\n",
    "    # Drop 'pickup_datetime' as we won't need it anymore\n",
    "    df = df.drop('pickup_datetime', axis=1)\n",
    "    return df"
   ]
  },
  {
   "cell_type": "markdown",
   "metadata": {},
   "source": [
    "## step 3.2 : Coordinate features"
   ]
  },
  {
   "cell_type": "markdown",
   "metadata": {},
   "source": [
    "* * Latitude difference (difference from pickup and dropout latitudes)\n",
    "* * Longitude difference (difference from pickup and dropout longitudes)"
   ]
  },
  {
   "cell_type": "code",
   "execution_count": 5,
   "metadata": {},
   "outputs": [],
   "source": [
    "def add_coordinate_features(df):\n",
    "    lat1 = df['pickup_latitude']\n",
    "    lat2 = df['dropoff_latitude']\n",
    "    lon1 = df['pickup_longitude']\n",
    "    lon2 = df['dropoff_longitude']\n",
    "    # Add new features\n",
    "    df['latdiff'] = (lat1 - lat2)\n",
    "    df['londiff'] = (lon1 - lon2)\n",
    "    return df"
   ]
  },
  {
   "cell_type": "markdown",
   "metadata": {},
   "source": [
    "## step 3.3 : Distances features"
   ]
  },
  {
   "cell_type": "code",
   "execution_count": 6,
   "metadata": {},
   "outputs": [],
   "source": [
    "def manhattan(pickup_lat, pickup_long, dropoff_lat, dropoff_long):\n",
    "    return np.abs(dropoff_lat - pickup_lat) + np.abs(dropoff_long - pickup_long)\n",
    "def add_distances_features(df):\n",
    "    # Add distances from airpot and downtown\n",
    "    ny = (-74.0063889, 40.7141667)\n",
    "    jfk = (-73.7822222222, 40.6441666667)\n",
    "    ewr = (-74.175, 40.69)\n",
    "    lgr = (-73.87, 40.77)\n",
    "    \n",
    "    lat1 = df['pickup_latitude']\n",
    "    lat2 = df['dropoff_latitude']\n",
    "    lon1 = df['pickup_longitude']\n",
    "    lon2 = df['dropoff_longitude']\n",
    "    \n",
    "    df['euclidean'] = (df['latdiff'] ** 2 + df['londiff'] ** 2) ** 0.5\n",
    "    df['manhattan'] = manhattan(lat1, lon1, lat2, lon2)\n",
    "    \n",
    "    df['downtown_pickup_distance'] = manhattan(ny[1], ny[0], lat1, lon1)\n",
    "    df['downtown_dropoff_distance'] = manhattan(ny[1], ny[0], lat2, lon2)\n",
    "    df['jfk_pickup_distance'] = manhattan(jfk[1], jfk[0], lat1, lon1)\n",
    "    df['jfk_dropoff_distance'] = manhattan(jfk[1], jfk[0], lat2, lon2)\n",
    "    df['ewr_pickup_distance'] = manhattan(ewr[1], ewr[0], lat1, lon1)\n",
    "    df['ewr_dropoff_distance'] = manhattan(ewr[1], ewr[0], lat2, lon2)\n",
    "    df['lgr_pickup_distance'] = manhattan(lgr[1], lgr[0], lat1, lon1)\n",
    "    df['lgr_dropoff_distance'] = manhattan(lgr[1], lgr[0], lat2, lon2)\n",
    "    return df"
   ]
  },
  {
   "cell_type": "markdown",
   "metadata": {},
   "source": [
    "## step 4 : Process data"
   ]
  },
  {
   "cell_type": "code",
   "execution_count": 7,
   "metadata": {},
   "outputs": [
    {
     "data": {
      "text/html": [
       "<div>\n",
       "<style scoped>\n",
       "    .dataframe tbody tr th:only-of-type {\n",
       "        vertical-align: middle;\n",
       "    }\n",
       "\n",
       "    .dataframe tbody tr th {\n",
       "        vertical-align: top;\n",
       "    }\n",
       "\n",
       "    .dataframe thead th {\n",
       "        text-align: right;\n",
       "    }\n",
       "</style>\n",
       "<table border=\"1\" class=\"dataframe\">\n",
       "  <thead>\n",
       "    <tr style=\"text-align: right;\">\n",
       "      <th></th>\n",
       "      <th>fare_amount</th>\n",
       "      <th>pickup_longitude</th>\n",
       "      <th>pickup_latitude</th>\n",
       "      <th>dropoff_longitude</th>\n",
       "      <th>dropoff_latitude</th>\n",
       "      <th>year</th>\n",
       "      <th>month</th>\n",
       "      <th>day</th>\n",
       "      <th>hour</th>\n",
       "      <th>weekday</th>\n",
       "      <th>night</th>\n",
       "      <th>late_night</th>\n",
       "      <th>latdiff</th>\n",
       "      <th>londiff</th>\n",
       "      <th>euclidean</th>\n",
       "      <th>manhattan</th>\n",
       "      <th>downtown_pickup_distance</th>\n",
       "      <th>downtown_dropoff_distance</th>\n",
       "      <th>jfk_pickup_distance</th>\n",
       "      <th>jfk_dropoff_distance</th>\n",
       "      <th>ewr_pickup_distance</th>\n",
       "      <th>ewr_dropoff_distance</th>\n",
       "      <th>lgr_pickup_distance</th>\n",
       "      <th>lgr_dropoff_distance</th>\n",
       "    </tr>\n",
       "  </thead>\n",
       "  <tbody>\n",
       "    <tr>\n",
       "      <th>0</th>\n",
       "      <td>4.5</td>\n",
       "      <td>-73.844315</td>\n",
       "      <td>40.721317</td>\n",
       "      <td>-73.841614</td>\n",
       "      <td>40.712276</td>\n",
       "      <td>2009</td>\n",
       "      <td>6</td>\n",
       "      <td>15</td>\n",
       "      <td>17</td>\n",
       "      <td>0</td>\n",
       "      <td>1</td>\n",
       "      <td>0</td>\n",
       "      <td>0.009041</td>\n",
       "      <td>-0.002701</td>\n",
       "      <td>0.009436</td>\n",
       "      <td>0.011742</td>\n",
       "      <td>0.169225</td>\n",
       "      <td>0.166665</td>\n",
       "      <td>0.139243</td>\n",
       "      <td>0.127501</td>\n",
       "      <td>0.362003</td>\n",
       "      <td>0.355663</td>\n",
       "      <td>0.074368</td>\n",
       "      <td>0.086110</td>\n",
       "    </tr>\n",
       "    <tr>\n",
       "      <th>1</th>\n",
       "      <td>16.9</td>\n",
       "      <td>-74.016045</td>\n",
       "      <td>40.711304</td>\n",
       "      <td>-73.979271</td>\n",
       "      <td>40.782005</td>\n",
       "      <td>2010</td>\n",
       "      <td>1</td>\n",
       "      <td>5</td>\n",
       "      <td>16</td>\n",
       "      <td>1</td>\n",
       "      <td>1</td>\n",
       "      <td>0</td>\n",
       "      <td>-0.070702</td>\n",
       "      <td>-0.036774</td>\n",
       "      <td>0.079693</td>\n",
       "      <td>0.107475</td>\n",
       "      <td>0.012519</td>\n",
       "      <td>0.094957</td>\n",
       "      <td>0.300959</td>\n",
       "      <td>0.334887</td>\n",
       "      <td>0.180259</td>\n",
       "      <td>0.287734</td>\n",
       "      <td>0.204741</td>\n",
       "      <td>0.121276</td>\n",
       "    </tr>\n",
       "    <tr>\n",
       "      <th>2</th>\n",
       "      <td>5.7</td>\n",
       "      <td>-73.982735</td>\n",
       "      <td>40.761269</td>\n",
       "      <td>-73.991241</td>\n",
       "      <td>40.750561</td>\n",
       "      <td>2011</td>\n",
       "      <td>8</td>\n",
       "      <td>18</td>\n",
       "      <td>0</td>\n",
       "      <td>3</td>\n",
       "      <td>0</td>\n",
       "      <td>1</td>\n",
       "      <td>0.010708</td>\n",
       "      <td>0.008507</td>\n",
       "      <td>0.013676</td>\n",
       "      <td>0.019215</td>\n",
       "      <td>0.070756</td>\n",
       "      <td>0.051542</td>\n",
       "      <td>0.317614</td>\n",
       "      <td>0.315413</td>\n",
       "      <td>0.263534</td>\n",
       "      <td>0.244319</td>\n",
       "      <td>0.121466</td>\n",
       "      <td>0.140681</td>\n",
       "    </tr>\n",
       "    <tr>\n",
       "      <th>3</th>\n",
       "      <td>7.7</td>\n",
       "      <td>-73.987129</td>\n",
       "      <td>40.733143</td>\n",
       "      <td>-73.991570</td>\n",
       "      <td>40.758091</td>\n",
       "      <td>2012</td>\n",
       "      <td>4</td>\n",
       "      <td>21</td>\n",
       "      <td>4</td>\n",
       "      <td>5</td>\n",
       "      <td>0</td>\n",
       "      <td>1</td>\n",
       "      <td>-0.024948</td>\n",
       "      <td>0.004440</td>\n",
       "      <td>0.025340</td>\n",
       "      <td>0.029388</td>\n",
       "      <td>0.038236</td>\n",
       "      <td>0.058744</td>\n",
       "      <td>0.293883</td>\n",
       "      <td>0.323272</td>\n",
       "      <td>0.231014</td>\n",
       "      <td>0.251521</td>\n",
       "      <td>0.153986</td>\n",
       "      <td>0.133479</td>\n",
       "    </tr>\n",
       "    <tr>\n",
       "      <th>4</th>\n",
       "      <td>5.3</td>\n",
       "      <td>-73.968094</td>\n",
       "      <td>40.768009</td>\n",
       "      <td>-73.956657</td>\n",
       "      <td>40.783764</td>\n",
       "      <td>2010</td>\n",
       "      <td>3</td>\n",
       "      <td>9</td>\n",
       "      <td>7</td>\n",
       "      <td>1</td>\n",
       "      <td>0</td>\n",
       "      <td>0</td>\n",
       "      <td>-0.015755</td>\n",
       "      <td>-0.011436</td>\n",
       "      <td>0.019468</td>\n",
       "      <td>0.027191</td>\n",
       "      <td>0.092138</td>\n",
       "      <td>0.119329</td>\n",
       "      <td>0.309714</td>\n",
       "      <td>0.314032</td>\n",
       "      <td>0.284915</td>\n",
       "      <td>0.312106</td>\n",
       "      <td>0.100085</td>\n",
       "      <td>0.100421</td>\n",
       "    </tr>\n",
       "  </tbody>\n",
       "</table>\n",
       "</div>"
      ],
      "text/plain": [
       "   fare_amount          ...           lgr_dropoff_distance\n",
       "0          4.5          ...                       0.086110\n",
       "1         16.9          ...                       0.121276\n",
       "2          5.7          ...                       0.140681\n",
       "3          7.7          ...                       0.133479\n",
       "4          5.3          ...                       0.100421\n",
       "\n",
       "[5 rows x 24 columns]"
      ]
     },
     "execution_count": 7,
     "metadata": {},
     "output_type": "execute_result"
    }
   ],
   "source": [
    "train = add_time_features(train)\n",
    "test = add_time_features(test)\n",
    "add_coordinate_features(train)\n",
    "add_coordinate_features(test)\n",
    "train = add_distances_features(train)\n",
    "test = add_distances_features(test)\n",
    "train.head()"
   ]
  },
  {
   "cell_type": "code",
   "execution_count": 8,
   "metadata": {},
   "outputs": [
    {
     "data": {
      "text/html": [
       "<div>\n",
       "<style scoped>\n",
       "    .dataframe tbody tr th:only-of-type {\n",
       "        vertical-align: middle;\n",
       "    }\n",
       "\n",
       "    .dataframe tbody tr th {\n",
       "        vertical-align: top;\n",
       "    }\n",
       "\n",
       "    .dataframe thead th {\n",
       "        text-align: right;\n",
       "    }\n",
       "</style>\n",
       "<table border=\"1\" class=\"dataframe\">\n",
       "  <thead>\n",
       "    <tr style=\"text-align: right;\">\n",
       "      <th></th>\n",
       "      <th>fare_amount</th>\n",
       "      <th>year</th>\n",
       "      <th>month</th>\n",
       "      <th>day</th>\n",
       "      <th>hour</th>\n",
       "      <th>weekday</th>\n",
       "      <th>night</th>\n",
       "      <th>late_night</th>\n",
       "      <th>latdiff</th>\n",
       "      <th>londiff</th>\n",
       "      <th>euclidean</th>\n",
       "      <th>manhattan</th>\n",
       "      <th>downtown_pickup_distance</th>\n",
       "      <th>downtown_dropoff_distance</th>\n",
       "      <th>jfk_pickup_distance</th>\n",
       "      <th>jfk_dropoff_distance</th>\n",
       "      <th>ewr_pickup_distance</th>\n",
       "      <th>ewr_dropoff_distance</th>\n",
       "      <th>lgr_pickup_distance</th>\n",
       "      <th>lgr_dropoff_distance</th>\n",
       "    </tr>\n",
       "  </thead>\n",
       "  <tbody>\n",
       "    <tr>\n",
       "      <th>0</th>\n",
       "      <td>4.5</td>\n",
       "      <td>2009</td>\n",
       "      <td>6</td>\n",
       "      <td>15</td>\n",
       "      <td>17</td>\n",
       "      <td>0</td>\n",
       "      <td>1</td>\n",
       "      <td>0</td>\n",
       "      <td>0.009041</td>\n",
       "      <td>-0.002701</td>\n",
       "      <td>0.009436</td>\n",
       "      <td>0.011742</td>\n",
       "      <td>0.169225</td>\n",
       "      <td>0.166665</td>\n",
       "      <td>0.139243</td>\n",
       "      <td>0.127501</td>\n",
       "      <td>0.362003</td>\n",
       "      <td>0.355663</td>\n",
       "      <td>0.074368</td>\n",
       "      <td>0.086110</td>\n",
       "    </tr>\n",
       "    <tr>\n",
       "      <th>1</th>\n",
       "      <td>16.9</td>\n",
       "      <td>2010</td>\n",
       "      <td>1</td>\n",
       "      <td>5</td>\n",
       "      <td>16</td>\n",
       "      <td>1</td>\n",
       "      <td>1</td>\n",
       "      <td>0</td>\n",
       "      <td>-0.070702</td>\n",
       "      <td>-0.036774</td>\n",
       "      <td>0.079693</td>\n",
       "      <td>0.107475</td>\n",
       "      <td>0.012519</td>\n",
       "      <td>0.094957</td>\n",
       "      <td>0.300959</td>\n",
       "      <td>0.334887</td>\n",
       "      <td>0.180259</td>\n",
       "      <td>0.287734</td>\n",
       "      <td>0.204741</td>\n",
       "      <td>0.121276</td>\n",
       "    </tr>\n",
       "    <tr>\n",
       "      <th>2</th>\n",
       "      <td>5.7</td>\n",
       "      <td>2011</td>\n",
       "      <td>8</td>\n",
       "      <td>18</td>\n",
       "      <td>0</td>\n",
       "      <td>3</td>\n",
       "      <td>0</td>\n",
       "      <td>1</td>\n",
       "      <td>0.010708</td>\n",
       "      <td>0.008507</td>\n",
       "      <td>0.013676</td>\n",
       "      <td>0.019215</td>\n",
       "      <td>0.070756</td>\n",
       "      <td>0.051542</td>\n",
       "      <td>0.317614</td>\n",
       "      <td>0.315413</td>\n",
       "      <td>0.263534</td>\n",
       "      <td>0.244319</td>\n",
       "      <td>0.121466</td>\n",
       "      <td>0.140681</td>\n",
       "    </tr>\n",
       "    <tr>\n",
       "      <th>3</th>\n",
       "      <td>7.7</td>\n",
       "      <td>2012</td>\n",
       "      <td>4</td>\n",
       "      <td>21</td>\n",
       "      <td>4</td>\n",
       "      <td>5</td>\n",
       "      <td>0</td>\n",
       "      <td>1</td>\n",
       "      <td>-0.024948</td>\n",
       "      <td>0.004440</td>\n",
       "      <td>0.025340</td>\n",
       "      <td>0.029388</td>\n",
       "      <td>0.038236</td>\n",
       "      <td>0.058744</td>\n",
       "      <td>0.293883</td>\n",
       "      <td>0.323272</td>\n",
       "      <td>0.231014</td>\n",
       "      <td>0.251521</td>\n",
       "      <td>0.153986</td>\n",
       "      <td>0.133479</td>\n",
       "    </tr>\n",
       "    <tr>\n",
       "      <th>4</th>\n",
       "      <td>5.3</td>\n",
       "      <td>2010</td>\n",
       "      <td>3</td>\n",
       "      <td>9</td>\n",
       "      <td>7</td>\n",
       "      <td>1</td>\n",
       "      <td>0</td>\n",
       "      <td>0</td>\n",
       "      <td>-0.015755</td>\n",
       "      <td>-0.011436</td>\n",
       "      <td>0.019468</td>\n",
       "      <td>0.027191</td>\n",
       "      <td>0.092138</td>\n",
       "      <td>0.119329</td>\n",
       "      <td>0.309714</td>\n",
       "      <td>0.314032</td>\n",
       "      <td>0.284915</td>\n",
       "      <td>0.312106</td>\n",
       "      <td>0.100085</td>\n",
       "      <td>0.100421</td>\n",
       "    </tr>\n",
       "  </tbody>\n",
       "</table>\n",
       "</div>"
      ],
      "text/plain": [
       "   fare_amount          ...           lgr_dropoff_distance\n",
       "0          4.5          ...                       0.086110\n",
       "1         16.9          ...                       0.121276\n",
       "2          5.7          ...                       0.140681\n",
       "3          7.7          ...                       0.133479\n",
       "4          5.3          ...                       0.100421\n",
       "\n",
       "[5 rows x 20 columns]"
      ]
     },
     "execution_count": 8,
     "metadata": {},
     "output_type": "execute_result"
    }
   ],
   "source": [
    "dropped_columns = ['pickup_longitude', 'pickup_latitude', \n",
    "                   'dropoff_longitude', 'dropoff_latitude']\n",
    "train_clean = train.drop(dropped_columns, axis=1)\n",
    "test_clean = test.drop(dropped_columns + ['key', 'passenger_count'], axis=1)\n",
    "\n",
    "# peek data\n",
    "train_clean.head()"
   ]
  },
  {
   "cell_type": "markdown",
   "metadata": {},
   "source": [
    "## step 5 : Split data in train and validation"
   ]
  },
  {
   "cell_type": "code",
   "execution_count": 9,
   "metadata": {},
   "outputs": [],
   "source": [
    "train_df, validation_df = train_test_split(train_clean, test_size=0.10, random_state=1)\n",
    "# Get labels\n",
    "train_labels = train_df['fare_amount'].values\n",
    "validation_labels = validation_df['fare_amount'].values\n",
    "train_df = train_df.drop(['fare_amount'], axis=1)\n",
    "validation_df = validation_df.drop(['fare_amount'], axis=1)"
   ]
  },
  {
   "cell_type": "code",
   "execution_count": 10,
   "metadata": {},
   "outputs": [
    {
     "name": "stderr",
     "output_type": "stream",
     "text": [
      "/opt/conda/lib/python3.6/site-packages/sklearn/preprocessing/data.py:334: DataConversionWarning: Data with input dtype int64, float32, float64 were all converted to float64 by MinMaxScaler.\n",
      "  return self.partial_fit(X, y)\n"
     ]
    }
   ],
   "source": [
    "scaler = preprocessing.MinMaxScaler()\n",
    "train_df_scaled = scaler.fit_transform(train_df)\n",
    "validation_df_scaled = scaler.transform(validation_df)\n",
    "test_scaled = scaler.transform(test_clean)"
   ]
  },
  {
   "cell_type": "markdown",
   "metadata": {},
   "source": [
    "## step 6 : Create Model"
   ]
  },
  {
   "cell_type": "code",
   "execution_count": 11,
   "metadata": {},
   "outputs": [
    {
     "name": "stdout",
     "output_type": "stream",
     "text": [
      "WARNING:tensorflow:From /opt/conda/lib/python3.6/site-packages/tensorflow/python/framework/op_def_library.py:263: colocate_with (from tensorflow.python.framework.ops) is deprecated and will be removed in a future version.\n",
      "Instructions for updating:\n",
      "Colocations handled automatically by placer.\n"
     ]
    }
   ],
   "source": [
    "BATCH_SIZE = 256\n",
    "EPOCHS = 20\n",
    "LEARNING_RATE = 0.001\n",
    "model = Sequential()\n",
    "model.add(Dense(256, activation='relu', input_dim=train_df_scaled.shape[1], activity_regularizer=regularizers.l1(0.01)))\n",
    "model.add(BatchNormalization())\n",
    "model.add(Dense(128, activation='relu'))\n",
    "model.add(BatchNormalization())\n",
    "model.add(Dense(64, activation='relu'))\n",
    "model.add(BatchNormalization())\n",
    "model.add(Dense(32, activation='relu'))\n",
    "model.add(BatchNormalization())\n",
    "model.add(Dense(8, activation='relu'))\n",
    "model.add(BatchNormalization())\n",
    "model.add(Dense(1))\n",
    "adam = optimizers.Adam(lr=LEARNING_RATE)\n",
    "model.compile(loss='mse', optimizer=adam, metrics=['mae'])"
   ]
  },
  {
   "cell_type": "markdown",
   "metadata": {},
   "source": [
    "## step 7 : Training Model"
   ]
  },
  {
   "cell_type": "code",
   "execution_count": 12,
   "metadata": {},
   "outputs": [
    {
     "name": "stdout",
     "output_type": "stream",
     "text": [
      "WARNING:tensorflow:From /opt/conda/lib/python3.6/site-packages/tensorflow/python/ops/math_ops.py:3066: to_int32 (from tensorflow.python.ops.math_ops) is deprecated and will be removed in a future version.\n",
      "Instructions for updating:\n",
      "Use tf.cast instead.\n",
      "Train on 174183 samples, validate on 19354 samples\n",
      "Epoch 1/20\n",
      "174183/174183 [==============================] - 8s 44us/step - loss: 112.8801 - mean_absolute_error: 8.6156 - val_loss: 54.1128 - val_mean_absolute_error: 6.0884\n",
      "Epoch 2/20\n",
      "174183/174183 [==============================] - 6s 36us/step - loss: 23.3974 - mean_absolute_error: 2.8099 - val_loss: 19.4781 - val_mean_absolute_error: 2.3227\n",
      "Epoch 3/20\n",
      "174183/174183 [==============================] - 6s 36us/step - loss: 17.6263 - mean_absolute_error: 2.1492 - val_loss: 30.2136 - val_mean_absolute_error: 3.4657\n",
      "Epoch 4/20\n",
      "174183/174183 [==============================] - 6s 36us/step - loss: 17.0522 - mean_absolute_error: 2.1193 - val_loss: 40.1279 - val_mean_absolute_error: 4.2522\n",
      "Epoch 5/20\n",
      "174183/174183 [==============================] - 6s 36us/step - loss: 16.6406 - mean_absolute_error: 2.0951 - val_loss: 22.0725 - val_mean_absolute_error: 2.1854\n",
      "Epoch 6/20\n",
      "174183/174183 [==============================] - 6s 36us/step - loss: 16.4594 - mean_absolute_error: 2.0679 - val_loss: 32.0239 - val_mean_absolute_error: 3.6876\n",
      "Epoch 7/20\n",
      "174183/174183 [==============================] - 6s 36us/step - loss: 16.3087 - mean_absolute_error: 2.0649 - val_loss: 44.4119 - val_mean_absolute_error: 5.4533\n",
      "Epoch 8/20\n",
      "174183/174183 [==============================] - 7s 39us/step - loss: 16.0566 - mean_absolute_error: 2.0582 - val_loss: 40.5099 - val_mean_absolute_error: 4.9058\n",
      "Epoch 9/20\n",
      "174183/174183 [==============================] - 6s 37us/step - loss: 15.9213 - mean_absolute_error: 2.0373 - val_loss: 24.0010 - val_mean_absolute_error: 2.6346\n",
      "Epoch 10/20\n",
      "174183/174183 [==============================] - 6s 35us/step - loss: 15.9054 - mean_absolute_error: 2.0408 - val_loss: 61.2694 - val_mean_absolute_error: 6.7280\n",
      "Epoch 11/20\n",
      "174183/174183 [==============================] - 6s 35us/step - loss: 15.7257 - mean_absolute_error: 2.0288 - val_loss: 21.0877 - val_mean_absolute_error: 2.0438\n",
      "Epoch 12/20\n",
      "174183/174183 [==============================] - 6s 36us/step - loss: 15.7246 - mean_absolute_error: 2.0228 - val_loss: 25.5827 - val_mean_absolute_error: 2.6160\n",
      "Epoch 13/20\n",
      "174183/174183 [==============================] - 6s 34us/step - loss: 15.6767 - mean_absolute_error: 2.0195 - val_loss: 22.3666 - val_mean_absolute_error: 2.8535\n",
      "Epoch 14/20\n",
      "174183/174183 [==============================] - 6s 34us/step - loss: 15.6794 - mean_absolute_error: 2.0148 - val_loss: 23.6784 - val_mean_absolute_error: 2.6577\n",
      "Epoch 15/20\n",
      "174183/174183 [==============================] - 6s 34us/step - loss: 15.5901 - mean_absolute_error: 2.0212 - val_loss: 27.0123 - val_mean_absolute_error: 2.3042\n",
      "Epoch 16/20\n",
      "174183/174183 [==============================] - 6s 34us/step - loss: 15.5497 - mean_absolute_error: 2.0142 - val_loss: 32.2428 - val_mean_absolute_error: 3.8534\n",
      "Epoch 17/20\n",
      "174183/174183 [==============================] - 6s 35us/step - loss: 15.3342 - mean_absolute_error: 2.0116 - val_loss: 19.4021 - val_mean_absolute_error: 2.1015\n",
      "Epoch 18/20\n",
      "174183/174183 [==============================] - 6s 35us/step - loss: 15.4073 - mean_absolute_error: 2.0096 - val_loss: 23.3700 - val_mean_absolute_error: 2.7891\n",
      "Epoch 19/20\n",
      "174183/174183 [==============================] - 6s 35us/step - loss: 15.2891 - mean_absolute_error: 1.9934 - val_loss: 18.8880 - val_mean_absolute_error: 2.0045\n",
      "Epoch 20/20\n",
      "174183/174183 [==============================] - 6s 35us/step - loss: 15.1606 - mean_absolute_error: 1.9934 - val_loss: 24.5564 - val_mean_absolute_error: 2.9323\n"
     ]
    }
   ],
   "source": [
    "history = model.fit(x=train_df_scaled, y=train_labels, batch_size=BATCH_SIZE, epochs=EPOCHS, \n",
    "                    verbose=1, validation_data=(validation_df_scaled, validation_labels), \n",
    "                    shuffle=True)"
   ]
  },
  {
   "cell_type": "code",
   "execution_count": 13,
   "metadata": {},
   "outputs": [
    {
     "data": {
      "image/png": "[encoded data removed]",
      "text/plain": [
       "<Figure size 1440x720 with 1 Axes>"
      ]
     },
     "metadata": {},
     "output_type": "display_data"
    }
   ],
   "source": [
    "plt.figure(figsize=(20,10))\n",
    "plt.plot(history.history['loss'])\n",
    "plt.plot(history.history['val_loss'])\n",
    "plt.title('model loss')\n",
    "plt.ylabel('loss')\n",
    "plt.xlabel('epoch')\n",
    "plt.legend(['train', 'test'], loc='upper right')\n",
    "plt.show()"
   ]
  },
  {
   "cell_type": "code",
   "execution_count": 14,
   "metadata": {},
   "outputs": [
    {
     "name": "stdout",
     "output_type": "stream",
     "text": [
      "9914/9914 [==============================] - 0s 30us/step\n"
     ]
    }
   ],
   "source": [
    "prediction = model.predict(test_scaled, batch_size=128, verbose=1)"
   ]
  },
  {
   "cell_type": "code",
   "execution_count": 15,
   "metadata": {},
   "outputs": [
    {
     "name": "stdout",
     "output_type": "stream",
     "text": [
      "Output complete\n"
     ]
    }
   ],
   "source": [
    "def output_submission(raw_test, prediction, id_column, prediction_column, file_name):\n",
    "    df = pd.DataFrame(prediction, columns=[prediction_column])\n",
    "    df[id_column] = raw_test[id_column]\n",
    "    df[[id_column, prediction_column]].to_csv((file_name), index=False)\n",
    "    print('Output complete')\n",
    "output_submission(test, prediction, 'key', 'fare_amount', SUBMISSION_NAME)"
   ]
  },
  {
   "cell_type": "code",
   "execution_count": 16,
   "metadata": {},
   "outputs": [],
   "source": []
  }
 ],
 "metadata": {
  "kernelspec": {
   "display_name": "Python 3",
   "language": "python",
   "name": "python3"
  },
  "language_info": {
   "codemirror_mode": {
    "name": "ipython",
    "version": 3
   },
   "file_extension": ".py",
   "mimetype": "text/x-python",
   "name": "python",
   "nbconvert_exporter": "python",
   "pygments_lexer": "ipython3",
   "version": "3.6.4"
  }
 },
 "nbformat": 4,
 "nbformat_minor": 1
}
